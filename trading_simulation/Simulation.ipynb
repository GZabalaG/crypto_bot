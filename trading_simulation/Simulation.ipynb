{
 "cells": [
  {
   "cell_type": "markdown",
   "metadata": {},
   "source": [
    "# Simulator"
   ]
  },
  {
   "cell_type": "code",
   "execution_count": 1,
   "metadata": {},
   "outputs": [
    {
     "name": "stderr",
     "output_type": "stream",
     "text": [
      "Using TensorFlow backend.\n"
     ]
    }
   ],
   "source": [
    "import sys\n",
    "sys.path.insert(0, \"..\")\n",
    "import pandas as pd\n",
    "import matplotlib.pyplot as plt\n",
    "from trading_simulator import TradingSimulator, DLSimulator\n",
    "from dl_solutions.dlsolutions import CryptoDLSolutions\n",
    "from data_processor.data_processing import DataProcessor\n",
    "from utils.crypto_utils import ModelAnalysis"
   ]
  },
  {
   "cell_type": "markdown",
   "metadata": {},
   "source": [
    "## Classic"
   ]
  },
  {
   "cell_type": "markdown",
   "metadata": {},
   "source": [
    "### Data preparation"
   ]
  },
  {
   "cell_type": "code",
   "execution_count": null,
   "metadata": {},
   "outputs": [],
   "source": [
    "cryptos = ['ADA', 'BTC', 'ETH', 'LTC', 'LNK']\n",
    "sel = 0"
   ]
  },
  {
   "cell_type": "code",
   "execution_count": 12,
   "metadata": {},
   "outputs": [
    {
     "name": "stdout",
     "output_type": "stream",
     "text": [
      "Loading... ADA\n"
     ]
    },
    {
     "ename": "KeyboardInterrupt",
     "evalue": "",
     "output_type": "error",
     "traceback": [
      "\u001b[0;31m---------------------------------------------------------------------------\u001b[0m",
      "\u001b[0;31mKeyboardInterrupt\u001b[0m                         Traceback (most recent call last)",
      "\u001b[0;32m<ipython-input-12-40c2eaed53ec>\u001b[0m in \u001b[0;36m<module>\u001b[0;34m\u001b[0m\n\u001b[1;32m      2\u001b[0m     \u001b[0mprocessor\u001b[0m \u001b[0;34m=\u001b[0m \u001b[0mDataProcessor\u001b[0m\u001b[0;34m(\u001b[0m\u001b[0;34m[\u001b[0m\u001b[0mcrypto\u001b[0m\u001b[0;34m]\u001b[0m\u001b[0;34m)\u001b[0m\u001b[0;34m\u001b[0m\u001b[0;34m\u001b[0m\u001b[0m\n\u001b[1;32m      3\u001b[0m     \u001b[0msim\u001b[0m \u001b[0;34m=\u001b[0m \u001b[0mTradingSimulator\u001b[0m\u001b[0;34m(\u001b[0m\u001b[0mprocessor\u001b[0m\u001b[0;34m,\u001b[0m \u001b[0mcrypto\u001b[0m\u001b[0;34m,\u001b[0m \u001b[0mstrategy\u001b[0m \u001b[0;34m=\u001b[0m \u001b[0;34m[\u001b[0m\u001b[0;36m1\u001b[0m\u001b[0;34m,\u001b[0m \u001b[0;36m2\u001b[0m\u001b[0;34m,\u001b[0m \u001b[0;36m3\u001b[0m\u001b[0;34m,\u001b[0m \u001b[0;36m4\u001b[0m\u001b[0;34m,\u001b[0m \u001b[0;36m5\u001b[0m\u001b[0;34m,\u001b[0m \u001b[0;36m6\u001b[0m\u001b[0;34m,\u001b[0m \u001b[0;36m7\u001b[0m\u001b[0;34m]\u001b[0m\u001b[0;34m,\u001b[0m \u001b[0mloss_allowed\u001b[0m \u001b[0;34m=\u001b[0m \u001b[0;36m0.2\u001b[0m\u001b[0;34m,\u001b[0m \u001b[0mlog\u001b[0m \u001b[0;34m=\u001b[0m \u001b[0;32mFalse\u001b[0m\u001b[0;34m)\u001b[0m\u001b[0;34m\u001b[0m\u001b[0;34m\u001b[0m\u001b[0m\n\u001b[0;32m----> 4\u001b[0;31m     \u001b[0msim\u001b[0m\u001b[0;34m.\u001b[0m\u001b[0msimulate\u001b[0m\u001b[0;34m(\u001b[0m\u001b[0;34m)\u001b[0m\u001b[0;34m\u001b[0m\u001b[0;34m\u001b[0m\u001b[0m\n\u001b[0m",
      "\u001b[0;32m~/Documents/Master IA/AIMaster/TFM/Code/crypto_bot/trading_simulation/trading_simulator.py\u001b[0m in \u001b[0;36msimulate\u001b[0;34m(self)\u001b[0m\n\u001b[1;32m     53\u001b[0m         \u001b[0mprev_row\u001b[0m \u001b[0;34m=\u001b[0m \u001b[0mself\u001b[0m\u001b[0;34m.\u001b[0m\u001b[0mdf\u001b[0m\u001b[0;34m.\u001b[0m\u001b[0miloc\u001b[0m\u001b[0;34m[\u001b[0m\u001b[0;36m0\u001b[0m\u001b[0;34m]\u001b[0m\u001b[0;34m\u001b[0m\u001b[0;34m\u001b[0m\u001b[0m\n\u001b[1;32m     54\u001b[0m         \u001b[0;32mfor\u001b[0m \u001b[0mindex\u001b[0m\u001b[0;34m,\u001b[0m \u001b[0mrow\u001b[0m \u001b[0;32min\u001b[0m \u001b[0mself\u001b[0m\u001b[0;34m.\u001b[0m\u001b[0mdf\u001b[0m\u001b[0;34m.\u001b[0m\u001b[0miterrows\u001b[0m\u001b[0;34m(\u001b[0m\u001b[0;34m)\u001b[0m\u001b[0;34m:\u001b[0m\u001b[0;34m\u001b[0m\u001b[0;34m\u001b[0m\u001b[0m\n\u001b[0;32m---> 55\u001b[0;31m             \u001b[0mself\u001b[0m\u001b[0;34m.\u001b[0m\u001b[0mcheck_orders\u001b[0m\u001b[0;34m(\u001b[0m\u001b[0mrow\u001b[0m\u001b[0;34m[\u001b[0m\u001b[0;34m'close'\u001b[0m\u001b[0;34m]\u001b[0m\u001b[0;34m,\u001b[0m \u001b[0mrow\u001b[0m\u001b[0;34m[\u001b[0m\u001b[0;34m'date'\u001b[0m\u001b[0;34m]\u001b[0m\u001b[0;34m)\u001b[0m \u001b[0;31m# Comprueba si se realiza algún sell de alguna order previa\u001b[0m\u001b[0;34m\u001b[0m\u001b[0;34m\u001b[0m\u001b[0m\n\u001b[0m\u001b[1;32m     56\u001b[0m             \u001b[0;32mif\u001b[0m\u001b[0;34m(\u001b[0m\u001b[0mself\u001b[0m\u001b[0;34m.\u001b[0m\u001b[0mbalance\u001b[0m \u001b[0;34m>\u001b[0m \u001b[0;36m100\u001b[0m\u001b[0;34m)\u001b[0m\u001b[0;34m:\u001b[0m\u001b[0;34m\u001b[0m\u001b[0;34m\u001b[0m\u001b[0m\n\u001b[1;32m     57\u001b[0m                 \u001b[0mself\u001b[0m\u001b[0;34m.\u001b[0m\u001b[0mtrigger_strategy\u001b[0m\u001b[0;34m(\u001b[0m\u001b[0mprev_row\u001b[0m\u001b[0;34m,\u001b[0m \u001b[0mrow\u001b[0m\u001b[0;34m)\u001b[0m \u001b[0;31m# Comprueba si se realiza algún buy si se cumple alguna estrategia\u001b[0m\u001b[0;34m\u001b[0m\u001b[0;34m\u001b[0m\u001b[0m\n",
      "\u001b[0;32m~/Documents/Master IA/AIMaster/TFM/Code/crypto_bot/trading_simulation/trading_simulator.py\u001b[0m in \u001b[0;36mcheck_orders\u001b[0;34m(self, close, date)\u001b[0m\n\u001b[1;32m     97\u001b[0m         '''\n\u001b[1;32m     98\u001b[0m         \u001b[0;31m# if row stop loss order or take profit is met then apply balance changes and eliminate order\u001b[0m\u001b[0;34m\u001b[0m\u001b[0;34m\u001b[0m\u001b[0;34m\u001b[0m\u001b[0m\n\u001b[0;32m---> 99\u001b[0;31m         \u001b[0;32mfor\u001b[0m \u001b[0mindex\u001b[0m\u001b[0;34m,\u001b[0m \u001b[0morder\u001b[0m \u001b[0;32min\u001b[0m \u001b[0mself\u001b[0m\u001b[0;34m.\u001b[0m\u001b[0morders\u001b[0m\u001b[0;34m.\u001b[0m\u001b[0miterrows\u001b[0m\u001b[0;34m(\u001b[0m\u001b[0;34m)\u001b[0m\u001b[0;34m:\u001b[0m\u001b[0;34m\u001b[0m\u001b[0;34m\u001b[0m\u001b[0m\n\u001b[0m\u001b[1;32m    100\u001b[0m             \u001b[0;31m# update trailing stop loss strategy: subir stop loss si close price es menor de x%\u001b[0m\u001b[0;34m\u001b[0m\u001b[0;34m\u001b[0m\u001b[0;34m\u001b[0m\u001b[0m\n\u001b[1;32m    101\u001b[0m             \u001b[0;32mif\u001b[0m \u001b[0mself\u001b[0m\u001b[0;34m.\u001b[0m\u001b[0mstop_loss_take_profit_strategy\u001b[0m \u001b[0;34m==\u001b[0m \u001b[0;36m2\u001b[0m\u001b[0;34m:\u001b[0m\u001b[0;34m\u001b[0m\u001b[0;34m\u001b[0m\u001b[0m\n",
      "\u001b[0;32m~/opt/anaconda3/envs/tf/lib/python3.7/site-packages/pandas/core/frame.py\u001b[0m in \u001b[0;36miterrows\u001b[0;34m(self)\u001b[0m\n\u001b[1;32m   1069\u001b[0m         \u001b[0mklass\u001b[0m \u001b[0;34m=\u001b[0m \u001b[0mself\u001b[0m\u001b[0;34m.\u001b[0m\u001b[0m_constructor_sliced\u001b[0m\u001b[0;34m\u001b[0m\u001b[0;34m\u001b[0m\u001b[0m\n\u001b[1;32m   1070\u001b[0m         \u001b[0;32mfor\u001b[0m \u001b[0mk\u001b[0m\u001b[0;34m,\u001b[0m \u001b[0mv\u001b[0m \u001b[0;32min\u001b[0m \u001b[0mzip\u001b[0m\u001b[0;34m(\u001b[0m\u001b[0mself\u001b[0m\u001b[0;34m.\u001b[0m\u001b[0mindex\u001b[0m\u001b[0;34m,\u001b[0m \u001b[0mself\u001b[0m\u001b[0;34m.\u001b[0m\u001b[0mvalues\u001b[0m\u001b[0;34m)\u001b[0m\u001b[0;34m:\u001b[0m\u001b[0;34m\u001b[0m\u001b[0;34m\u001b[0m\u001b[0m\n\u001b[0;32m-> 1071\u001b[0;31m             \u001b[0ms\u001b[0m \u001b[0;34m=\u001b[0m \u001b[0mklass\u001b[0m\u001b[0;34m(\u001b[0m\u001b[0mv\u001b[0m\u001b[0;34m,\u001b[0m \u001b[0mindex\u001b[0m\u001b[0;34m=\u001b[0m\u001b[0mcolumns\u001b[0m\u001b[0;34m,\u001b[0m \u001b[0mname\u001b[0m\u001b[0;34m=\u001b[0m\u001b[0mk\u001b[0m\u001b[0;34m)\u001b[0m\u001b[0;34m\u001b[0m\u001b[0;34m\u001b[0m\u001b[0m\n\u001b[0m\u001b[1;32m   1072\u001b[0m             \u001b[0;32myield\u001b[0m \u001b[0mk\u001b[0m\u001b[0;34m,\u001b[0m \u001b[0ms\u001b[0m\u001b[0;34m\u001b[0m\u001b[0;34m\u001b[0m\u001b[0m\n\u001b[1;32m   1073\u001b[0m \u001b[0;34m\u001b[0m\u001b[0m\n",
      "\u001b[0;32m~/opt/anaconda3/envs/tf/lib/python3.7/site-packages/pandas/core/series.py\u001b[0m in \u001b[0;36m__init__\u001b[0;34m(self, data, index, dtype, name, copy, fastpath)\u001b[0m\n\u001b[1;32m    367\u001b[0m \u001b[0;34m\u001b[0m\u001b[0m\n\u001b[1;32m    368\u001b[0m         \u001b[0mgeneric\u001b[0m\u001b[0;34m.\u001b[0m\u001b[0mNDFrame\u001b[0m\u001b[0;34m.\u001b[0m\u001b[0m__init__\u001b[0m\u001b[0;34m(\u001b[0m\u001b[0mself\u001b[0m\u001b[0;34m,\u001b[0m \u001b[0mdata\u001b[0m\u001b[0;34m)\u001b[0m\u001b[0;34m\u001b[0m\u001b[0;34m\u001b[0m\u001b[0m\n\u001b[0;32m--> 369\u001b[0;31m         \u001b[0mself\u001b[0m\u001b[0;34m.\u001b[0m\u001b[0mname\u001b[0m \u001b[0;34m=\u001b[0m \u001b[0mname\u001b[0m\u001b[0;34m\u001b[0m\u001b[0;34m\u001b[0m\u001b[0m\n\u001b[0m\u001b[1;32m    370\u001b[0m         \u001b[0mself\u001b[0m\u001b[0;34m.\u001b[0m\u001b[0m_set_axis\u001b[0m\u001b[0;34m(\u001b[0m\u001b[0;36m0\u001b[0m\u001b[0;34m,\u001b[0m \u001b[0mindex\u001b[0m\u001b[0;34m,\u001b[0m \u001b[0mfastpath\u001b[0m\u001b[0;34m=\u001b[0m\u001b[0;32mTrue\u001b[0m\u001b[0;34m)\u001b[0m\u001b[0;34m\u001b[0m\u001b[0;34m\u001b[0m\u001b[0m\n\u001b[1;32m    371\u001b[0m \u001b[0;34m\u001b[0m\u001b[0m\n",
      "\u001b[0;32m~/opt/anaconda3/envs/tf/lib/python3.7/site-packages/pandas/core/generic.py\u001b[0m in \u001b[0;36m__setattr__\u001b[0;34m(self, name, value)\u001b[0m\n\u001b[1;32m   5475\u001b[0m \u001b[0;34m\u001b[0m\u001b[0m\n\u001b[1;32m   5476\u001b[0m         \u001b[0;32mtry\u001b[0m\u001b[0;34m:\u001b[0m\u001b[0;34m\u001b[0m\u001b[0;34m\u001b[0m\u001b[0m\n\u001b[0;32m-> 5477\u001b[0;31m             \u001b[0mobject\u001b[0m\u001b[0;34m.\u001b[0m\u001b[0m__getattribute__\u001b[0m\u001b[0;34m(\u001b[0m\u001b[0mself\u001b[0m\u001b[0;34m,\u001b[0m \u001b[0mname\u001b[0m\u001b[0;34m)\u001b[0m\u001b[0;34m\u001b[0m\u001b[0;34m\u001b[0m\u001b[0m\n\u001b[0m\u001b[1;32m   5478\u001b[0m             \u001b[0;32mreturn\u001b[0m \u001b[0mobject\u001b[0m\u001b[0;34m.\u001b[0m\u001b[0m__setattr__\u001b[0m\u001b[0;34m(\u001b[0m\u001b[0mself\u001b[0m\u001b[0;34m,\u001b[0m \u001b[0mname\u001b[0m\u001b[0;34m,\u001b[0m \u001b[0mvalue\u001b[0m\u001b[0;34m)\u001b[0m\u001b[0;34m\u001b[0m\u001b[0;34m\u001b[0m\u001b[0m\n\u001b[1;32m   5479\u001b[0m         \u001b[0;32mexcept\u001b[0m \u001b[0mAttributeError\u001b[0m\u001b[0;34m:\u001b[0m\u001b[0;34m\u001b[0m\u001b[0;34m\u001b[0m\u001b[0m\n",
      "\u001b[0;32m~/opt/anaconda3/envs/tf/lib/python3.7/site-packages/pandas/core/series.py\u001b[0m in \u001b[0;36mname\u001b[0;34m(self)\u001b[0m\n\u001b[1;32m    534\u001b[0m         \u001b[0;34m'Even Numbers'\u001b[0m\u001b[0;34m\u001b[0m\u001b[0;34m\u001b[0m\u001b[0m\n\u001b[1;32m    535\u001b[0m         \"\"\"\n\u001b[0;32m--> 536\u001b[0;31m         \u001b[0;32mreturn\u001b[0m \u001b[0mself\u001b[0m\u001b[0;34m.\u001b[0m\u001b[0m_name\u001b[0m\u001b[0;34m\u001b[0m\u001b[0;34m\u001b[0m\u001b[0m\n\u001b[0m\u001b[1;32m    537\u001b[0m \u001b[0;34m\u001b[0m\u001b[0m\n\u001b[1;32m    538\u001b[0m     \u001b[0;34m@\u001b[0m\u001b[0mname\u001b[0m\u001b[0;34m.\u001b[0m\u001b[0msetter\u001b[0m\u001b[0;34m\u001b[0m\u001b[0;34m\u001b[0m\u001b[0m\n",
      "\u001b[0;32m~/opt/anaconda3/envs/tf/lib/python3.7/site-packages/pandas/core/generic.py\u001b[0m in \u001b[0;36m__getattr__\u001b[0;34m(self, name)\u001b[0m\n\u001b[1;32m   5447\u001b[0m         \u001b[0;32mreturn\u001b[0m \u001b[0mself\u001b[0m\u001b[0;34m\u001b[0m\u001b[0;34m\u001b[0m\u001b[0m\n\u001b[1;32m   5448\u001b[0m \u001b[0;34m\u001b[0m\u001b[0m\n\u001b[0;32m-> 5449\u001b[0;31m     \u001b[0;32mdef\u001b[0m \u001b[0m__getattr__\u001b[0m\u001b[0;34m(\u001b[0m\u001b[0mself\u001b[0m\u001b[0;34m,\u001b[0m \u001b[0mname\u001b[0m\u001b[0;34m:\u001b[0m \u001b[0mstr\u001b[0m\u001b[0;34m)\u001b[0m\u001b[0;34m:\u001b[0m\u001b[0;34m\u001b[0m\u001b[0;34m\u001b[0m\u001b[0m\n\u001b[0m\u001b[1;32m   5450\u001b[0m         \"\"\"\n\u001b[1;32m   5451\u001b[0m         \u001b[0mAfter\u001b[0m \u001b[0mregular\u001b[0m \u001b[0mattribute\u001b[0m \u001b[0maccess\u001b[0m\u001b[0;34m,\u001b[0m \u001b[0;32mtry\u001b[0m \u001b[0mlooking\u001b[0m \u001b[0mup\u001b[0m \u001b[0mthe\u001b[0m \u001b[0mname\u001b[0m\u001b[0;34m\u001b[0m\u001b[0;34m\u001b[0m\u001b[0m\n",
      "\u001b[0;31mKeyboardInterrupt\u001b[0m: "
     ]
    }
   ],
   "source": [
    "for crypto in cryptos:\n",
    "    processor = DataProcessor([crypto])\n",
    "    sim = TradingSimulator(processor, crypto, strategy = [1, 2, 3, 4, 5, 6, 7], loss_allowed = 0.2, log = False)\n",
    "    sim.simulate()"
   ]
  },
  {
   "cell_type": "code",
   "execution_count": null,
   "metadata": {},
   "outputs": [],
   "source": [
    "processor = DataProcessor([crypto])\n",
    "sim1 = TradingSimulator(processor, crypto, strategy = [1], loss_allowed = 0.2)\n",
    "sim2 = TradingSimulator(processor, crypto, strategy = [2], loss_allowed = 0.2)\n",
    "sim3 = TradingSimulator(processor, crypto, strategy = [3], loss_allowed = 0.2)\n",
    "sim4 = TradingSimulator(processor, crypto, strategy = [4], loss_allowed = 0.2)\n",
    "sim5 = TradingSimulator(processor, crypto, strategy = [5], loss_allowed = 0.2)\n",
    "sim6 = TradingSimulator(processor, crypto, strategy = [6], loss_allowed = 0.2)\n",
    "sim6 = TradingSimulator(processor, crypto, strategy = [7], loss_allowed = 0.2)\n",
    "sim7 = TradingSimulator(processor, crypto, strategy = [1, 2, 3, 4, 5, 6, 7], loss_allowed = 0.2)"
   ]
  },
  {
   "cell_type": "markdown",
   "metadata": {},
   "source": [
    "### Simulations"
   ]
  },
  {
   "cell_type": "code",
   "execution_count": null,
   "metadata": {},
   "outputs": [],
   "source": [
    "sim1.simulate()"
   ]
  },
  {
   "cell_type": "code",
   "execution_count": null,
   "metadata": {},
   "outputs": [],
   "source": [
    "sim2.simulate()"
   ]
  },
  {
   "cell_type": "code",
   "execution_count": null,
   "metadata": {},
   "outputs": [],
   "source": [
    "sim3.simulate()"
   ]
  },
  {
   "cell_type": "code",
   "execution_count": null,
   "metadata": {},
   "outputs": [],
   "source": [
    "sim4.simulate()"
   ]
  },
  {
   "cell_type": "code",
   "execution_count": null,
   "metadata": {},
   "outputs": [],
   "source": [
    "sim5.simulate()"
   ]
  },
  {
   "cell_type": "code",
   "execution_count": null,
   "metadata": {},
   "outputs": [],
   "source": [
    "sim6.simulate()"
   ]
  },
  {
   "cell_type": "code",
   "execution_count": null,
   "metadata": {},
   "outputs": [],
   "source": [
    "sim7.simulate()"
   ]
  },
  {
   "cell_type": "markdown",
   "metadata": {},
   "source": [
    "## DL Solution"
   ]
  },
  {
   "cell_type": "code",
   "execution_count": 2,
   "metadata": {},
   "outputs": [],
   "source": [
    "model_analysis = ModelAnalysis()"
   ]
  },
  {
   "cell_type": "markdown",
   "metadata": {},
   "source": [
    "### Data preparation"
   ]
  },
  {
   "cell_type": "code",
   "execution_count": 3,
   "metadata": {},
   "outputs": [
    {
     "name": "stdout",
     "output_type": "stream",
     "text": [
      "Loading... ETH\n",
      "Extracting columns columns for ETH\n",
      "Proccessing and arranging columns for LSTM model\n"
     ]
    },
    {
     "data": {
      "text/html": [
       "<div>\n",
       "<style scoped>\n",
       "    .dataframe tbody tr th:only-of-type {\n",
       "        vertical-align: middle;\n",
       "    }\n",
       "\n",
       "    .dataframe tbody tr th {\n",
       "        vertical-align: top;\n",
       "    }\n",
       "\n",
       "    .dataframe thead th {\n",
       "        text-align: right;\n",
       "    }\n",
       "</style>\n",
       "<table border=\"1\" class=\"dataframe\">\n",
       "  <thead>\n",
       "    <tr style=\"text-align: right;\">\n",
       "      <th></th>\n",
       "      <th>close_4</th>\n",
       "      <th>RSI_4</th>\n",
       "      <th>close_3</th>\n",
       "      <th>RSI_3</th>\n",
       "      <th>close_2</th>\n",
       "      <th>RSI_2</th>\n",
       "      <th>close_1</th>\n",
       "      <th>RSI_1</th>\n",
       "      <th>close_0</th>\n",
       "      <th>RSI_0</th>\n",
       "      <th>close</th>\n",
       "      <th>RSI</th>\n",
       "    </tr>\n",
       "  </thead>\n",
       "  <tbody>\n",
       "    <tr>\n",
       "      <th>142</th>\n",
       "      <td>754.99</td>\n",
       "      <td>51.874455</td>\n",
       "      <td>855.28</td>\n",
       "      <td>64.086633</td>\n",
       "      <td>934.03</td>\n",
       "      <td>70.431522</td>\n",
       "      <td>940.00</td>\n",
       "      <td>70.851945</td>\n",
       "      <td>959.30</td>\n",
       "      <td>72.226781</td>\n",
       "      <td>1271.00</td>\n",
       "      <td>66.121951</td>\n",
       "    </tr>\n",
       "    <tr>\n",
       "      <th>143</th>\n",
       "      <td>855.28</td>\n",
       "      <td>64.086633</td>\n",
       "      <td>934.03</td>\n",
       "      <td>70.431522</td>\n",
       "      <td>940.00</td>\n",
       "      <td>70.851945</td>\n",
       "      <td>959.30</td>\n",
       "      <td>72.226781</td>\n",
       "      <td>1004.11</td>\n",
       "      <td>75.156684</td>\n",
       "      <td>1000.00</td>\n",
       "      <td>48.819684</td>\n",
       "    </tr>\n",
       "    <tr>\n",
       "      <th>144</th>\n",
       "      <td>934.03</td>\n",
       "      <td>70.431522</td>\n",
       "      <td>940.00</td>\n",
       "      <td>70.851945</td>\n",
       "      <td>959.30</td>\n",
       "      <td>72.226781</td>\n",
       "      <td>1004.11</td>\n",
       "      <td>75.156684</td>\n",
       "      <td>1123.09</td>\n",
       "      <td>80.914056</td>\n",
       "      <td>1000.00</td>\n",
       "      <td>48.819684</td>\n",
       "    </tr>\n",
       "    <tr>\n",
       "      <th>145</th>\n",
       "      <td>940.00</td>\n",
       "      <td>70.851945</td>\n",
       "      <td>959.30</td>\n",
       "      <td>72.226781</td>\n",
       "      <td>1004.11</td>\n",
       "      <td>75.156684</td>\n",
       "      <td>1123.09</td>\n",
       "      <td>80.914056</td>\n",
       "      <td>1133.18</td>\n",
       "      <td>81.309636</td>\n",
       "      <td>994.00</td>\n",
       "      <td>48.493851</td>\n",
       "    </tr>\n",
       "    <tr>\n",
       "      <th>146</th>\n",
       "      <td>959.30</td>\n",
       "      <td>72.226781</td>\n",
       "      <td>1004.11</td>\n",
       "      <td>75.156684</td>\n",
       "      <td>1123.09</td>\n",
       "      <td>80.914056</td>\n",
       "      <td>1133.18</td>\n",
       "      <td>81.309636</td>\n",
       "      <td>1291.00</td>\n",
       "      <td>86.146268</td>\n",
       "      <td>1032.50</td>\n",
       "      <td>50.764615</td>\n",
       "    </tr>\n",
       "    <tr>\n",
       "      <th>...</th>\n",
       "      <td>...</td>\n",
       "      <td>...</td>\n",
       "      <td>...</td>\n",
       "      <td>...</td>\n",
       "      <td>...</td>\n",
       "      <td>...</td>\n",
       "      <td>...</td>\n",
       "      <td>...</td>\n",
       "      <td>...</td>\n",
       "      <td>...</td>\n",
       "      <td>...</td>\n",
       "      <td>...</td>\n",
       "    </tr>\n",
       "    <tr>\n",
       "      <th>1583</th>\n",
       "      <td>4130.00</td>\n",
       "      <td>46.707531</td>\n",
       "      <td>3781.93</td>\n",
       "      <td>39.777252</td>\n",
       "      <td>3858.99</td>\n",
       "      <td>41.834910</td>\n",
       "      <td>4019.08</td>\n",
       "      <td>45.965427</td>\n",
       "      <td>3958.11</td>\n",
       "      <td>44.664534</td>\n",
       "      <td>4063.56</td>\n",
       "      <td>49.043455</td>\n",
       "    </tr>\n",
       "    <tr>\n",
       "      <th>1584</th>\n",
       "      <td>3781.93</td>\n",
       "      <td>39.777252</td>\n",
       "      <td>3858.99</td>\n",
       "      <td>41.834910</td>\n",
       "      <td>4019.08</td>\n",
       "      <td>45.965427</td>\n",
       "      <td>3958.11</td>\n",
       "      <td>44.664534</td>\n",
       "      <td>3875.42</td>\n",
       "      <td>42.891556</td>\n",
       "      <td>4037.23</td>\n",
       "      <td>48.110387</td>\n",
       "    </tr>\n",
       "    <tr>\n",
       "      <th>1585</th>\n",
       "      <td>3858.99</td>\n",
       "      <td>41.834910</td>\n",
       "      <td>4019.08</td>\n",
       "      <td>45.965427</td>\n",
       "      <td>3958.11</td>\n",
       "      <td>44.664534</td>\n",
       "      <td>3875.42</td>\n",
       "      <td>42.891556</td>\n",
       "      <td>3959.93</td>\n",
       "      <td>45.282169</td>\n",
       "      <td>3792.75</td>\n",
       "      <td>40.420633</td>\n",
       "    </tr>\n",
       "    <tr>\n",
       "      <th>1586</th>\n",
       "      <td>4019.08</td>\n",
       "      <td>45.965427</td>\n",
       "      <td>3958.11</td>\n",
       "      <td>44.664534</td>\n",
       "      <td>3875.42</td>\n",
       "      <td>42.891556</td>\n",
       "      <td>3959.93</td>\n",
       "      <td>45.282169</td>\n",
       "      <td>3924.14</td>\n",
       "      <td>44.433846</td>\n",
       "      <td>3630.19</td>\n",
       "      <td>36.269469</td>\n",
       "    </tr>\n",
       "    <tr>\n",
       "      <th>1587</th>\n",
       "      <td>3958.11</td>\n",
       "      <td>44.664534</td>\n",
       "      <td>3875.42</td>\n",
       "      <td>42.891556</td>\n",
       "      <td>3959.93</td>\n",
       "      <td>45.282169</td>\n",
       "      <td>3924.14</td>\n",
       "      <td>44.433846</td>\n",
       "      <td>3944.73</td>\n",
       "      <td>45.071392</td>\n",
       "      <td>3709.27</td>\n",
       "      <td>39.523282</td>\n",
       "    </tr>\n",
       "  </tbody>\n",
       "</table>\n",
       "<p>1446 rows × 12 columns</p>\n",
       "</div>"
      ],
      "text/plain": [
       "      close_4      RSI_4  close_3      RSI_3  close_2      RSI_2  close_1  \\\n",
       "142    754.99  51.874455   855.28  64.086633   934.03  70.431522   940.00   \n",
       "143    855.28  64.086633   934.03  70.431522   940.00  70.851945   959.30   \n",
       "144    934.03  70.431522   940.00  70.851945   959.30  72.226781  1004.11   \n",
       "145    940.00  70.851945   959.30  72.226781  1004.11  75.156684  1123.09   \n",
       "146    959.30  72.226781  1004.11  75.156684  1123.09  80.914056  1133.18   \n",
       "...       ...        ...      ...        ...      ...        ...      ...   \n",
       "1583  4130.00  46.707531  3781.93  39.777252  3858.99  41.834910  4019.08   \n",
       "1584  3781.93  39.777252  3858.99  41.834910  4019.08  45.965427  3958.11   \n",
       "1585  3858.99  41.834910  4019.08  45.965427  3958.11  44.664534  3875.42   \n",
       "1586  4019.08  45.965427  3958.11  44.664534  3875.42  42.891556  3959.93   \n",
       "1587  3958.11  44.664534  3875.42  42.891556  3959.93  45.282169  3924.14   \n",
       "\n",
       "          RSI_1  close_0      RSI_0    close        RSI  \n",
       "142   70.851945   959.30  72.226781  1271.00  66.121951  \n",
       "143   72.226781  1004.11  75.156684  1000.00  48.819684  \n",
       "144   75.156684  1123.09  80.914056  1000.00  48.819684  \n",
       "145   80.914056  1133.18  81.309636   994.00  48.493851  \n",
       "146   81.309636  1291.00  86.146268  1032.50  50.764615  \n",
       "...         ...      ...        ...      ...        ...  \n",
       "1583  45.965427  3958.11  44.664534  4063.56  49.043455  \n",
       "1584  44.664534  3875.42  42.891556  4037.23  48.110387  \n",
       "1585  42.891556  3959.93  45.282169  3792.75  40.420633  \n",
       "1586  45.282169  3924.14  44.433846  3630.19  36.269469  \n",
       "1587  44.433846  3944.73  45.071392  3709.27  39.523282  \n",
       "\n",
       "[1446 rows x 12 columns]"
      ]
     },
     "execution_count": 3,
     "metadata": {},
     "output_type": "execute_result"
    }
   ],
   "source": [
    "crypto = 'ETH'\n",
    "periods_to_retraining = 1\n",
    "prev_periods = 5\n",
    "pred_periods = 10\n",
    "model_selector = 'lstm'\n",
    "columns = ['RSI', 'close']\n",
    "#columns = ['weekday_num', 'RSI', 'MACD', 'close']\n",
    "#columns = ['RSI', 'MACD', 'close']\n",
    "#columns = ['mon', 'tue', 'wed', 'thu', 'fri', 'sat', 'sun', 'RSI', 'MACD', 'close']\n",
    "#columns = ['SO_K', 'SMA 50', 'SMA 200', 'close']\n",
    "#columns = ['close']\n",
    "num_features = len(columns)\n",
    "target = None\n",
    "#target = 'close'\n",
    "\n",
    "norm_strat = 2\n",
    "model_sel = 0\n",
    "layers = 3\n",
    "neurons = [50, 50, 50, 50]\n",
    "batch_size = 64\n",
    "epochs = 10\n",
    "activations = ['relu', 'sigmoid']\n",
    "losses = ['mse', 'binary_crossentropy']\n",
    "activation = 'relu'\n",
    "loss = 'mse'\n",
    "metrics = ['mse']\n",
    "optimizer = 'adam'\n",
    "initial_learning_rate = 0.01\n",
    "\n",
    "processor = DataProcessor([crypto])\n",
    "sim = DLSimulator(crypto, prev_periods, pred_periods, columns, target,\n",
    "norm_strat, model_sel, layers, neurons, batch_size, epochs, \n",
    "activation, loss, metrics, optimizer, initial_learning_rate)\n",
    "\n",
    "#sim.simulate()\n",
    "df_train = sim.get_df().iloc[:-1]\n",
    "df_test = sim.get_df().iloc[-1:]\n",
    "\n",
    "df_train"
   ]
  },
  {
   "cell_type": "markdown",
   "metadata": {},
   "source": [
    "### DL parameters and training\n",
    "\n",
    "Creation of different strategies:\n",
    "\n",
    "- Based on result\n",
    "- Based on close/indicators\n",
    "- Try with different close distances\n",
    "- Multioutput\n",
    "- Based on multiple operation (softmax)"
   ]
  },
  {
   "cell_type": "code",
   "execution_count": 4,
   "metadata": {},
   "outputs": [
    {
     "name": "stdout",
     "output_type": "stream",
     "text": [
      "Input shape: (1446, 5, 2) (1446, 2) (0, 5, 2) (0, 2)\n",
      "Y shape (1446, 2)\n",
      "Train on 1446 samples, validate on 73 samples\n",
      "Epoch 1/10\n",
      " - 9s - loss: 0.0837 - mse: 0.0837 - val_loss: 0.2307 - val_mse: 0.2307\n",
      "Epoch 2/10\n",
      " - 1s - loss: 0.0677 - mse: 0.0677 - val_loss: 0.2142 - val_mse: 0.2142\n",
      "Epoch 3/10\n",
      " - 1s - loss: 0.0572 - mse: 0.0572 - val_loss: 0.2143 - val_mse: 0.2143\n",
      "Epoch 4/10\n",
      " - 1s - loss: 0.0480 - mse: 0.0480 - val_loss: 0.1780 - val_mse: 0.1780\n",
      "Epoch 5/10\n",
      " - 2s - loss: 0.0436 - mse: 0.0436 - val_loss: 0.1207 - val_mse: 0.1207\n",
      "Epoch 6/10\n",
      " - 1s - loss: 0.0344 - mse: 0.0344 - val_loss: 0.0524 - val_mse: 0.0524\n",
      "Epoch 7/10\n",
      " - 1s - loss: 0.0244 - mse: 0.0244 - val_loss: 0.0094 - val_mse: 0.0094\n",
      "Epoch 8/10\n",
      " - 1s - loss: 0.0279 - mse: 0.0279 - val_loss: 0.0192 - val_mse: 0.0192\n",
      "Epoch 9/10\n",
      " - 1s - loss: 0.0500 - mse: 0.0500 - val_loss: 0.1822 - val_mse: 0.1822\n",
      "Epoch 10/10\n",
      " - 1s - loss: 0.0305 - mse: 0.0305 - val_loss: 0.0205 - val_mse: 0.0205\n"
     ]
    }
   ],
   "source": [
    "sim.train_model(df_train)"
   ]
  },
  {
   "cell_type": "markdown",
   "metadata": {},
   "source": [
    "### Test"
   ]
  },
  {
   "cell_type": "code",
   "execution_count": 5,
   "metadata": {},
   "outputs": [
    {
     "data": {
      "text/html": [
       "<div>\n",
       "<style scoped>\n",
       "    .dataframe tbody tr th:only-of-type {\n",
       "        vertical-align: middle;\n",
       "    }\n",
       "\n",
       "    .dataframe tbody tr th {\n",
       "        vertical-align: top;\n",
       "    }\n",
       "\n",
       "    .dataframe thead th {\n",
       "        text-align: right;\n",
       "    }\n",
       "</style>\n",
       "<table border=\"1\" class=\"dataframe\">\n",
       "  <thead>\n",
       "    <tr style=\"text-align: right;\">\n",
       "      <th></th>\n",
       "      <th>close_4</th>\n",
       "      <th>RSI_4</th>\n",
       "      <th>close_3</th>\n",
       "      <th>RSI_3</th>\n",
       "      <th>close_2</th>\n",
       "      <th>RSI_2</th>\n",
       "      <th>close_1</th>\n",
       "      <th>RSI_1</th>\n",
       "      <th>close_0</th>\n",
       "      <th>RSI_0</th>\n",
       "      <th>close</th>\n",
       "      <th>RSI</th>\n",
       "    </tr>\n",
       "  </thead>\n",
       "  <tbody>\n",
       "    <tr>\n",
       "      <th>1588</th>\n",
       "      <td>3875.42</td>\n",
       "      <td>42.891556</td>\n",
       "      <td>3959.93</td>\n",
       "      <td>45.282169</td>\n",
       "      <td>3924.14</td>\n",
       "      <td>44.433846</td>\n",
       "      <td>3944.73</td>\n",
       "      <td>45.071392</td>\n",
       "      <td>4014.15</td>\n",
       "      <td>47.268176</td>\n",
       "      <td>3725.46</td>\n",
       "      <td>40.196471</td>\n",
       "    </tr>\n",
       "  </tbody>\n",
       "</table>\n",
       "</div>"
      ],
      "text/plain": [
       "      close_4      RSI_4  close_3      RSI_3  close_2      RSI_2  close_1  \\\n",
       "1588  3875.42  42.891556  3959.93  45.282169  3924.14  44.433846  3944.73   \n",
       "\n",
       "          RSI_1  close_0      RSI_0    close        RSI  \n",
       "1588  45.071392  4014.15  47.268176  3725.46  40.196471  "
      ]
     },
     "execution_count": 5,
     "metadata": {},
     "output_type": "execute_result"
    }
   ],
   "source": [
    "df_test"
   ]
  },
  {
   "cell_type": "code",
   "execution_count": 6,
   "metadata": {},
   "outputs": [
    {
     "name": "stdout",
     "output_type": "stream",
     "text": [
      "real [[3725.46         40.19647068]]\n",
      "Test RMSE: 112.196\n",
      "Predictions [[3883.81541054   50.17730099]]\n"
     ]
    }
   ],
   "source": [
    "pred = sim.predict(pd.DataFrame(df_test))\n",
    "print('Predictions', pred)"
   ]
  },
  {
   "cell_type": "code",
   "execution_count": 7,
   "metadata": {},
   "outputs": [
    {
     "data": {
      "image/png": "[encoded data removed]",
      "text/plain": [
       "<Figure size 432x288 with 1 Axes>"
      ]
     },
     "metadata": {
      "needs_background": "light"
     },
     "output_type": "display_data"
    }
   ],
   "source": [
    "h = sim.get_history()\n",
    "\n",
    "model_analysis.draw_history(h)"
   ]
  },
  {
   "cell_type": "markdown",
   "metadata": {},
   "source": [
    "#### LSTM"
   ]
  },
  {
   "cell_type": "markdown",
   "metadata": {},
   "source": [
    "##### Multiples features"
   ]
  },
  {
   "cell_type": "markdown",
   "metadata": {},
   "source": [
    "Periods analysis\n",
    "\n",
    "- Different previous periods used\n",
    "- Different number of future periods to predict\n",
    "\n",
    "For each period parameters used:\n",
    "\n",
    "- Different metrics used\n",
    "- Different hiper parameters\n",
    "    - Different stretegies"
   ]
  },
  {
   "cell_type": "markdown",
   "metadata": {},
   "source": [
    "##### One line feature"
   ]
  },
  {
   "cell_type": "markdown",
   "metadata": {},
   "source": [
    "#### GRU"
   ]
  },
  {
   "cell_type": "markdown",
   "metadata": {},
   "source": [
    "## Complete simulation\n",
    "\n",
    "Complete strategy definition. Let the machine work through all the dataset"
   ]
  }
 ],
 "metadata": {
  "interpreter": {
   "hash": "5a26509f1ebfbe58e5b9c0be862da0478dce684822429b8f32e207fdb3de41b0"
  },
  "kernelspec": {
   "display_name": "Python 3.7.9 64-bit ('tf': conda)",
   "language": "python",
   "name": "python3"
  },
  "language_info": {
   "codemirror_mode": {
    "name": "ipython",
    "version": 3
   },
   "file_extension": ".py",
   "mimetype": "text/x-python",
   "name": "python",
   "nbconvert_exporter": "python",
   "pygments_lexer": "ipython3",
   "version": "3.7.9"
  },
  "orig_nbformat": 4
 },
 "nbformat": 4,
 "nbformat_minor": 2
}
