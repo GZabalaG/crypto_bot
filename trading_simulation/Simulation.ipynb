{
 "cells": [
  {
   "cell_type": "markdown",
   "metadata": {},
   "source": [
    "# Simulator"
   ]
  },
  {
   "cell_type": "code",
   "execution_count": 2,
   "metadata": {},
   "outputs": [
    {
     "name": "stderr",
     "output_type": "stream",
     "text": [
      "Using TensorFlow backend.\n"
     ]
    }
   ],
   "source": [
    "import sys\n",
    "sys.path.insert(0, \"..\")\n",
    "import pandas as pd\n",
    "import matplotlib.pyplot as plt\n",
    "from trading_simulator import TradingSimulator, DLSimulator\n",
    "from dl_solutions.dlsolutions import CryptoDLSolutions\n",
    "from data_processor.data_processing import DataProcessor\n",
    "from utils.crypto_utils import ModelAnalysis\n",
    "from keras import optimizers"
   ]
  },
  {
   "cell_type": "markdown",
   "metadata": {},
   "source": [
    "## Classic"
   ]
  },
  {
   "cell_type": "markdown",
   "metadata": {},
   "source": [
    "### Data preparation"
   ]
  },
  {
   "cell_type": "code",
   "execution_count": null,
   "metadata": {},
   "outputs": [],
   "source": [
    "cryptos = ['ADA', 'BTC', 'ETH', 'LTC', 'LNK']\n",
    "sel = 0"
   ]
  },
  {
   "cell_type": "code",
   "execution_count": null,
   "metadata": {},
   "outputs": [],
   "source": [
    "for crypto in cryptos:\n",
    "    processor = DataProcessor([crypto])\n",
    "    sim = TradingSimulator(processor, crypto, strategy = [1, 2, 3, 4, 5, 6, 7], loss_allowed = 0.2, log = False)\n",
    "    sim.simulate()"
   ]
  },
  {
   "cell_type": "code",
   "execution_count": null,
   "metadata": {},
   "outputs": [],
   "source": [
    "processor = DataProcessor([crypto])\n",
    "sim1 = TradingSimulator(processor, crypto, strategy = [1], loss_allowed = 0.2)\n",
    "sim2 = TradingSimulator(processor, crypto, strategy = [2], loss_allowed = 0.2)\n",
    "sim3 = TradingSimulator(processor, crypto, strategy = [3], loss_allowed = 0.2)\n",
    "sim4 = TradingSimulator(processor, crypto, strategy = [4], loss_allowed = 0.2)\n",
    "sim5 = TradingSimulator(processor, crypto, strategy = [5], loss_allowed = 0.2)\n",
    "sim6 = TradingSimulator(processor, crypto, strategy = [6], loss_allowed = 0.2)\n",
    "sim6 = TradingSimulator(processor, crypto, strategy = [7], loss_allowed = 0.2)\n",
    "sim7 = TradingSimulator(processor, crypto, strategy = [1, 2, 3, 4, 5, 6, 7], loss_allowed = 0.2)"
   ]
  },
  {
   "cell_type": "markdown",
   "metadata": {},
   "source": [
    "### Simulations"
   ]
  },
  {
   "cell_type": "code",
   "execution_count": null,
   "metadata": {},
   "outputs": [],
   "source": [
    "sim1.simulate()"
   ]
  },
  {
   "cell_type": "code",
   "execution_count": null,
   "metadata": {},
   "outputs": [],
   "source": [
    "sim2.simulate()"
   ]
  },
  {
   "cell_type": "code",
   "execution_count": null,
   "metadata": {},
   "outputs": [],
   "source": [
    "sim3.simulate()"
   ]
  },
  {
   "cell_type": "code",
   "execution_count": null,
   "metadata": {},
   "outputs": [],
   "source": [
    "sim4.simulate()"
   ]
  },
  {
   "cell_type": "code",
   "execution_count": null,
   "metadata": {},
   "outputs": [],
   "source": [
    "sim5.simulate()"
   ]
  },
  {
   "cell_type": "code",
   "execution_count": null,
   "metadata": {},
   "outputs": [],
   "source": [
    "sim6.simulate()"
   ]
  },
  {
   "cell_type": "code",
   "execution_count": null,
   "metadata": {},
   "outputs": [],
   "source": [
    "sim7.simulate()"
   ]
  },
  {
   "cell_type": "markdown",
   "metadata": {},
   "source": [
    "## DL Solution"
   ]
  },
  {
   "cell_type": "code",
   "execution_count": 3,
   "metadata": {},
   "outputs": [],
   "source": [
    "model_analysis = ModelAnalysis()\n",
    "\n",
    "def execute_test(split_size = -1):\n",
    "    '''\n",
    "    Creates artificial test process to validate different hyperparameters\n",
    "    '''\n",
    "    sim = DLSimulator(crypto, prev_periods, pred_periods, columns, target,\n",
    "    norm_strat, model_sel, layers, neurons, batch_size, epochs, \n",
    "    activation, loss, metrics, optimizer, initial_learning_rate, callbacks)\n",
    "\n",
    "    df_train = sim.get_df().iloc[:split_size]\n",
    "    if split_size == -1:\n",
    "        df_test = sim.get_df().iloc[split_size:]\n",
    "    else:\n",
    "        df_test = sim.get_df().iloc[split_size:split_size+1]\n",
    "    \n",
    "    display(df_train)\n",
    "    display(df_test)\n",
    "\n",
    "    sim.train_model(df_train)\n",
    "    \n",
    "    pred = sim.predict(pd.DataFrame(df_test))\n",
    "    print('Predictions', pred)\n",
    "    h = sim.get_history()\n",
    "    model_analysis.draw_history(h)"
   ]
  },
  {
   "cell_type": "markdown",
   "metadata": {},
   "source": [
    "### Data preparation\n",
    "\n",
    "Estos son los parametros ademas de otros pocos añadidos ad hoc al modelo (dropout). Estos parametros iran cambiando a lo largo del analisis.\n",
    "\n",
    "En este notebook no aparece todo el analisis por ser demasiado extenso (analisis por dias de la semana, otras metricas, cpas, cambios en la output layer, uso de previous y pred periods...)"
   ]
  },
  {
   "cell_type": "code",
   "execution_count": null,
   "metadata": {},
   "outputs": [],
   "source": [
    "crypto = 'ETH'\n",
    "\n",
    "#### PERIODS ####\n",
    "prev_periods = 20\n",
    "pred_periods = 20\n",
    "\n",
    "\n",
    "#### COLUMNS ####\n",
    "columns_1 = ['RSI', 'close']\n",
    "\n",
    "#### HYPERPARAMETERS ####\n",
    "layers = 4\n",
    "neurons = [25, 25, 25, 25, 25] # El primer valor son las neuronas de la base layer\n",
    "batch_size = 64\n",
    "epochs = 100\n",
    "#activations = ['relu', 'sigmoid', 'softmax']\n",
    "#losses = ['mse', 'binary_crossentropy', 'categorical_crossentropy']\n",
    "#metrics_opt = ['mse', 'accuracy']\n",
    "activation = 'relu'\n",
    "loss = 'mse'\n",
    "metrics = ['mse']\n",
    "optimizer = 'adam'\n",
    "initial_learning_rate = 0.01\n",
    "callbacks = ['mc', 'es']"
   ]
  },
  {
   "cell_type": "markdown",
   "metadata": {},
   "source": [
    "### DL parameters and training\n",
    "\n",
    "Creation of different strategies:\n",
    "\n",
    "- Based on result\n",
    "- Based on close/indicators normalized\n",
    "- Try with different close distances\n",
    "- Multioutput\n",
    "- Based on multiple operation (softmax)"
   ]
  },
  {
   "cell_type": "markdown",
   "metadata": {},
   "source": [
    "#### LSTM "
   ]
  },
  {
   "cell_type": "code",
   "execution_count": null,
   "metadata": {},
   "outputs": [],
   "source": [
    "model_sel = 0"
   ]
  },
  {
   "cell_type": "markdown",
   "metadata": {},
   "source": [
    "##### One line feature\n",
    "\n",
    "Usaremos solo una característica como objetivo de predicción"
   ]
  },
  {
   "cell_type": "markdown",
   "metadata": {},
   "source": [
    "Análisis por periodos fijos:\n",
    "\n",
    "Analizaremos el impacot de los heprparámetros para posteriormente buscar los valores optimos de periodos previos y a predecir\n",
    "\n",
    "Fijaremos los periodos usados y a predecir en 20\n",
    "\n",
    "\n",
    "\n",
    "Cambiaremos lo siguiente en cuanto a hiperparámetros y modelo sobre dos metricas usadas: una métrica normalizada como RSI y otro sin normalizar como close:\n",
    "\n",
    "- Layers\n",
    "- Neurons\n",
    "- Epochs\n",
    "- Tipo de normalización\n",
    "- Activacion y función de pérdidas\n",
    "\n",
    "Probemos primero diferentes tipos de noramalización con la siguientes caracterisiticas del modelo:\n",
    "\n",
    "Normalizacion:\n",
    "- 0: Normalizar sobre todo el dataset\n",
    "- 1: Min Max Scaller (No valida al ser una sola line de test y por tanto normalizar con respecto a nada)\n",
    "- 2: Min Max por columnas sobre todo el dataset\n",
    "- 3: Ln\n",
    "- 4: Sin normalización\n"
   ]
  },
  {
   "cell_type": "code",
   "execution_count": null,
   "metadata": {},
   "outputs": [],
   "source": [
    "target = 'close'"
   ]
  },
  {
   "cell_type": "code",
   "execution_count": null,
   "metadata": {},
   "outputs": [],
   "source": [
    "columns = columns_1\n",
    "num_features = len(columns)"
   ]
  },
  {
   "cell_type": "code",
   "execution_count": null,
   "metadata": {},
   "outputs": [],
   "source": [
    "norm_strat = 0\n",
    "print('Normalizacion:', norm_strat)\n",
    "execute_test()"
   ]
  },
  {
   "cell_type": "code",
   "execution_count": null,
   "metadata": {},
   "outputs": [],
   "source": [
    "norm_strat = 2\n",
    "print('Normalizacion:', norm_strat)\n",
    "execute_test()"
   ]
  },
  {
   "cell_type": "code",
   "execution_count": null,
   "metadata": {},
   "outputs": [],
   "source": [
    "norm_strat = 3\n",
    "print('Normalizacion:', norm_strat)\n",
    "execute_test()"
   ]
  },
  {
   "cell_type": "code",
   "execution_count": null,
   "metadata": {},
   "outputs": [],
   "source": [
    "norm_strat = 4\n",
    "print('Normalizacion:', norm_strat)\n",
    "execute_test()"
   ]
  },
  {
   "cell_type": "markdown",
   "metadata": {},
   "source": [
    "Mejor metodo de normalizacion es el 2\n",
    "\n",
    "Nos centramos ahora en la seleccion de columnas. Queremos la mayor información posible. Ahora en vez de selccionar solo una columna como target, seleccionaremos varias para proveer a nuestro futuro bucle de prediccion e inversion de mas información.\n",
    "\n",
    "Para esto, lo mejor será tener la información del precio (suavizada o sin suavizar con SMA o EMA) y algun indicador del momento como RSI, ADX o SO."
   ]
  },
  {
   "cell_type": "markdown",
   "metadata": {},
   "source": [
    "##### Multiples features\n",
    "\n",
    "Usaremos multiples características como objetivos de predicción. De esta manera nuestro modelo final proveera mayor información.\n",
    "\n",
    "Usaremos indicadores ya normalizados entre ciertos valores como RSI, ADX y SO. Entre estos tres ADX suele tener mejores capacidades a la hora de indicar la fuerza de la tendencia. Utilizaremos ADX combinado con algun valor del precio:\n",
    "- close\n",
    "- SMA\n",
    "- EMA\n",
    "\n",
    "Esta vez cambiaremos entre disferentes monedas para dar más validez al resultado final"
   ]
  },
  {
   "cell_type": "code",
   "execution_count": null,
   "metadata": {},
   "outputs": [],
   "source": [
    "cryptos = ['ETH', 'ADA', 'BTC', 'LNK', 'LTC']"
   ]
  },
  {
   "cell_type": "code",
   "execution_count": null,
   "metadata": {},
   "outputs": [],
   "source": [
    "columns_2 = ['ADX', 'close']\n",
    "columns_3 = ['ADX', 'EMA_50']\n",
    "columns_4 = ['ADX', 'SMA 50']\n",
    "columns_5 = ['ADX', 'EMA_200']\n",
    "columns_6 = ['ADX', 'SMA 200']\n",
    "\n",
    "target = None\n",
    "norm_strat = 2"
   ]
  },
  {
   "cell_type": "markdown",
   "metadata": {},
   "source": [
    "close"
   ]
  },
  {
   "cell_type": "code",
   "execution_count": null,
   "metadata": {},
   "outputs": [],
   "source": [
    "columns = columns_2\n",
    "num_features = len(columns)\n",
    "for crypto in cryptos:\n",
    "    crypto = crypto\n",
    "    execute_test()"
   ]
  },
  {
   "cell_type": "markdown",
   "metadata": {},
   "source": [
    "EMA 50"
   ]
  },
  {
   "cell_type": "code",
   "execution_count": null,
   "metadata": {},
   "outputs": [],
   "source": [
    "columns = columns_3\n",
    "num_features = len(columns)\n",
    "for crypto in cryptos:\n",
    "    crypto = crypto\n",
    "    execute_test()"
   ]
  },
  {
   "cell_type": "markdown",
   "metadata": {},
   "source": [
    "SMA 50"
   ]
  },
  {
   "cell_type": "code",
   "execution_count": null,
   "metadata": {},
   "outputs": [],
   "source": [
    "columns = columns_4\n",
    "num_features = len(columns)\n",
    "for crypto in cryptos:\n",
    "    crypto = crypto\n",
    "    execute_test()"
   ]
  },
  {
   "cell_type": "markdown",
   "metadata": {},
   "source": [
    "EMA 200"
   ]
  },
  {
   "cell_type": "code",
   "execution_count": null,
   "metadata": {},
   "outputs": [],
   "source": [
    "columns = columns_5\n",
    "num_features = len(columns)\n",
    "for crypto in cryptos:\n",
    "    crypto = crypto\n",
    "    execute_test()"
   ]
  },
  {
   "cell_type": "markdown",
   "metadata": {},
   "source": [
    "SMA 200"
   ]
  },
  {
   "cell_type": "code",
   "execution_count": null,
   "metadata": {},
   "outputs": [],
   "source": [
    "columns = columns_6\n",
    "num_features = len(columns)\n",
    "for crypto in cryptos:\n",
    "    crypto = crypto\n",
    "    execute_test()"
   ]
  },
  {
   "cell_type": "markdown",
   "metadata": {},
   "source": [
    "Tras analizar los resultados obtenidos observamos ligeras mejores cuando el valor del precio esta suavizado (menos outliers). Entre SMA y EMA parece que EMA se comporta ligeramente mejor. No es algo determinante pero seguiremos usando EMA porque cambia de forma mas rapida y de acuerda al valor real de las tendencias porque tiene mas en cuenta los ultimos precios a la hora de calcularse\n",
    "\n",
    "Además hemos visto dificultades en la red para predecir el valor de la métrica ADX. De ahora en adelante analizaremos RSI en vez de ADX pero es posible que si no conseguimos buenas predicciones usemos solo el valor del precio, sus diferencias o la operación mas adecuada (se comenta más adelante estos dos nuevos métodos)"
   ]
  },
  {
   "cell_type": "markdown",
   "metadata": {},
   "source": [
    "Antes de seguir probaremos dos metodos mas:\n",
    "- Uso de la diferencia de precio\n",
    "- Uso de la operación mas conveniente"
   ]
  },
  {
   "cell_type": "code",
   "execution_count": null,
   "metadata": {},
   "outputs": [],
   "source": [
    "columns_7 = ['RSI', 'close_diff_5']\n",
    "columns_8 = ['RSI', 'close_diff_10']\n",
    "columns_9 = ['RSI', 'close_diff_20']\n",
    "columns_11 = ['op_buy', 'op_sell', 'op_hold'] # Usar softmax"
   ]
  },
  {
   "cell_type": "markdown",
   "metadata": {},
   "source": [
    "Dado que actualmente tenemos puesto el parametro de dias de prediccion a 20, usaremos la columna con un calculo de diferencia de precio de 20 dias -> columns_9"
   ]
  },
  {
   "cell_type": "code",
   "execution_count": null,
   "metadata": {},
   "outputs": [],
   "source": [
    "columns = columns_9\n",
    "num_features = len(columns)\n",
    "\n",
    "for crypto in cryptos:\n",
    "    crypto = crypto\n",
    "    execute_test()"
   ]
  },
  {
   "cell_type": "markdown",
   "metadata": {},
   "source": [
    "Este metodo ofrece resultados aceptables en comparación con el calculo del precio como valor y por tanto usaremos este en vez del precio final como prediccion dado que si calculamos el precio final luego debemos calcular cuanto mas sube o baja con respecto al dia actual. Este método ya nos da directamente ese valor\n",
    "\n",
    "Como podemos ver la precision de prediccion no es demasiado acertada para las metricas y por tanto evitaremos su uso en nuestro modelo final\n",
    "\n",
    "La precision de este metodo mejorará al usar menos dias de predicción. De todas formas trataremos de mejorar la red con 20 dias en adelante antes de bajar a 10 o 5 dias. Además es posible que no exista una relación temparal tal como para el precio. Por eso podemos encontrar dificultades en el modelo para generar buenos resultados.\n",
    "\n",
    "En adelante usaremos la combinacion de precio con diferencia de precio. Si al modelo le costara mucho predecir la diferencia de precio usaremos solo el precio."
   ]
  },
  {
   "cell_type": "markdown",
   "metadata": {},
   "source": [
    "----------------------"
   ]
  },
  {
   "cell_type": "markdown",
   "metadata": {},
   "source": [
    "Para calcular la operacion mas adecuada debemos cambiar la red para aceptar una activación softmax\n",
    "\n",
    "Vamos a buscar ejemplos donde se realiza una venta o compra en la fila de test para poner mas aprueba al modelo (debido a que la mayoria son hold).\n",
    "\n",
    "Debemos añadir un class weight en el modelo. Por eso analizamos el peso de cada clase"
   ]
  },
  {
   "cell_type": "code",
   "execution_count": null,
   "metadata": {},
   "outputs": [],
   "source": [
    "columns = columns_11\n",
    "\n",
    "activation = 'softmax'\n",
    "loss = 'categorical_crossentropy'\n",
    "metrics = ['categorical_crossentropy', 'accuracy']\n",
    "\n",
    "crypto = 'ETH'\n",
    "\n",
    "sim = DLSimulator(crypto, prev_periods, pred_periods, columns, target,\n",
    "    norm_strat, model_sel, layers, neurons, batch_size, epochs, \n",
    "    activation, loss, metrics, optimizer, initial_learning_rate, callbacks)\n",
    "\n",
    "df = sim.get_df()\n",
    "\n",
    "print(len(df[(df['op_buy_0']==1)]))\n",
    "print(len(df[(df['op_sell_0']==1)]))\n",
    "print(len(df[(df['op_hold_0']==1)]))"
   ]
  },
  {
   "cell_type": "markdown",
   "metadata": {},
   "source": [
    "Añadiremos al modelo un x4 para las clases sell y buy"
   ]
  },
  {
   "cell_type": "markdown",
   "metadata": {},
   "source": [
    "The index [-7, -9, -15, -19] provide examples with buy and sell"
   ]
  },
  {
   "cell_type": "code",
   "execution_count": null,
   "metadata": {},
   "outputs": [],
   "source": [
    "split_indexes = [-7, -9, -15, -19]\n",
    "\n",
    "for split_index in split_indexes:\n",
    "    execute_test(split_index)"
   ]
  },
  {
   "cell_type": "markdown",
   "metadata": {},
   "source": [
    "En los cuatro casos el modelo no ha acertado. Consideraremos esta opción para nuestro modelo final una vez optimizado sobre el precio"
   ]
  },
  {
   "cell_type": "markdown",
   "metadata": {},
   "source": [
    "----------"
   ]
  },
  {
   "cell_type": "markdown",
   "metadata": {},
   "source": [
    "El siguiente análisis se centrará en los hiperparametros y modelado de la red (layers, epochs, batch size, dropout). Antes de comenzar inicializaremos los parametros que dejaremos fijos durante esta etapa de analisis "
   ]
  },
  {
   "cell_type": "code",
   "execution_count": null,
   "metadata": {},
   "outputs": [],
   "source": [
    "#### PERIODS ####\n",
    "prev_periods = 20\n",
    "pred_periods = 20\n",
    "\n",
    "#LSTM\n",
    "model_sel = 0 \n",
    "\n",
    "# Cryptos\n",
    "cryptos = ['ETH', 'ADA', 'BTC', 'LNK', 'LTC']\n",
    "\n",
    "#### NORM AND FEATURES CONFIGURATION ####\n",
    "target = None\n",
    "norm_strat = 2\n",
    "\n",
    "#### COLUMNS ####\n",
    "columns_11 = ['op_buy', 'op_sell', 'op_hold'] # Usar softmax\n",
    "columns_12 = ['close', 'close_diff_20']\n",
    "\n",
    "\n",
    "#### Hyper params ####\n",
    "\n",
    "#activations = ['relu', 'sigmoid', 'softmax']\n",
    "#losses = ['mse', 'binary_crossentropy', 'categorical_crossentropy']\n",
    "#metrics_opt = ['mse', 'accuracy']\n",
    "activation = 'relu'\n",
    "loss = 'mse'\n",
    "metrics = ['mse']\n",
    "optimizer = 'adam'\n",
    "initial_learning_rate = 0.01\n",
    "callbacks = ['mc', 'es']\n",
    "batch_size = 64\n",
    "epochs = 100"
   ]
  },
  {
   "cell_type": "markdown",
   "metadata": {},
   "source": [
    "Modelado:\n",
    "\n",
    "Modelaremos la red en las capas LSTM"
   ]
  },
  {
   "cell_type": "markdown",
   "metadata": {},
   "source": [
    "Modifcamos el numero de capas:\n",
    "\n",
    "- 1 Capas\n",
    "- 4 Capas\n",
    "- 10 Capas\n",
    "\n",
    "Y neuronas\n",
    "\n",
    "- 10 Nueronas\n",
    "- 50 Neuronas\n",
    "- 100 Neuronas\n",
    "- Gradual invertido"
   ]
  },
  {
   "cell_type": "markdown",
   "metadata": {},
   "source": [
    "Trabajaremos sobre diferencia de precio de 20 dias"
   ]
  },
  {
   "cell_type": "code",
   "execution_count": null,
   "metadata": {},
   "outputs": [],
   "source": [
    "layers = 1\n",
    "neurons = [25, 25]\n",
    "\n",
    "columns = columns_12\n",
    "num_features = len(columns)\n",
    "\n",
    "for crypto in cryptos:\n",
    "    crypto = crypto\n",
    "    execute_test()"
   ]
  },
  {
   "cell_type": "markdown",
   "metadata": {},
   "source": [
    "Los resultados son incluso mejores para algunos sets que con la configuración inicial.\n",
    "\n",
    "Iremos subiendo capas y neuronas hasta que perdamos eficiencia en nuestros resultados"
   ]
  },
  {
   "cell_type": "code",
   "execution_count": null,
   "metadata": {},
   "outputs": [],
   "source": [
    "layers = 1\n",
    "neurons = [100, 100]\n",
    "\n",
    "columns = columns_12\n",
    "num_features = len(columns)\n",
    "\n",
    "for crypto in cryptos:\n",
    "    crypto = crypto\n",
    "    execute_test()"
   ]
  },
  {
   "cell_type": "markdown",
   "metadata": {},
   "source": [
    "Añadir neuronas no ha mejorado resultados en todos los casos pero si en unos pocos en el test, consiguiendo buenos datos en el set de validación pero no mejores que antes. Probaremos añadiendo capas y dejando las neuronas mas bajas. Dejaremos la capa base con mas neuronas.\n",
    "\n",
    "El error en BTC puede deberse a un estancamiento por un lr muy alto. Quizás sin callbacks o con lr mas bajo hubieramos alcanzado un minimo."
   ]
  },
  {
   "cell_type": "code",
   "execution_count": null,
   "metadata": {},
   "outputs": [],
   "source": [
    "layers = 2\n",
    "neurons = [100, 20, 20]\n",
    "\n",
    "columns = columns_12\n",
    "num_features = len(columns)\n",
    "\n",
    "for crypto in cryptos:\n",
    "    crypto = crypto\n",
    "    execute_test()"
   ]
  },
  {
   "cell_type": "markdown",
   "metadata": {},
   "source": [
    "Vemos mejoras, aunque la diferencia de precio no esta obteniendo buenas predicciones en la fila de test. Como hemos comentado es posible que no tenga una relacion secuencial tan alta como el precio.\n",
    "\n",
    "Sin embargo seguimos viendo como las funciones de perdida son más bajas que con el modelo usado como base. Esto es algo positivo.\n",
    "\n",
    "Probaremos ahora a bajar capas de nuevo y subir neuronas"
   ]
  },
  {
   "cell_type": "code",
   "execution_count": null,
   "metadata": {},
   "outputs": [],
   "source": [
    "layers = 1\n",
    "neurons = [200, 100]\n",
    "\n",
    "columns = columns_12\n",
    "num_features = len(columns)\n",
    "\n",
    "for crypto in cryptos:\n",
    "    crypto = crypto\n",
    "    execute_test()"
   ]
  },
  {
   "cell_type": "markdown",
   "metadata": {},
   "source": [
    "Vemos que tenemos algo de overfitting en esta prueba. Sin embargo los datos de perdidas son bastante buenos. Seguiremos con esta idea e intentaremos paliar el overfitting más adelante."
   ]
  },
  {
   "cell_type": "code",
   "execution_count": null,
   "metadata": {},
   "outputs": [],
   "source": [
    "layers = 2\n",
    "neurons = [200, 100, 50]\n",
    "\n",
    "columns = columns_12\n",
    "num_features = len(columns)\n",
    "\n",
    "for crypto in cryptos:\n",
    "    crypto = crypto\n",
    "    execute_test()"
   ]
  },
  {
   "cell_type": "markdown",
   "metadata": {},
   "source": [
    "Definitivamente añadiendo capas nuestro modelo se hace mucho más complejo de manejar y obtiene valores de perdidas peores. Sin embargo los test realzados son mejores. Probaremos una vez más a subir el numero de nueronas con solo una capa oculta. Posiblemente esto genere más overfitting que seremos capaces de resolver más adelante.\n",
    "\n",
    "Tengamos en cuenta que si a este modelo le quitamos o añadimos paciencia al early stopping junto con un lr mas bajo y epocas mas altas, posiblemente obtengamos buenos resultados."
   ]
  },
  {
   "cell_type": "code",
   "execution_count": null,
   "metadata": {},
   "outputs": [],
   "source": [
    "layers = 1\n",
    "neurons = [400, 200]\n",
    "\n",
    "columns = columns_12\n",
    "num_features = len(columns)\n",
    "\n",
    "for crypto in cryptos:\n",
    "    crypto = crypto\n",
    "    execute_test()"
   ]
  },
  {
   "cell_type": "markdown",
   "metadata": {},
   "source": [
    "Bajaremos el numero de nueronas y lo igualamos a la capa oculta. El earlystopping esta impidiendo que el modelo encuentre minimos a tiempo"
   ]
  },
  {
   "cell_type": "code",
   "execution_count": null,
   "metadata": {},
   "outputs": [],
   "source": [
    "layers = 1\n",
    "neurons = [300, 300]\n",
    "\n",
    "columns = columns_12\n",
    "num_features = len(columns)\n",
    "\n",
    "for crypto in cryptos:\n",
    "    crypto = crypto\n",
    "    execute_test()"
   ]
  },
  {
   "cell_type": "markdown",
   "metadata": {},
   "source": [
    "Nos quedaremos con dos capas ocultas y 300 + 150 + 75 neuronas. Probemos sin early stop porque nos esta impidiendo llegar a minimos."
   ]
  },
  {
   "cell_type": "code",
   "execution_count": null,
   "metadata": {},
   "outputs": [],
   "source": [
    "layers = 2\n",
    "neurons = [300, 150, 75]\n",
    "\n",
    "callbacks = ['mc']\n",
    "\n",
    "columns = columns_12\n",
    "num_features = len(columns)\n",
    "\n",
    "for crypto in cryptos:\n",
    "    crypto = crypto\n",
    "    execute_test()"
   ]
  },
  {
   "cell_type": "markdown",
   "metadata": {},
   "source": [
    "Hemos obtenido una buena configuración con:\n",
    "\n",
    "2 capas ocultas\n",
    "\n",
    "300 base\n",
    "\n",
    "150 + 75 en capas ocultas"
   ]
  },
  {
   "cell_type": "markdown",
   "metadata": {},
   "source": [
    "Como columnas seguiremos usando el precio como tal dado que los resultados han sido buenos. Si encontraramos dificultades podriamos volver a usar EMA."
   ]
  },
  {
   "cell_type": "markdown",
   "metadata": {},
   "source": [
    "\n",
    "Añadimos/quitamos ad hoc en el modelo capas de dropout y su activación\n",
    "\n",
    "Tenemos algo de overfitting en nuestro modelo que ya contiene 0.2 de dropout. Se supone que deberíamos subirlo algo y ver si mejora. En caso de aumento de perdidas probaremos a reducirlo de nuevo"
   ]
  },
  {
   "cell_type": "code",
   "execution_count": null,
   "metadata": {},
   "outputs": [],
   "source": [
    "#### PERIODS ####\n",
    "prev_periods = 20\n",
    "pred_periods = 20\n",
    "\n",
    "#LSTM\n",
    "model_sel = 0 \n",
    "\n",
    "# Cryptos\n",
    "cryptos = ['ETH', 'ADA', 'BTC', 'LNK', 'LTC']\n",
    "\n",
    "#### NORM AND FEATURES CONFIGURATION ####\n",
    "target = None\n",
    "norm_strat = 2\n",
    "\n",
    "#### COLUMNS ####\n",
    "columns_11 = ['op_buy', 'op_sell', 'op_hold'] # Usar softmax\n",
    "columns_12 = ['close', 'close_diff_20']\n",
    "\n",
    "\n",
    "#### Hyper params ####\n",
    "\n",
    "#activations = ['relu', 'sigmoid', 'softmax']\n",
    "#losses = ['mse', 'binary_crossentropy', 'categorical_crossentropy']\n",
    "#metrics_opt = ['mse', 'accuracy']\n",
    "activation = 'relu'\n",
    "loss = 'mse'\n",
    "metrics = ['mse']\n",
    "initial_learning_rate = 0.01\n",
    "\n",
    "optimizer = 'adam'\n",
    "\n",
    "callbacks = ['mc', 'es']\n",
    "batch_size = 64\n",
    "epochs = 100\n",
    "\n",
    "layers = 2\n",
    "neurons = [300, 150, 75]\n",
    "\n",
    "columns = columns_12\n",
    "num_features = len(columns)"
   ]
  },
  {
   "cell_type": "markdown",
   "metadata": {},
   "source": [
    "Dropout 0.3"
   ]
  },
  {
   "cell_type": "code",
   "execution_count": null,
   "metadata": {},
   "outputs": [],
   "source": [
    "for crypto in cryptos:\n",
    "    crypto = crypto\n",
    "    execute_test()"
   ]
  },
  {
   "cell_type": "markdown",
   "metadata": {},
   "source": [
    "No observamos mejoras\n",
    "\n",
    "Probamos con Dropout 0.1\n",
    "\n",
    "Eliminaremos el overfitting con regularizers en el kernel l1_l2 si mejora con un dropout mas bajo"
   ]
  },
  {
   "cell_type": "code",
   "execution_count": null,
   "metadata": {},
   "outputs": [],
   "source": [
    "for crypto in cryptos:\n",
    "    crypto = crypto\n",
    "    execute_test()"
   ]
  },
  {
   "cell_type": "markdown",
   "metadata": {},
   "source": [
    "No vemos mejoras. Nos quedaremos con Dropout 0.2"
   ]
  },
  {
   "cell_type": "markdown",
   "metadata": {},
   "source": [
    "Vemos que el learning rate puede estar algo alto pues alcanzamos minimos muy pronto y los set de validación no terminan de fijarse en un valor de perdidas (acaban dando pequeños saltos). Probaremos a bajarlo y a eliminar de nuevo el early stop\n",
    "\n",
    "Se han hechos pruebas con el lr shceduler sin exito"
   ]
  },
  {
   "cell_type": "code",
   "execution_count": null,
   "metadata": {},
   "outputs": [],
   "source": [
    "callbacks = ['mc']"
   ]
  },
  {
   "cell_type": "markdown",
   "metadata": {},
   "source": [
    "learning_rate=0.0005"
   ]
  },
  {
   "cell_type": "code",
   "execution_count": null,
   "metadata": {},
   "outputs": [],
   "source": [
    "optimizer = optimizers.Adam(learning_rate=0.0005)\n",
    "\n",
    "for crypto in cryptos:\n",
    "    crypto = crypto\n",
    "    execute_test()"
   ]
  },
  {
   "cell_type": "markdown",
   "metadata": {},
   "source": [
    "Eliminaremos el overfitting que podamos tener con el uso de regularizacion del kernel l1_l2\n",
    "\n",
    "kernel_regularizer=tensorflow.keras.regularizers.l1_l2(l1=0.01, l2=0.01)\n",
    "\n",
    "Aprovechamos para volver a probar una sola capa"
   ]
  },
  {
   "cell_type": "code",
   "execution_count": null,
   "metadata": {},
   "outputs": [],
   "source": [
    "#### PERIODS ####\n",
    "prev_periods = 20\n",
    "pred_periods = 20\n",
    "\n",
    "#LSTM\n",
    "model_sel = 0 \n",
    "\n",
    "# Cryptos\n",
    "cryptos = ['ETH', 'ADA', 'BTC', 'LNK', 'LTC']\n",
    "\n",
    "#### NORM AND FEATURES CONFIGURATION ####\n",
    "target = None\n",
    "norm_strat = 2\n",
    "\n",
    "#### COLUMNS ####\n",
    "columns_11 = ['op_buy', 'op_sell', 'op_hold'] # Usar softmax\n",
    "columns_12 = ['close', 'close_diff_20']\n",
    "\n",
    "\n",
    "#### Hyper params ####\n",
    "\n",
    "#activations = ['relu', 'sigmoid', 'softmax']\n",
    "#losses = ['mse', 'binary_crossentropy', 'categorical_crossentropy']\n",
    "#metrics_opt = ['mse', 'accuracy']\n",
    "activation = 'relu'\n",
    "loss = 'mse'\n",
    "metrics = ['mse']\n",
    "initial_learning_rate = 0.01\n",
    "\n",
    "optimizer = optimizers.Adam(learning_rate=0.0005)\n",
    "\n",
    "callbacks = ['mc', 'es']\n",
    "batch_size = 64\n",
    "epochs = 100\n",
    "\n",
    "layers = 1\n",
    "neurons = [300, 150]\n",
    "\n",
    "columns = columns_12\n",
    "num_features = len(columns)"
   ]
  },
  {
   "cell_type": "markdown",
   "metadata": {},
   "source": [
    "Se ha probado regularizar en recurrent layer y bias pero los resultados no son optimos\n",
    "\n",
    "El siguiente resultado aplica solo a kernel\n",
    "\n",
    "Para reducir el contenido no se muestran los resultados aplicados a recurrent y bias. Asi como varias pruebas con regularizers mas altos que tampoco han dado buenos resultados"
   ]
  },
  {
   "cell_type": "code",
   "execution_count": null,
   "metadata": {},
   "outputs": [],
   "source": [
    "for crypto in cryptos:\n",
    "    crypto = crypto\n",
    "    execute_test()"
   ]
  },
  {
   "cell_type": "markdown",
   "metadata": {},
   "source": [
    "No hemos conseguido mejorar el modelo con regularización"
   ]
  },
  {
   "cell_type": "markdown",
   "metadata": {},
   "source": [
    "Ahora modificaremos el batch size y epocas\n",
    "\n",
    "Si bien, pareciera que 100 epocas han sido más que suficiente y no tocaremos este parametro a no ser que veamos falta de convergencia al modificar el batch\n",
    "\n",
    "Hemos probado con batch size de 64. Probemos con un batch mas pequeño para actualizar de forma mas recurrente los pesos. Si mejora seguiremos reduciendo"
   ]
  },
  {
   "cell_type": "markdown",
   "metadata": {},
   "source": [
    "Batch size 32"
   ]
  },
  {
   "cell_type": "code",
   "execution_count": null,
   "metadata": {},
   "outputs": [],
   "source": [
    "batch_size = 32\n",
    "\n",
    "for crypto in cryptos:\n",
    "    crypto = crypto\n",
    "    execute_test()"
   ]
  },
  {
   "cell_type": "markdown",
   "metadata": {},
   "source": [
    "Batch size 16\n",
    "\n",
    "El entrenamiento se hace muy lento y por ello bajaremos el numeor de epochs"
   ]
  },
  {
   "cell_type": "code",
   "execution_count": null,
   "metadata": {},
   "outputs": [],
   "source": [
    "epochs = 70\n",
    "\n",
    "batch_size = 16\n",
    "\n",
    "for crypto in cryptos:\n",
    "    crypto = crypto\n",
    "    execute_test()"
   ]
  },
  {
   "cell_type": "markdown",
   "metadata": {},
   "source": [
    "Batch size 8"
   ]
  },
  {
   "cell_type": "code",
   "execution_count": null,
   "metadata": {},
   "outputs": [],
   "source": [
    "epochs = 40\n",
    "\n",
    "batch_size = 8\n",
    "\n",
    "for crypto in cryptos:\n",
    "    crypto = crypto\n",
    "    execute_test()"
   ]
  },
  {
   "cell_type": "markdown",
   "metadata": {},
   "source": [
    "Nos quedaremos con un bacth size de 16. Observamos ligeras mejoras. Con 8 se descontrola algo el aprendizaje. Se vuelve muy lento. Posiblemente se vuelva a porbar mas adelante una vez seteados los demas parametros"
   ]
  },
  {
   "cell_type": "markdown",
   "metadata": {},
   "source": [
    "Probaremos otras activaciones y funcion de perdidas\n",
    "\n",
    "msle podria funcionar porque los movimientos del mercado son proporcionales al volumen de inversion y precios de la moneda"
   ]
  },
  {
   "cell_type": "code",
   "execution_count": null,
   "metadata": {},
   "outputs": [],
   "source": [
    "epochs = 70\n",
    "batch_size = 16"
   ]
  },
  {
   "cell_type": "code",
   "execution_count": null,
   "metadata": {},
   "outputs": [],
   "source": [
    "activation = 'relu'\n",
    "loss = 'msle'\n",
    "metrics = ['msle']\n",
    "\n",
    "for crypto in cryptos:\n",
    "    crypto = crypto\n",
    "    execute_test()"
   ]
  },
  {
   "cell_type": "markdown",
   "metadata": {},
   "source": [
    "La distribucion de precios se asemeja a una distribucion log normal (right skewed). Por eso esta funcion de periddas funciona mejor\n",
    "\n",
    "Puede perjudicar a close_diff porque no sigue la misma distribución\n",
    "\n",
    "De todas formas no dejaremos de lado mse."
   ]
  },
  {
   "cell_type": "code",
   "execution_count": null,
   "metadata": {},
   "outputs": [],
   "source": [
    "activation = 'relu'\n",
    "loss = 'mae'\n",
    "metrics = ['mae']\n",
    "\n",
    "for crypto in cryptos:\n",
    "    crypto = crypto\n",
    "    execute_test()"
   ]
  },
  {
   "cell_type": "markdown",
   "metadata": {},
   "source": [
    "Obtenemos mejores resultados con la funcion de perdidas: msle\n",
    "\n",
    "Probaremos ahora diferentes activaciones\n",
    "\n",
    "- Leaky ReLU para evitar dying neurons\n",
    "- Swish ha demostrado buen comportamiento según algunos papers"
   ]
  },
  {
   "cell_type": "code",
   "execution_count": null,
   "metadata": {},
   "outputs": [],
   "source": [
    "loss = 'msle'\n",
    "metrics = ['msle']\n",
    "\n",
    "epochs = 70"
   ]
  },
  {
   "cell_type": "code",
   "execution_count": null,
   "metadata": {},
   "outputs": [],
   "source": [
    "from keras.utils.generic_utils import get_custom_objects\n",
    "from keras import backend as K\n",
    "from keras.layers import Activation\n",
    "from keras.layers import LeakyReLU\n",
    "\n",
    "def custom_activation(x, beta = 1):\n",
    "        return (K.sigmoid(beta * x) * x)\n",
    "\n",
    "get_custom_objects().update({'custom_activation': Activation(custom_activation)})"
   ]
  },
  {
   "cell_type": "code",
   "execution_count": null,
   "metadata": {},
   "outputs": [],
   "source": [
    "activation = LeakyReLU(alpha=0.05)\n",
    "\n",
    "for crypto in cryptos:\n",
    "    crypto = crypto\n",
    "    execute_test()"
   ]
  },
  {
   "cell_type": "code",
   "execution_count": null,
   "metadata": {},
   "outputs": [],
   "source": [
    "activation = Activation(custom_activation,name = \"Swish\")\n",
    "\n",
    "for crypto in cryptos:\n",
    "    crypto = crypto\n",
    "    execute_test()"
   ]
  },
  {
   "cell_type": "markdown",
   "metadata": {},
   "source": [
    "Nos quedaremos con activación ReLU"
   ]
  },
  {
   "cell_type": "code",
   "execution_count": null,
   "metadata": {},
   "outputs": [],
   "source": [
    "activation = 'relu'"
   ]
  },
  {
   "cell_type": "markdown",
   "metadata": {},
   "source": [
    "Finalmente usaremos la diferencia de precio y el precio pero aumentando a 40 los dias previos usados y bajando a 10 los dias a predecir"
   ]
  },
  {
   "cell_type": "code",
   "execution_count": null,
   "metadata": {},
   "outputs": [],
   "source": [
    "#### PERIODS ####\n",
    "prev_periods = 40\n",
    "pred_periods = 10\n",
    "\n",
    "\n",
    "columns_12 = ['close', 'close_diff_10']\n",
    "columns = columns_12\n",
    "\n",
    "for crypto in cryptos:\n",
    "    crypto = crypto\n",
    "    execute_test()"
   ]
  },
  {
   "cell_type": "markdown",
   "metadata": {},
   "source": [
    "Mejora considerable al subir prev peridos y bajar pred periods"
   ]
  },
  {
   "cell_type": "markdown",
   "metadata": {},
   "source": [
    "Se ha probado a mover el numero de dias previos usados. Parece no afectar mucho al comportamiento del modelo "
   ]
  },
  {
   "cell_type": "markdown",
   "metadata": {},
   "source": [
    "Haremos backtesting para probar a añadir varias caracteristicas y sacar como target la diferencia de precio y el precio. Obtendremos mejor resultado una vez aplicado el modelado de red y los hiperparametros mas eficiantes segun hemos analizado?\n",
    "\n",
    "Caracteristicas a probar:\n",
    "\n",
    "- Resistance and support levels 50\n",
    "\n",
    "Target a probar:\n",
    "\n",
    "- close\n",
    "- close_diff_10"
   ]
  },
  {
   "cell_type": "markdown",
   "metadata": {},
   "source": [
    "Cambiaremos a mse porque no vimos mejoras relevantes en la diferencia de precio usando msle.\n",
    "\n",
    "Se ha probado en este modelado de datos con mse y no ofrece buenos resultados. Se vuelve a mse"
   ]
  },
  {
   "cell_type": "code",
   "execution_count": null,
   "metadata": {},
   "outputs": [],
   "source": [
    "loss = 'mse'\n",
    "metrics = ['mse']"
   ]
  },
  {
   "cell_type": "code",
   "execution_count": null,
   "metadata": {},
   "outputs": [],
   "source": [
    "target = 'close'\n",
    "\n",
    "columns_13 = ['Sup 50', 'Res 50', 'close']\n",
    "columns_14 = ['Sup 50', 'Res 50', 'close_diff_10']\n",
    "\n",
    "columns = columns_13\n",
    "num_features = len(columns)\n",
    "\n",
    "for crypto in cryptos:\n",
    "    crypto = crypto\n",
    "    execute_test()"
   ]
  },
  {
   "cell_type": "code",
   "execution_count": null,
   "metadata": {},
   "outputs": [],
   "source": [
    "target = 'close_diff_10'\n",
    "\n",
    "columns = columns_14\n",
    "num_features = len(columns)\n",
    "\n",
    "for crypto in cryptos:\n",
    "    crypto = crypto\n",
    "    execute_test()"
   ]
  },
  {
   "cell_type": "markdown",
   "metadata": {},
   "source": [
    "Seguiremos usando el modelado anterior"
   ]
  },
  {
   "cell_type": "markdown",
   "metadata": {},
   "source": [
    "Por ultimo, antes de probar el modelo GRU haremos una ultima prueba con softmax y la operacion a realizar usando los parametros y modelado ya analizado"
   ]
  },
  {
   "cell_type": "code",
   "execution_count": null,
   "metadata": {},
   "outputs": [],
   "source": [
    "epochs = 70\n",
    "\n",
    "target = None\n",
    "columns_11 = ['op_buy', 'op_sell', 'op_hold'] # Usar softmax\n",
    "\n",
    "columns = columns_11\n",
    "num_features = len(columns)\n",
    "\n",
    "activation = 'softmax'\n",
    "loss = 'categorical_crossentropy'\n",
    "metrics = ['accuracy', 'categorical_crossentropy']\n",
    "\n",
    "crypto = 'ETH'\n",
    "\n",
    "split_indexes = [-7, -9, -15, -19]\n",
    "\n",
    "for split_index in split_indexes:\n",
    "    execute_test(split_index)"
   ]
  },
  {
   "cell_type": "markdown",
   "metadata": {},
   "source": [
    "No conseguimos buenos resultados. Seguimos sin ser capaces de identificar los puntos de compra y venta"
   ]
  },
  {
   "cell_type": "markdown",
   "metadata": {},
   "source": [
    "#### GRU\n",
    "\n",
    "Probaremos el mejor modelado e hiperparametros ya vistos pero con GRU"
   ]
  },
  {
   "cell_type": "code",
   "execution_count": null,
   "metadata": {},
   "outputs": [],
   "source": [
    "#### PERIODS ####\n",
    "prev_periods = 40\n",
    "pred_periods = 10\n",
    "\n",
    "#GRU\n",
    "model_sel = 1\n",
    "\n",
    "# Cryptos\n",
    "cryptos = ['ETH', 'ADA', 'BTC', 'LNK', 'LTC']\n",
    "\n",
    "#### NORM AND FEATURES CONFIGURATION ####\n",
    "target = None\n",
    "norm_strat = 2\n",
    "\n",
    "#### COLUMNS ####\n",
    "columns_12 = ['close', 'close_diff_10']\n",
    "\n",
    "\n",
    "#### Hyper params ####\n",
    "\n",
    "#activations = ['relu', 'sigmoid', 'softmax']\n",
    "#losses = ['mse', 'binary_crossentropy', 'categorical_crossentropy']\n",
    "#metrics_opt = ['mse', 'accuracy']\n",
    "activation = 'relu'\n",
    "loss = 'msle'\n",
    "metrics = ['msle']\n",
    "initial_learning_rate = 0.01\n",
    "\n",
    "optimizer = optimizers.Adam(learning_rate=0.0005)\n",
    "\n",
    "callbacks = ['mc', 'es']\n",
    "batch_size = 16\n",
    "epochs = 70\n",
    "\n",
    "layers = 1\n",
    "neurons = [300, 150]\n",
    "\n",
    "columns = columns_12\n",
    "num_features = len(columns)"
   ]
  },
  {
   "cell_type": "code",
   "execution_count": null,
   "metadata": {},
   "outputs": [],
   "source": [
    "for crypto in cryptos:\n",
    "    crypto = crypto\n",
    "    execute_test()"
   ]
  },
  {
   "cell_type": "markdown",
   "metadata": {},
   "source": [
    "#### Final models to use\n",
    "\n",
    "Despues de todo el analisis usaremos este diccionario de parametros para nuestros modelos. Bajamos aun mas los dias a predecir y los dias previos usados para mayor precisión y rapidez de entrenamiento.\n",
    "\n",
    "Se ha observaod ademas estancamientos en algunos entrenamiento y para evitarlo hemos cambiado de msle a mse\n",
    "\n",
    "Se ha probado con diferentes funciones de lr scheduler por no solucionaba el problema.\n",
    "\n",
    "Otra solucion es obtener mas datos"
   ]
  },
  {
   "cell_type": "code",
   "execution_count": null,
   "metadata": {},
   "outputs": [],
   "source": [
    "#### PERIODS ####\n",
    "prev_periods = 1\n",
    "pred_periods = 5\n",
    "\n",
    "#LSTM\n",
    "model_sel = 0\n",
    "\n",
    "# Cryptos\n",
    "cryptos = ['ETH_H', 'ADA', 'BTC', 'LNK', 'LTC']\n",
    "\n",
    "#### NORM AND FEATURES CONFIGURATION ####\n",
    "target = None\n",
    "norm_strat = 2\n",
    "\n",
    "#### Hyper params ####\n",
    "activation = 'relu'\n",
    "loss = 'msle'\n",
    "metrics = ['msle']\n",
    "initial_learning_rate = 0.01\n",
    "\n",
    "optimizer = optimizers.Adam(learning_rate=0.0005)\n",
    "\n",
    "callbacks = ['mc', 'es']\n",
    "batch_size = 16\n",
    "epochs = 70\n",
    "\n",
    "layers = 1\n",
    "neurons = [300, 150]\n",
    "\n",
    "columns = ['close']\n",
    "num_features = len(columns)"
   ]
  },
  {
   "cell_type": "code",
   "execution_count": null,
   "metadata": {},
   "outputs": [],
   "source": [
    "for crypto in cryptos:\n",
    "    crypto = crypto\n",
    "    execute_test()"
   ]
  },
  {
   "cell_type": "markdown",
   "metadata": {},
   "source": [
    "Hemos probado con un dataset mas grande y vemos una precisión considerablemente más alta"
   ]
  },
  {
   "cell_type": "markdown",
   "metadata": {},
   "source": [
    "## Complete simulation\n",
    "\n",
    "Complete strategy definition. Let the machine work through all the dataset"
   ]
  },
  {
   "cell_type": "code",
   "execution_count": 4,
   "metadata": {},
   "outputs": [],
   "source": [
    "#### PERIODS ####\n",
    "prev_periods = 1\n",
    "pred_periods = 5\n",
    "\n",
    "#LSTM\n",
    "model_sel = 0\n",
    "\n",
    "# Cryptos\n",
    "crypto = 'BTC'\n",
    "\n",
    "#### NORM AND FEATURES CONFIGURATION ####\n",
    "target = None\n",
    "norm_strat = 2\n",
    "\n",
    "#### Hyper params ####\n",
    "activation = 'relu'\n",
    "loss = 'msle'\n",
    "metrics = ['msle']\n",
    "initial_learning_rate = 0.01\n",
    "\n",
    "optimizer = optimizers.Adam(learning_rate=0.0005)\n",
    "\n",
    "callbacks = ['mc', 'es']\n",
    "batch_size = 16\n",
    "epochs = 70\n",
    "\n",
    "layers = 1\n",
    "neurons = [300, 150]\n",
    "\n",
    "columns = ['close']\n",
    "num_features = len(columns)"
   ]
  },
  {
   "cell_type": "code",
   "execution_count": 5,
   "metadata": {},
   "outputs": [
    {
     "name": "stdout",
     "output_type": "stream",
     "text": [
      "Loading... BTC\n",
      "Extracting columns columns for BTC\n",
      "Proccessing and arranging columns for LSTM model\n"
     ]
    }
   ],
   "source": [
    "sim = DLSimulator(crypto, prev_periods, pred_periods, columns, target,\n",
    "    norm_strat, model_sel, layers, neurons, batch_size, epochs, \n",
    "    activation, loss, metrics, optimizer, initial_learning_rate, callbacks)"
   ]
  },
  {
   "cell_type": "code",
   "execution_count": 6,
   "metadata": {},
   "outputs": [
    {
     "name": "stdout",
     "output_type": "stream",
     "text": [
      "Simulation starting...\n",
      "INDEX: 1118\n",
      "CLOSE: 10373.44\n",
      "MODE: buy\n",
      "TRAINING MODEL:\n",
      "TRAIN LAST ROWS:        close_0     close\n",
      "1237  31988.71  40088.22\n",
      "1238  33949.53  38150.02\n",
      "1239  36769.36  35404.47\n",
      "1240  39432.28  34051.24\n",
      "1241  40582.81  37371.38\n",
      "Input shape: (1118, 1, 1) (1118, 1)\n",
      "Model: \"sequential_1\"\n",
      "_________________________________________________________________\n",
      "Layer (type)                 Output Shape              Param #   \n",
      "=================================================================\n",
      "lstm_1 (LSTM)                (None, 1, 300)            362400    \n",
      "_________________________________________________________________\n",
      "lstm_2 (LSTM)                (None, 150)               270600    \n",
      "_________________________________________________________________\n",
      "dropout_1 (Dropout)          (None, 150)               0         \n",
      "_________________________________________________________________\n",
      "dense_1 (Dense)              (None, 1)                 151       \n",
      "=================================================================\n",
      "Total params: 633,151\n",
      "Trainable params: 633,151\n",
      "Non-trainable params: 0\n",
      "_________________________________________________________________\n",
      "None\n",
      "Y shape (1118, 1)\n",
      "Train on 1118 samples, validate on 224 samples\n",
      "Epoch 1/70\n",
      " - 5s - loss: 0.0109 - msle: 0.0109 - val_loss: 0.0320 - val_msle: 0.0320\n",
      "Epoch 2/70\n",
      " - 1s - loss: 0.0048 - msle: 0.0048 - val_loss: 0.0056 - val_msle: 0.0056\n",
      "Epoch 3/70\n",
      " - 2s - loss: 0.0044 - msle: 0.0044 - val_loss: 0.0056 - val_msle: 0.0056\n",
      "Epoch 4/70\n",
      " - 2s - loss: 0.0038 - msle: 0.0038 - val_loss: 0.0057 - val_msle: 0.0057\n",
      "Epoch 5/70\n",
      " - 2s - loss: 0.0030 - msle: 0.0030 - val_loss: 0.0045 - val_msle: 0.0045\n",
      "Epoch 6/70\n",
      " - 2s - loss: 0.0023 - msle: 0.0023 - val_loss: 0.0031 - val_msle: 0.0031\n",
      "Epoch 7/70\n",
      " - 2s - loss: 0.0017 - msle: 0.0017 - val_loss: 0.0019 - val_msle: 0.0019\n",
      "Epoch 8/70\n",
      " - 2s - loss: 0.0011 - msle: 0.0011 - val_loss: 0.0012 - val_msle: 0.0012\n",
      "Epoch 9/70\n",
      " - 2s - loss: 6.6143e-04 - msle: 6.6143e-04 - val_loss: 7.3572e-04 - val_msle: 7.3572e-04\n",
      "Epoch 10/70\n",
      " - 2s - loss: 4.1835e-04 - msle: 4.1835e-04 - val_loss: 4.6568e-04 - val_msle: 4.6568e-04\n",
      "Epoch 11/70\n",
      " - 2s - loss: 2.9542e-04 - msle: 2.9542e-04 - val_loss: 3.4575e-04 - val_msle: 3.4575e-04\n",
      "Epoch 12/70\n",
      " - 2s - loss: 2.4341e-04 - msle: 2.4341e-04 - val_loss: 3.0975e-04 - val_msle: 3.0975e-04\n",
      "Epoch 13/70\n",
      " - 2s - loss: 2.1313e-04 - msle: 2.1313e-04 - val_loss: 3.0304e-04 - val_msle: 3.0304e-04\n",
      "Epoch 14/70\n",
      " - 2s - loss: 2.3067e-04 - msle: 2.3067e-04 - val_loss: 2.9688e-04 - val_msle: 2.9688e-04\n",
      "Epoch 15/70\n",
      " - 2s - loss: 2.1442e-04 - msle: 2.1442e-04 - val_loss: 3.0737e-04 - val_msle: 3.0737e-04\n",
      "Epoch 16/70\n",
      " - 2s - loss: 2.3498e-04 - msle: 2.3498e-04 - val_loss: 3.1006e-04 - val_msle: 3.1006e-04\n",
      "Epoch 17/70\n",
      " - 2s - loss: 2.0997e-04 - msle: 2.0997e-04 - val_loss: 3.1104e-04 - val_msle: 3.1104e-04\n",
      "Epoch 18/70\n",
      " - 2s - loss: 2.2261e-04 - msle: 2.2261e-04 - val_loss: 3.1953e-04 - val_msle: 3.1953e-04\n",
      "Epoch 19/70\n",
      " - 2s - loss: 2.2472e-04 - msle: 2.2472e-04 - val_loss: 3.3686e-04 - val_msle: 3.3686e-04\n",
      "Epoch 20/70\n",
      " - 2s - loss: 2.3479e-04 - msle: 2.3479e-04 - val_loss: 3.4605e-04 - val_msle: 3.4605e-04\n",
      "Epoch 21/70\n",
      " - 2s - loss: 2.2748e-04 - msle: 2.2748e-04 - val_loss: 3.5320e-04 - val_msle: 3.5320e-04\n",
      "Epoch 22/70\n",
      " - 2s - loss: 2.3996e-04 - msle: 2.3996e-04 - val_loss: 3.5537e-04 - val_msle: 3.5537e-04\n",
      "Epoch 23/70\n",
      " - 2s - loss: 2.4827e-04 - msle: 2.4827e-04 - val_loss: 3.4095e-04 - val_msle: 3.4095e-04\n",
      "Epoch 24/70\n",
      " - 2s - loss: 2.3043e-04 - msle: 2.3043e-04 - val_loss: 3.4490e-04 - val_msle: 3.4490e-04\n",
      "Epoch 25/70\n",
      " - 2s - loss: 2.4260e-04 - msle: 2.4260e-04 - val_loss: 3.5850e-04 - val_msle: 3.5850e-04\n",
      "Epoch 26/70\n",
      " - 2s - loss: 2.5311e-04 - msle: 2.5311e-04 - val_loss: 3.6154e-04 - val_msle: 3.6154e-04\n",
      "Epoch 27/70\n",
      " - 2s - loss: 2.3650e-04 - msle: 2.3650e-04 - val_loss: 3.5579e-04 - val_msle: 3.5579e-04\n",
      "Epoch 28/70\n",
      " - 2s - loss: 2.4369e-04 - msle: 2.4369e-04 - val_loss: 3.6489e-04 - val_msle: 3.6489e-04\n",
      "Epoch 29/70\n",
      " - 2s - loss: 2.4148e-04 - msle: 2.4148e-04 - val_loss: 3.7939e-04 - val_msle: 3.7939e-04\n",
      "Epoch 30/70\n",
      " - 2s - loss: 2.4218e-04 - msle: 2.4218e-04 - val_loss: 3.7246e-04 - val_msle: 3.7246e-04\n",
      "Epoch 31/70\n",
      " - 2s - loss: 2.4501e-04 - msle: 2.4501e-04 - val_loss: 3.7967e-04 - val_msle: 3.7967e-04\n",
      "Epoch 32/70\n",
      " - 2s - loss: 2.5889e-04 - msle: 2.5889e-04 - val_loss: 4.0561e-04 - val_msle: 4.0561e-04\n",
      "Epoch 33/70\n",
      " - 2s - loss: 2.6906e-04 - msle: 2.6906e-04 - val_loss: 4.1906e-04 - val_msle: 4.1906e-04\n",
      "Epoch 34/70\n",
      " - 2s - loss: 2.7962e-04 - msle: 2.7962e-04 - val_loss: 4.0208e-04 - val_msle: 4.0208e-04\n",
      "Epoch 35/70\n",
      " - 2s - loss: 2.6113e-04 - msle: 2.6113e-04 - val_loss: 4.0881e-04 - val_msle: 4.0881e-04\n",
      "Epoch 36/70\n",
      " - 2s - loss: 2.6872e-04 - msle: 2.6872e-04 - val_loss: 4.0819e-04 - val_msle: 4.0819e-04\n",
      "Epoch 37/70\n",
      " - 2s - loss: 2.7929e-04 - msle: 2.7929e-04 - val_loss: 4.0012e-04 - val_msle: 4.0012e-04\n",
      "Epoch 38/70\n",
      " - 2s - loss: 2.7761e-04 - msle: 2.7761e-04 - val_loss: 4.4740e-04 - val_msle: 4.4740e-04\n",
      "Epoch 39/70\n",
      " - 2s - loss: 2.9441e-04 - msle: 2.9441e-04 - val_loss: 3.8261e-04 - val_msle: 3.8261e-04\n",
      "Epoch 40/70\n",
      " - 2s - loss: 2.5742e-04 - msle: 2.5742e-04 - val_loss: 4.0454e-04 - val_msle: 4.0454e-04\n",
      "Epoch 41/70\n",
      " - 2s - loss: 2.5277e-04 - msle: 2.5277e-04 - val_loss: 3.9051e-04 - val_msle: 3.9051e-04\n",
      "Epoch 42/70\n",
      " - 2s - loss: 2.6243e-04 - msle: 2.6243e-04 - val_loss: 4.0493e-04 - val_msle: 4.0493e-04\n",
      "PREDICTING VALUE FOR        close_0    close\n",
      "1242  40088.22  39144.5\n",
      "real [[39144.5]]\n",
      "Test RMSE: 4170.417\n",
      "Diff [[-4170.41731912]]\n",
      "% Diff [[-10.65390366]] %\n",
      "### BUY OPERATION ###\n",
      "VALUE TODAY: 10373.44\n",
      "VALUE PREDICTED IN 5 DAYS: [[43314.91731912]]\n"
     ]
    }
   ],
   "source": [
    "sim.simulate()"
   ]
  }
 ],
 "metadata": {
  "interpreter": {
   "hash": "5a26509f1ebfbe58e5b9c0be862da0478dce684822429b8f32e207fdb3de41b0"
  },
  "kernelspec": {
   "display_name": "Python 3.7.9 64-bit ('tf': conda)",
   "language": "python",
   "name": "python3"
  },
  "language_info": {
   "codemirror_mode": {
    "name": "ipython",
    "version": 3
   },
   "file_extension": ".py",
   "mimetype": "text/x-python",
   "name": "python",
   "nbconvert_exporter": "python",
   "pygments_lexer": "ipython3",
   "version": "3.7.9"
  },
  "orig_nbformat": 4
 },
 "nbformat": 4,
 "nbformat_minor": 2
}
