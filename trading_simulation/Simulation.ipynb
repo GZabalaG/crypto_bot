{
 "cells": [
  {
   "cell_type": "markdown",
   "metadata": {},
   "source": [
    "# Simulator"
   ]
  },
  {
   "cell_type": "code",
   "execution_count": 1,
   "metadata": {},
   "outputs": [
    {
     "name": "stderr",
     "output_type": "stream",
     "text": [
      "Using TensorFlow backend.\n"
     ]
    }
   ],
   "source": [
    "import sys\n",
    "sys.path.insert(0, \"..\")\n",
    "import pandas as pd\n",
    "import matplotlib.pyplot as plt\n",
    "from trading_simulator import TradingSimulator, DLSimulator\n",
    "from dl_solutions.dlsolutions import CryptoDLSolutions\n",
    "from data_processor.data_processing import DataProcessor\n",
    "from utils.crypto_utils import ModelAnalysis"
   ]
  },
  {
   "cell_type": "markdown",
   "metadata": {},
   "source": [
    "## Classic"
   ]
  },
  {
   "cell_type": "markdown",
   "metadata": {},
   "source": [
    "### Data preparation"
   ]
  },
  {
   "cell_type": "code",
   "execution_count": null,
   "metadata": {},
   "outputs": [],
   "source": [
    "cryptos = ['ADA', 'BTC', 'ETH', 'LTC', 'LNK']\n",
    "sel = 0"
   ]
  },
  {
   "cell_type": "code",
   "execution_count": null,
   "metadata": {},
   "outputs": [],
   "source": [
    "for crypto in cryptos:\n",
    "    processor = DataProcessor([crypto])\n",
    "    sim = TradingSimulator(processor, crypto, strategy = [1, 2, 3, 4, 5, 6, 7], loss_allowed = 0.2, log = False)\n",
    "    sim.simulate()"
   ]
  },
  {
   "cell_type": "code",
   "execution_count": null,
   "metadata": {},
   "outputs": [],
   "source": [
    "processor = DataProcessor([crypto])\n",
    "sim1 = TradingSimulator(processor, crypto, strategy = [1], loss_allowed = 0.2)\n",
    "sim2 = TradingSimulator(processor, crypto, strategy = [2], loss_allowed = 0.2)\n",
    "sim3 = TradingSimulator(processor, crypto, strategy = [3], loss_allowed = 0.2)\n",
    "sim4 = TradingSimulator(processor, crypto, strategy = [4], loss_allowed = 0.2)\n",
    "sim5 = TradingSimulator(processor, crypto, strategy = [5], loss_allowed = 0.2)\n",
    "sim6 = TradingSimulator(processor, crypto, strategy = [6], loss_allowed = 0.2)\n",
    "sim6 = TradingSimulator(processor, crypto, strategy = [7], loss_allowed = 0.2)\n",
    "sim7 = TradingSimulator(processor, crypto, strategy = [1, 2, 3, 4, 5, 6, 7], loss_allowed = 0.2)"
   ]
  },
  {
   "cell_type": "markdown",
   "metadata": {},
   "source": [
    "### Simulations"
   ]
  },
  {
   "cell_type": "code",
   "execution_count": null,
   "metadata": {},
   "outputs": [],
   "source": [
    "sim1.simulate()"
   ]
  },
  {
   "cell_type": "code",
   "execution_count": null,
   "metadata": {},
   "outputs": [],
   "source": [
    "sim2.simulate()"
   ]
  },
  {
   "cell_type": "code",
   "execution_count": null,
   "metadata": {},
   "outputs": [],
   "source": [
    "sim3.simulate()"
   ]
  },
  {
   "cell_type": "code",
   "execution_count": null,
   "metadata": {},
   "outputs": [],
   "source": [
    "sim4.simulate()"
   ]
  },
  {
   "cell_type": "code",
   "execution_count": null,
   "metadata": {},
   "outputs": [],
   "source": [
    "sim5.simulate()"
   ]
  },
  {
   "cell_type": "code",
   "execution_count": null,
   "metadata": {},
   "outputs": [],
   "source": [
    "sim6.simulate()"
   ]
  },
  {
   "cell_type": "code",
   "execution_count": null,
   "metadata": {},
   "outputs": [],
   "source": [
    "sim7.simulate()"
   ]
  },
  {
   "cell_type": "markdown",
   "metadata": {},
   "source": [
    "## DL Solution"
   ]
  },
  {
   "cell_type": "code",
   "execution_count": 2,
   "metadata": {},
   "outputs": [],
   "source": [
    "model_analysis = ModelAnalysis()\n",
    "\n",
    "def execute_test(split_size = -1):\n",
    "    '''\n",
    "    Creates artificial test process to validate different hyperparameters\n",
    "    '''\n",
    "    sim = DLSimulator(crypto, prev_periods, pred_periods, columns, target,\n",
    "    norm_strat, model_sel, layers, neurons, batch_size, epochs, \n",
    "    activation, loss, metrics, optimizer, initial_learning_rate, callbacks)\n",
    "\n",
    "    df_train = sim.get_df().iloc[:split_size]\n",
    "    if split_size == -1:\n",
    "        df_test = sim.get_df().iloc[split_size:]\n",
    "    else:\n",
    "        df_test = sim.get_df().iloc[split_size:split_size+1]\n",
    "    \n",
    "    sim.train_model(df_train)\n",
    "    \n",
    "    pred = sim.predict(pd.DataFrame(df_test))\n",
    "    print('Predictions', pred)\n",
    "    h = sim.get_history()\n",
    "    model_analysis.draw_history(h)"
   ]
  },
  {
   "cell_type": "markdown",
   "metadata": {},
   "source": [
    "### Data preparation\n",
    "\n",
    "Estos son los parametros ademas de otros pocos añadidos ad hoc al modelo (dropout). Estos parametros iran cambiando a lo largo del analisis.\n",
    "\n",
    "En este notebook no aparece todo el analisis por ser demasiado extenso (analisis por dias de la semana, otras metricas, cpas, cambios en la output layer, uso de previous y pred periods...)"
   ]
  },
  {
   "cell_type": "code",
   "execution_count": 3,
   "metadata": {},
   "outputs": [],
   "source": [
    "crypto = 'ETH'\n",
    "\n",
    "#### PERIODS ####\n",
    "prev_periods = 20\n",
    "pred_periods = 20\n",
    "\n",
    "\n",
    "#### COLUMNS ####\n",
    "columns_1 = ['RSI', 'close']\n",
    "\n",
    "#### HYPERPARAMETERS ####\n",
    "layers = 4\n",
    "neurons = [25, 25, 25, 25, 25] # El primer valor son las neuronas de la base layer\n",
    "batch_size = 64\n",
    "epochs = 100\n",
    "#activations = ['relu', 'sigmoid', 'softmax']\n",
    "#losses = ['mse', 'binary_crossentropy', 'categorical_crossentropy']\n",
    "#metrics_opt = ['mse', 'accuracy']\n",
    "activation = 'relu'\n",
    "loss = 'mse'\n",
    "metrics = ['mse']\n",
    "optimizer = 'adam'\n",
    "initial_learning_rate = 0.01\n",
    "callbacks = ['mc', 'es']"
   ]
  },
  {
   "cell_type": "markdown",
   "metadata": {},
   "source": [
    "### DL parameters and training\n",
    "\n",
    "Creation of different strategies:\n",
    "\n",
    "- Based on result\n",
    "- Based on close/indicators normalized\n",
    "- Try with different close distances\n",
    "- Multioutput\n",
    "- Based on multiple operation (softmax)"
   ]
  },
  {
   "cell_type": "markdown",
   "metadata": {},
   "source": [
    "#### LSTM "
   ]
  },
  {
   "cell_type": "code",
   "execution_count": 4,
   "metadata": {},
   "outputs": [],
   "source": [
    "model_sel = 0"
   ]
  },
  {
   "cell_type": "markdown",
   "metadata": {},
   "source": [
    "##### One line feature\n",
    "\n",
    "Usaremos solo una característica como objetivo de predicción"
   ]
  },
  {
   "cell_type": "markdown",
   "metadata": {},
   "source": [
    "Análisis por periodos fijos:\n",
    "\n",
    "Analizaremos el impacot de los heprparámetros para posteriormente buscar los valores optimos de periodos previos y a predecir\n",
    "\n",
    "Fijaremos los periodos usados y a predecir en 20\n",
    "\n",
    "\n",
    "\n",
    "Cambiaremos lo siguiente en cuanto a hiperparámetros y modelo sobre dos metricas usadas: una métrica normalizada como RSI y otro sin normalizar como close:\n",
    "\n",
    "- Layers\n",
    "- Neurons\n",
    "- Epochs\n",
    "- Tipo de normalización\n",
    "- Activacion y función de pérdidas\n",
    "\n",
    "Probemos primero diferentes tipos de noramalización con la siguientes caracterisiticas del modelo:\n",
    "\n",
    "Normalizacion:\n",
    "- 0: Normalizar sobre todo el dataset\n",
    "- 1: Min Max Scaller (No valida al ser una sola line de test y por tanto normalizar con respecto a nada)\n",
    "- 2: Min Max por columnas sobre todo el dataset\n",
    "- 3: Ln\n",
    "- 4: Sin normalización\n"
   ]
  },
  {
   "cell_type": "code",
   "execution_count": 12,
   "metadata": {},
   "outputs": [],
   "source": [
    "target = 'close'"
   ]
  },
  {
   "cell_type": "code",
   "execution_count": 13,
   "metadata": {},
   "outputs": [],
   "source": [
    "columns = columns_1\n",
    "num_features = len(columns)"
   ]
  },
  {
   "cell_type": "code",
   "execution_count": 20,
   "metadata": {},
   "outputs": [
    {
     "name": "stdout",
     "output_type": "stream",
     "text": [
      "Normalizacion: 0\n",
      "Loading... ETH\n",
      "Extracting columns columns for ETH\n",
      "Proccessing and arranging columns for LSTM model\n",
      "Input shape: (1421, 1, 40) (1421, 1)\n",
      "Model: \"sequential_5\"\n",
      "_________________________________________________________________\n",
      "Layer (type)                 Output Shape              Param #   \n",
      "=================================================================\n",
      "lstm_21 (LSTM)               (None, 1, 50)             18200     \n",
      "_________________________________________________________________\n",
      "lstm_22 (LSTM)               (None, 1, 25)             7600      \n",
      "_________________________________________________________________\n",
      "dropout_17 (Dropout)         (None, 1, 25)             0         \n",
      "_________________________________________________________________\n",
      "lstm_23 (LSTM)               (None, 1, 25)             5100      \n",
      "_________________________________________________________________\n",
      "dropout_18 (Dropout)         (None, 1, 25)             0         \n",
      "_________________________________________________________________\n",
      "lstm_24 (LSTM)               (None, 1, 25)             5100      \n",
      "_________________________________________________________________\n",
      "dropout_19 (Dropout)         (None, 1, 25)             0         \n",
      "_________________________________________________________________\n",
      "lstm_25 (LSTM)               (None, 25)                5100      \n",
      "_________________________________________________________________\n",
      "dropout_20 (Dropout)         (None, 25)                0         \n",
      "_________________________________________________________________\n",
      "dense_5 (Dense)              (None, 1)                 26        \n",
      "=================================================================\n",
      "Total params: 41,126\n",
      "Trainable params: 41,126\n",
      "Non-trainable params: 0\n",
      "_________________________________________________________________\n",
      "None\n",
      "Y shape (1421, 1)\n",
      "Train on 1421 samples, validate on 72 samples\n",
      "Epoch 1/2\n",
      " - 9s - loss: 0.6759 - mse: 0.6759 - val_loss: 0.0052 - val_mse: 0.0052\n",
      "Epoch 2/2\n",
      " - 0s - loss: 0.4817 - mse: 0.4817 - val_loss: 0.0891 - val_mse: 0.0891\n",
      "real [[3725.46]]\n",
      "Test RMSE: 724.348\n",
      "Diff [[-724.34753376]]\n",
      "% Diff [[-19.44317034]] %\n",
      "Predictions [[4449.80753376]]\n"
     ]
    },
    {
     "data": {
      "image/png": "[encoded data removed]",
      "text/plain": [
       "<Figure size 432x288 with 1 Axes>"
      ]
     },
     "metadata": {
      "needs_background": "light"
     },
     "output_type": "display_data"
    }
   ],
   "source": [
    "norm_strat = 0\n",
    "print('Normalizacion:', norm_strat)\n",
    "execute_test()"
   ]
  },
  {
   "cell_type": "code",
   "execution_count": null,
   "metadata": {},
   "outputs": [],
   "source": [
    "norm_strat = 2\n",
    "print('Normalizacion:', norm_strat)\n",
    "execute_test()"
   ]
  },
  {
   "cell_type": "code",
   "execution_count": null,
   "metadata": {},
   "outputs": [],
   "source": [
    "norm_strat = 3\n",
    "print('Normalizacion:', norm_strat)\n",
    "execute_test()"
   ]
  },
  {
   "cell_type": "code",
   "execution_count": null,
   "metadata": {},
   "outputs": [],
   "source": [
    "norm_strat = 4\n",
    "print('Normalizacion:', norm_strat)\n",
    "execute_test()"
   ]
  },
  {
   "cell_type": "markdown",
   "metadata": {},
   "source": [
    "Mejor metodo de normalizacion es el 2\n",
    "\n",
    "Nos centramos ahora en la seleccion de columnas. Queremos la mayor información posible. Ahora en vez de selccionar solo una columna como target, seleccionaremos varias para proveer a nuestro futuro bucle de prediccion e inversion de mas información.\n",
    "\n",
    "Para esto, lo mejor será tener la información del precio (suavizada o sin suavizar con SMA o EMA) y algun indicador del momento como RSI, ADX o SO."
   ]
  },
  {
   "cell_type": "markdown",
   "metadata": {},
   "source": [
    "##### Multiples features\n",
    "\n",
    "Usaremos multiples características como objetivos de predicción. De esta manera nuestro modelo final proveera mayor información.\n",
    "\n",
    "Usaremos indicadores ya normalizados entre ciertos valores como RSI, ADX y SO. Entre estos tres ADX suele tener mejores capacidades a la hora de indicar la fuerza de la tendencia. Utilizaremos ADX combinado con algun valor del precio:\n",
    "- close\n",
    "- SMA\n",
    "- EMA\n",
    "\n",
    "Esta vez cambiaremos entre disferentes monedas para dar más validez al resultado final"
   ]
  },
  {
   "cell_type": "code",
   "execution_count": 5,
   "metadata": {},
   "outputs": [],
   "source": [
    "cryptos = ['ETH', 'ADA', 'BTC', 'LNK', 'LTC']"
   ]
  },
  {
   "cell_type": "code",
   "execution_count": 6,
   "metadata": {},
   "outputs": [],
   "source": [
    "columns_2 = ['ADX', 'close']\n",
    "columns_3 = ['ADX', 'EMA_50']\n",
    "columns_4 = ['ADX', 'SMA 50']\n",
    "columns_5 = ['ADX', 'EMA_200']\n",
    "columns_6 = ['ADX', 'SMA 200']\n",
    "\n",
    "target = None\n",
    "norm_strat = 2"
   ]
  },
  {
   "cell_type": "markdown",
   "metadata": {},
   "source": [
    "close"
   ]
  },
  {
   "cell_type": "code",
   "execution_count": null,
   "metadata": {},
   "outputs": [],
   "source": [
    "columns = columns_2\n",
    "num_features = len(columns)\n",
    "for crypto in cryptos:\n",
    "    crypto = crypto\n",
    "    execute_test()"
   ]
  },
  {
   "cell_type": "markdown",
   "metadata": {},
   "source": [
    "EMA 50"
   ]
  },
  {
   "cell_type": "code",
   "execution_count": null,
   "metadata": {},
   "outputs": [],
   "source": [
    "columns = columns_3\n",
    "num_features = len(columns)\n",
    "for crypto in cryptos:\n",
    "    crypto = crypto\n",
    "    execute_test()"
   ]
  },
  {
   "cell_type": "markdown",
   "metadata": {},
   "source": [
    "SMA 50"
   ]
  },
  {
   "cell_type": "code",
   "execution_count": null,
   "metadata": {},
   "outputs": [],
   "source": [
    "columns = columns_4\n",
    "num_features = len(columns)\n",
    "for crypto in cryptos:\n",
    "    crypto = crypto\n",
    "    execute_test()"
   ]
  },
  {
   "cell_type": "markdown",
   "metadata": {},
   "source": [
    "EMA 200"
   ]
  },
  {
   "cell_type": "code",
   "execution_count": null,
   "metadata": {},
   "outputs": [],
   "source": [
    "columns = columns_5\n",
    "num_features = len(columns)\n",
    "for crypto in cryptos:\n",
    "    crypto = crypto\n",
    "    execute_test()"
   ]
  },
  {
   "cell_type": "markdown",
   "metadata": {},
   "source": [
    "SMA 200"
   ]
  },
  {
   "cell_type": "code",
   "execution_count": null,
   "metadata": {},
   "outputs": [],
   "source": [
    "columns = columns_6\n",
    "num_features = len(columns)\n",
    "for crypto in cryptos:\n",
    "    crypto = crypto\n",
    "    execute_test()"
   ]
  },
  {
   "cell_type": "markdown",
   "metadata": {},
   "source": [
    "Tras analizar los resultados obtenidos observamos ligeras mejores cuando el valor del preico esta suavizado (menos outliers). Entre SMA y EMA parece que EMA se comporta ligeramente mejor. No es algo determinante pero seguiremos usando EMA porque cambia de forma mas rapida y de acuerda al valor real de las tendencias porque tiene mas en cuenta los ultimos precios a la hora de calcularse\n",
    "\n",
    "Además hemos visto dificultades en la red para predecir el valor de la métrica ADX. De ahora en adelante analizaremos RSI en vez de ADX pero es posible que si no conseguimos buenas predicciones usemos solo el valor del precio, sus diferencias o la operación mas adecuada (se comenta más adelante estos dos nuevos métodos)"
   ]
  },
  {
   "cell_type": "markdown",
   "metadata": {},
   "source": [
    "Antes de seguir probaremos dos metodos mas:\n",
    "- Uso de la diferencia de precio\n",
    "- Uso de la operación mas conveniente"
   ]
  },
  {
   "cell_type": "code",
   "execution_count": 7,
   "metadata": {},
   "outputs": [],
   "source": [
    "columns_7 = ['RSI', 'close_diff_5']\n",
    "columns_8 = ['RSI', 'close_diff_10']\n",
    "columns_9 = ['RSI', 'close_diff_20']\n",
    "columns_11 = ['op_buy', 'op_sell', 'op_hold'] # Usar softmax"
   ]
  },
  {
   "cell_type": "markdown",
   "metadata": {},
   "source": [
    "Dado que actualmente tenemos puesto el parametro de dias de prediccion a 20, usaremos la columna con un calculo de diferencia de precio de 20 dias -> columns_9"
   ]
  },
  {
   "cell_type": "code",
   "execution_count": 9,
   "metadata": {},
   "outputs": [
    {
     "name": "stdout",
     "output_type": "stream",
     "text": [
      "Loading... ETH\n",
      "Extracting columns columns for ETH\n",
      "Proccessing and arranging columns for LSTM model\n",
      "Input shape: (1415, 20, 2) (1415, 2)\n",
      "Model: \"sequential_6\"\n",
      "_________________________________________________________________\n",
      "Layer (type)                 Output Shape              Param #   \n",
      "=================================================================\n",
      "lstm_26 (LSTM)               (None, 20, 25)            2800      \n",
      "_________________________________________________________________\n",
      "lstm_27 (LSTM)               (None, 20, 25)            5100      \n",
      "_________________________________________________________________\n",
      "dropout_21 (Dropout)         (None, 20, 25)            0         \n",
      "_________________________________________________________________\n",
      "lstm_28 (LSTM)               (None, 20, 25)            5100      \n",
      "_________________________________________________________________\n",
      "dropout_22 (Dropout)         (None, 20, 25)            0         \n",
      "_________________________________________________________________\n",
      "lstm_29 (LSTM)               (None, 20, 25)            5100      \n",
      "_________________________________________________________________\n",
      "dropout_23 (Dropout)         (None, 20, 25)            0         \n",
      "_________________________________________________________________\n",
      "lstm_30 (LSTM)               (None, 25)                5100      \n",
      "_________________________________________________________________\n",
      "dropout_24 (Dropout)         (None, 25)                0         \n",
      "_________________________________________________________________\n",
      "dense_6 (Dense)              (None, 2)                 52        \n",
      "=================================================================\n",
      "Total params: 23,252\n",
      "Trainable params: 23,252\n",
      "Non-trainable params: 0\n",
      "_________________________________________________________________\n",
      "None\n",
      "Y shape (1415, 2)\n",
      "Train on 1415 samples, validate on 71 samples\n",
      "Epoch 1/100\n",
      " - 16s - loss: 0.0689 - mse: 0.0689 - val_loss: 0.0304 - val_mse: 0.0304\n",
      "Epoch 2/100\n",
      " - 5s - loss: 0.0311 - mse: 0.0311 - val_loss: 0.0246 - val_mse: 0.0246\n",
      "Epoch 3/100\n",
      " - 5s - loss: 0.0338 - mse: 0.0338 - val_loss: 0.0273 - val_mse: 0.0273\n",
      "Epoch 4/100\n",
      " - 5s - loss: 0.0364 - mse: 0.0364 - val_loss: 0.0288 - val_mse: 0.0288\n",
      "Epoch 5/100\n",
      " - 5s - loss: 0.0348 - mse: 0.0348 - val_loss: 0.0242 - val_mse: 0.0242\n",
      "Epoch 6/100\n",
      " - 4s - loss: 0.0309 - mse: 0.0309 - val_loss: 0.0221 - val_mse: 0.0221\n",
      "Epoch 7/100\n",
      " - 4s - loss: 0.0296 - mse: 0.0296 - val_loss: 0.0215 - val_mse: 0.0215\n",
      "Epoch 8/100\n",
      " - 5s - loss: 0.0296 - mse: 0.0296 - val_loss: 0.0215 - val_mse: 0.0215\n",
      "Epoch 9/100\n",
      " - 4s - loss: 0.0284 - mse: 0.0284 - val_loss: 0.0210 - val_mse: 0.0210\n",
      "Epoch 10/100\n",
      " - 5s - loss: 0.0288 - mse: 0.0288 - val_loss: 0.0204 - val_mse: 0.0204\n",
      "Epoch 11/100\n",
      " - 6s - loss: 0.0282 - mse: 0.0282 - val_loss: 0.0205 - val_mse: 0.0205\n",
      "Epoch 12/100\n",
      " - 5s - loss: 0.0283 - mse: 0.0283 - val_loss: 0.0201 - val_mse: 0.0201\n",
      "Epoch 13/100\n",
      " - 5s - loss: 0.0271 - mse: 0.0271 - val_loss: 0.0199 - val_mse: 0.0199\n",
      "Epoch 14/100\n",
      " - 6s - loss: 0.0282 - mse: 0.0282 - val_loss: 0.0198 - val_mse: 0.0198\n",
      "Epoch 15/100\n",
      " - 5s - loss: 0.0272 - mse: 0.0272 - val_loss: 0.0197 - val_mse: 0.0197\n",
      "Epoch 16/100\n",
      " - 5s - loss: 0.0274 - mse: 0.0274 - val_loss: 0.0196 - val_mse: 0.0196\n",
      "Epoch 17/100\n",
      " - 5s - loss: 0.0272 - mse: 0.0272 - val_loss: 0.0193 - val_mse: 0.0193\n",
      "Epoch 18/100\n",
      " - 5s - loss: 0.0273 - mse: 0.0273 - val_loss: 0.0192 - val_mse: 0.0192\n",
      "Epoch 19/100\n",
      " - 5s - loss: 0.0272 - mse: 0.0272 - val_loss: 0.0193 - val_mse: 0.0193\n",
      "Epoch 20/100\n",
      " - 5s - loss: 0.0268 - mse: 0.0268 - val_loss: 0.0191 - val_mse: 0.0191\n",
      "Epoch 21/100\n",
      " - 6s - loss: 0.0257 - mse: 0.0257 - val_loss: 0.0190 - val_mse: 0.0190\n",
      "Epoch 22/100\n",
      " - 5s - loss: 0.0268 - mse: 0.0268 - val_loss: 0.0188 - val_mse: 0.0188\n",
      "Epoch 23/100\n",
      " - 4s - loss: 0.0260 - mse: 0.0260 - val_loss: 0.0190 - val_mse: 0.0190\n",
      "Epoch 24/100\n",
      " - 5s - loss: 0.0261 - mse: 0.0261 - val_loss: 0.0190 - val_mse: 0.0190\n",
      "Epoch 25/100\n",
      " - 5s - loss: 0.0265 - mse: 0.0265 - val_loss: 0.0188 - val_mse: 0.0188\n",
      "Epoch 26/100\n",
      " - 4s - loss: 0.0257 - mse: 0.0257 - val_loss: 0.0189 - val_mse: 0.0189\n",
      "Epoch 27/100\n",
      " - 5s - loss: 0.0259 - mse: 0.0259 - val_loss: 0.0187 - val_mse: 0.0187\n",
      "Epoch 28/100\n",
      " - 5s - loss: 0.0258 - mse: 0.0258 - val_loss: 0.0188 - val_mse: 0.0188\n",
      "Epoch 29/100\n",
      " - 5s - loss: 0.0261 - mse: 0.0261 - val_loss: 0.0187 - val_mse: 0.0187\n",
      "Epoch 30/100\n",
      " - 5s - loss: 0.0258 - mse: 0.0258 - val_loss: 0.0187 - val_mse: 0.0187\n",
      "Epoch 31/100\n",
      " - 5s - loss: 0.0248 - mse: 0.0248 - val_loss: 0.0186 - val_mse: 0.0186\n",
      "Epoch 32/100\n",
      " - 5s - loss: 0.0254 - mse: 0.0254 - val_loss: 0.0186 - val_mse: 0.0186\n",
      "Epoch 33/100\n",
      " - 5s - loss: 0.0254 - mse: 0.0254 - val_loss: 0.0185 - val_mse: 0.0185\n",
      "Epoch 34/100\n",
      " - 5s - loss: 0.0243 - mse: 0.0243 - val_loss: 0.0185 - val_mse: 0.0185\n",
      "Epoch 35/100\n",
      " - 4s - loss: 0.0260 - mse: 0.0260 - val_loss: 0.0183 - val_mse: 0.0183\n",
      "Epoch 36/100\n",
      " - 4s - loss: 0.0252 - mse: 0.0252 - val_loss: 0.0185 - val_mse: 0.0185\n",
      "Epoch 37/100\n",
      " - 4s - loss: 0.0247 - mse: 0.0247 - val_loss: 0.0184 - val_mse: 0.0184\n",
      "Epoch 38/100\n",
      " - 4s - loss: 0.0248 - mse: 0.0248 - val_loss: 0.0184 - val_mse: 0.0184\n",
      "Epoch 39/100\n",
      " - 5s - loss: 0.0241 - mse: 0.0241 - val_loss: 0.0183 - val_mse: 0.0183\n",
      "Epoch 40/100\n",
      " - 4s - loss: 0.0248 - mse: 0.0248 - val_loss: 0.0183 - val_mse: 0.0183\n",
      "Epoch 41/100\n",
      " - 4s - loss: 0.0250 - mse: 0.0250 - val_loss: 0.0183 - val_mse: 0.0183\n",
      "Epoch 42/100\n",
      " - 4s - loss: 0.0247 - mse: 0.0247 - val_loss: 0.0182 - val_mse: 0.0182\n",
      "Epoch 43/100\n",
      " - 4s - loss: 0.0247 - mse: 0.0247 - val_loss: 0.0182 - val_mse: 0.0182\n",
      "Epoch 44/100\n",
      " - 4s - loss: 0.0247 - mse: 0.0247 - val_loss: 0.0182 - val_mse: 0.0182\n",
      "Epoch 45/100\n",
      " - 4s - loss: 0.0245 - mse: 0.0245 - val_loss: 0.0182 - val_mse: 0.0182\n",
      "Epoch 46/100\n",
      " - 5s - loss: 0.0247 - mse: 0.0247 - val_loss: 0.0182 - val_mse: 0.0182\n",
      "Epoch 47/100\n",
      " - 5s - loss: 0.0247 - mse: 0.0247 - val_loss: 0.0181 - val_mse: 0.0181\n",
      "Epoch 48/100\n",
      " - 6s - loss: 0.0240 - mse: 0.0240 - val_loss: 0.0181 - val_mse: 0.0181\n",
      "Epoch 49/100\n",
      " - 6s - loss: 0.0237 - mse: 0.0237 - val_loss: 0.0181 - val_mse: 0.0181\n",
      "Epoch 50/100\n",
      " - 6s - loss: 0.0240 - mse: 0.0240 - val_loss: 0.0181 - val_mse: 0.0181\n",
      "Epoch 51/100\n",
      " - 6s - loss: 0.0242 - mse: 0.0242 - val_loss: 0.0181 - val_mse: 0.0181\n",
      "Epoch 52/100\n",
      " - 5s - loss: 0.0242 - mse: 0.0242 - val_loss: 0.0180 - val_mse: 0.0180\n",
      "Epoch 53/100\n",
      " - 5s - loss: 0.0240 - mse: 0.0240 - val_loss: 0.0180 - val_mse: 0.0180\n",
      "Epoch 54/100\n",
      " - 5s - loss: 0.0241 - mse: 0.0241 - val_loss: 0.0181 - val_mse: 0.0181\n",
      "Epoch 55/100\n",
      " - 5s - loss: 0.0240 - mse: 0.0240 - val_loss: 0.0180 - val_mse: 0.0180\n",
      "Epoch 56/100\n",
      " - 5s - loss: 0.0243 - mse: 0.0243 - val_loss: 0.0180 - val_mse: 0.0180\n",
      "Epoch 57/100\n",
      " - 5s - loss: 0.0238 - mse: 0.0238 - val_loss: 0.0180 - val_mse: 0.0180\n",
      "Epoch 58/100\n",
      " - 5s - loss: 0.0241 - mse: 0.0241 - val_loss: 0.0179 - val_mse: 0.0179\n",
      "Epoch 59/100\n",
      " - 5s - loss: 0.0239 - mse: 0.0239 - val_loss: 0.0180 - val_mse: 0.0180\n",
      "real [[  40.19647068 -363.91      ]]\n",
      "Test RMSE: 300.881\n",
      "Diff [[ -12.39729475 -425.32932908]]\n",
      "% Diff [[-30.84174938 116.87761509]] %\n",
      "Predictions [[52.59376543 61.41932908]]\n"
     ]
    },
    {
     "data": {
      "image/png": "[encoded data removed]",
      "text/plain": [
       "<Figure size 432x288 with 1 Axes>"
      ]
     },
     "metadata": {
      "needs_background": "light"
     },
     "output_type": "display_data"
    },
    {
     "name": "stdout",
     "output_type": "stream",
     "text": [
      "Loading... ADA\n",
      "Extracting columns columns for ADA\n",
      "Proccessing and arranging columns for LSTM model\n",
      "Input shape: (1315, 20, 2) (1315, 2)\n",
      "Model: \"sequential_7\"\n",
      "_________________________________________________________________\n",
      "Layer (type)                 Output Shape              Param #   \n",
      "=================================================================\n",
      "lstm_31 (LSTM)               (None, 20, 25)            2800      \n",
      "_________________________________________________________________\n",
      "lstm_32 (LSTM)               (None, 20, 25)            5100      \n",
      "_________________________________________________________________\n",
      "dropout_25 (Dropout)         (None, 20, 25)            0         \n",
      "_________________________________________________________________\n",
      "lstm_33 (LSTM)               (None, 20, 25)            5100      \n",
      "_________________________________________________________________\n",
      "dropout_26 (Dropout)         (None, 20, 25)            0         \n",
      "_________________________________________________________________\n",
      "lstm_34 (LSTM)               (None, 20, 25)            5100      \n",
      "_________________________________________________________________\n",
      "dropout_27 (Dropout)         (None, 20, 25)            0         \n",
      "_________________________________________________________________\n",
      "lstm_35 (LSTM)               (None, 25)                5100      \n",
      "_________________________________________________________________\n",
      "dropout_28 (Dropout)         (None, 25)                0         \n",
      "_________________________________________________________________\n",
      "dense_7 (Dense)              (None, 2)                 52        \n",
      "=================================================================\n",
      "Total params: 23,252\n",
      "Trainable params: 23,252\n",
      "Non-trainable params: 0\n",
      "_________________________________________________________________\n",
      "None\n",
      "Y shape (1315, 2)\n",
      "Train on 1315 samples, validate on 66 samples\n",
      "Epoch 1/100\n",
      " - 14s - loss: 0.0600 - mse: 0.0600 - val_loss: 0.0160 - val_mse: 0.0160\n",
      "Epoch 2/100\n",
      " - 5s - loss: 0.0333 - mse: 0.0333 - val_loss: 0.0414 - val_mse: 0.0414\n",
      "Epoch 3/100\n",
      " - 5s - loss: 0.0341 - mse: 0.0341 - val_loss: 0.0293 - val_mse: 0.0293\n",
      "Epoch 4/100\n",
      " - 4s - loss: 0.0287 - mse: 0.0287 - val_loss: 0.0265 - val_mse: 0.0265\n",
      "Epoch 5/100\n",
      " - 4s - loss: 0.0270 - mse: 0.0270 - val_loss: 0.0291 - val_mse: 0.0291\n",
      "Epoch 6/100\n",
      " - 5s - loss: 0.0273 - mse: 0.0273 - val_loss: 0.0298 - val_mse: 0.0298\n",
      "Epoch 7/100\n",
      " - 5s - loss: 0.0287 - mse: 0.0287 - val_loss: 0.0294 - val_mse: 0.0294\n",
      "Epoch 8/100\n",
      " - 5s - loss: 0.0284 - mse: 0.0284 - val_loss: 0.0267 - val_mse: 0.0267\n",
      "Epoch 9/100\n",
      " - 5s - loss: 0.0267 - mse: 0.0267 - val_loss: 0.0295 - val_mse: 0.0295\n",
      "Epoch 10/100\n",
      " - 5s - loss: 0.0286 - mse: 0.0286 - val_loss: 0.0277 - val_mse: 0.0277\n",
      "Epoch 11/100\n",
      " - 5s - loss: 0.0268 - mse: 0.0268 - val_loss: 0.0291 - val_mse: 0.0291\n",
      "Epoch 12/100\n",
      " - 5s - loss: 0.0266 - mse: 0.0266 - val_loss: 0.0269 - val_mse: 0.0269\n",
      "Epoch 13/100\n",
      " - 5s - loss: 0.0262 - mse: 0.0262 - val_loss: 0.0271 - val_mse: 0.0271\n",
      "Epoch 14/100\n",
      " - 5s - loss: 0.0265 - mse: 0.0265 - val_loss: 0.0285 - val_mse: 0.0285\n",
      "Epoch 15/100\n",
      " - 5s - loss: 0.0260 - mse: 0.0260 - val_loss: 0.0274 - val_mse: 0.0274\n",
      "Epoch 16/100\n",
      " - 5s - loss: 0.0260 - mse: 0.0260 - val_loss: 0.0272 - val_mse: 0.0272\n",
      "Epoch 17/100\n",
      " - 5s - loss: 0.0260 - mse: 0.0260 - val_loss: 0.0275 - val_mse: 0.0275\n",
      "Epoch 18/100\n",
      " - 5s - loss: 0.0252 - mse: 0.0252 - val_loss: 0.0268 - val_mse: 0.0268\n",
      "Epoch 19/100\n",
      " - 6s - loss: 0.0249 - mse: 0.0249 - val_loss: 0.0263 - val_mse: 0.0263\n",
      "Epoch 20/100\n",
      " - 5s - loss: 0.0251 - mse: 0.0251 - val_loss: 0.0269 - val_mse: 0.0269\n",
      "Epoch 21/100\n",
      " - 4s - loss: 0.0256 - mse: 0.0256 - val_loss: 0.0260 - val_mse: 0.0260\n",
      "Epoch 22/100\n",
      " - 5s - loss: 0.0251 - mse: 0.0251 - val_loss: 0.0264 - val_mse: 0.0264\n",
      "Epoch 23/100\n",
      " - 5s - loss: 0.0249 - mse: 0.0249 - val_loss: 0.0277 - val_mse: 0.0277\n",
      "Epoch 24/100\n",
      " - 5s - loss: 0.0245 - mse: 0.0245 - val_loss: 0.0265 - val_mse: 0.0265\n",
      "Epoch 25/100\n",
      " - 5s - loss: 0.0248 - mse: 0.0248 - val_loss: 0.0249 - val_mse: 0.0249\n",
      "Epoch 26/100\n",
      " - 5s - loss: 0.0241 - mse: 0.0241 - val_loss: 0.0271 - val_mse: 0.0271\n",
      "Epoch 27/100\n",
      " - 5s - loss: 0.0248 - mse: 0.0248 - val_loss: 0.0254 - val_mse: 0.0254\n",
      "Epoch 28/100\n",
      " - 5s - loss: 0.0242 - mse: 0.0242 - val_loss: 0.0253 - val_mse: 0.0253\n",
      "Epoch 29/100\n",
      " - 5s - loss: 0.0243 - mse: 0.0243 - val_loss: 0.0258 - val_mse: 0.0258\n",
      "Epoch 30/100\n",
      " - 5s - loss: 0.0242 - mse: 0.0242 - val_loss: 0.0257 - val_mse: 0.0257\n",
      "Epoch 31/100\n",
      " - 5s - loss: 0.0246 - mse: 0.0246 - val_loss: 0.0261 - val_mse: 0.0261\n",
      "Epoch 32/100\n",
      " - 5s - loss: 0.0236 - mse: 0.0236 - val_loss: 0.0261 - val_mse: 0.0261\n",
      "Epoch 33/100\n",
      " - 5s - loss: 0.0233 - mse: 0.0233 - val_loss: 0.0259 - val_mse: 0.0259\n",
      "Epoch 34/100\n",
      " - 5s - loss: 0.0240 - mse: 0.0240 - val_loss: 0.0261 - val_mse: 0.0261\n",
      "Epoch 35/100\n",
      " - 5s - loss: 0.0236 - mse: 0.0236 - val_loss: 0.0258 - val_mse: 0.0258\n",
      "Epoch 36/100\n",
      " - 5s - loss: 0.0236 - mse: 0.0236 - val_loss: 0.0243 - val_mse: 0.0243\n",
      "Epoch 37/100\n",
      " - 5s - loss: 0.0235 - mse: 0.0235 - val_loss: 0.0293 - val_mse: 0.0293\n",
      "Epoch 38/100\n",
      " - 5s - loss: 0.0240 - mse: 0.0240 - val_loss: 0.0247 - val_mse: 0.0247\n",
      "Epoch 39/100\n",
      " - 5s - loss: 0.0237 - mse: 0.0237 - val_loss: 0.0295 - val_mse: 0.0295\n",
      "Epoch 40/100\n",
      " - 5s - loss: 0.0249 - mse: 0.0249 - val_loss: 0.0242 - val_mse: 0.0242\n",
      "Epoch 41/100\n",
      " - 4s - loss: 0.0230 - mse: 0.0230 - val_loss: 0.0260 - val_mse: 0.0260\n",
      "Epoch 42/100\n",
      " - 5s - loss: 0.0229 - mse: 0.0229 - val_loss: 0.0259 - val_mse: 0.0259\n",
      "Epoch 43/100\n",
      " - 5s - loss: 0.0238 - mse: 0.0238 - val_loss: 0.0243 - val_mse: 0.0243\n",
      "Epoch 44/100\n",
      " - 5s - loss: 0.0222 - mse: 0.0222 - val_loss: 0.0264 - val_mse: 0.0264\n",
      "Epoch 45/100\n",
      " - 5s - loss: 0.0229 - mse: 0.0229 - val_loss: 0.0240 - val_mse: 0.0240\n",
      "Epoch 46/100\n",
      " - 5s - loss: 0.0225 - mse: 0.0225 - val_loss: 0.0255 - val_mse: 0.0255\n",
      "Epoch 47/100\n",
      " - 5s - loss: 0.0220 - mse: 0.0220 - val_loss: 0.0247 - val_mse: 0.0247\n",
      "Epoch 48/100\n",
      " - 5s - loss: 0.0227 - mse: 0.0227 - val_loss: 0.0243 - val_mse: 0.0243\n",
      "Epoch 49/100\n",
      " - 5s - loss: 0.0225 - mse: 0.0225 - val_loss: 0.0240 - val_mse: 0.0240\n",
      "Epoch 50/100\n",
      " - 5s - loss: 0.0222 - mse: 0.0222 - val_loss: 0.0249 - val_mse: 0.0249\n",
      "Epoch 51/100\n",
      " - 5s - loss: 0.0223 - mse: 0.0223 - val_loss: 0.0252 - val_mse: 0.0252\n",
      "Epoch 52/100\n",
      " - 5s - loss: 0.0226 - mse: 0.0226 - val_loss: 0.0236 - val_mse: 0.0236\n",
      "Epoch 53/100\n",
      " - 5s - loss: 0.0222 - mse: 0.0222 - val_loss: 0.0248 - val_mse: 0.0248\n",
      "Epoch 54/100\n",
      " - 5s - loss: 0.0224 - mse: 0.0224 - val_loss: 0.0246 - val_mse: 0.0246\n",
      "Epoch 55/100\n",
      " - 5s - loss: 0.0226 - mse: 0.0226 - val_loss: 0.0241 - val_mse: 0.0241\n",
      "Epoch 56/100\n",
      " - 5s - loss: 0.0220 - mse: 0.0220 - val_loss: 0.0262 - val_mse: 0.0262\n",
      "Epoch 57/100\n",
      " - 5s - loss: 0.0230 - mse: 0.0230 - val_loss: 0.0239 - val_mse: 0.0239\n",
      "real [[4.97695293e+01 2.70000000e-02]]\n",
      "Test RMSE: 5.099\n",
      "Diff [[7.20762801 0.20077788]]\n",
      "% Diff [[ 14.48200959 743.621778  ]] %\n",
      "Predictions [[42.56190134 -0.17377788]]\n"
     ]
    },
    {
     "data": {
      "image/png": "[encoded data removed]",
      "text/plain": [
       "<Figure size 432x288 with 1 Axes>"
      ]
     },
     "metadata": {
      "needs_background": "light"
     },
     "output_type": "display_data"
    },
    {
     "name": "stdout",
     "output_type": "stream",
     "text": [
      "Loading... BTC\n",
      "Extracting columns columns for BTC\n",
      "Proccessing and arranging columns for LSTM model\n",
      "Input shape: (1435, 20, 2) (1435, 2)\n",
      "Model: \"sequential_8\"\n",
      "_________________________________________________________________\n",
      "Layer (type)                 Output Shape              Param #   \n",
      "=================================================================\n",
      "lstm_36 (LSTM)               (None, 20, 25)            2800      \n",
      "_________________________________________________________________\n",
      "lstm_37 (LSTM)               (None, 20, 25)            5100      \n",
      "_________________________________________________________________\n",
      "dropout_29 (Dropout)         (None, 20, 25)            0         \n",
      "_________________________________________________________________\n",
      "lstm_38 (LSTM)               (None, 20, 25)            5100      \n",
      "_________________________________________________________________\n",
      "dropout_30 (Dropout)         (None, 20, 25)            0         \n",
      "_________________________________________________________________\n",
      "lstm_39 (LSTM)               (None, 20, 25)            5100      \n",
      "_________________________________________________________________\n",
      "dropout_31 (Dropout)         (None, 20, 25)            0         \n",
      "_________________________________________________________________\n",
      "lstm_40 (LSTM)               (None, 25)                5100      \n",
      "_________________________________________________________________\n",
      "dropout_32 (Dropout)         (None, 25)                0         \n",
      "_________________________________________________________________\n",
      "dense_8 (Dense)              (None, 2)                 52        \n",
      "=================================================================\n",
      "Total params: 23,252\n",
      "Trainable params: 23,252\n",
      "Non-trainable params: 0\n",
      "_________________________________________________________________\n",
      "None\n",
      "Y shape (1435, 2)\n",
      "Train on 1435 samples, validate on 72 samples\n",
      "Epoch 1/100\n",
      " - 16s - loss: 0.1177 - mse: 0.1177 - val_loss: 0.0309 - val_mse: 0.0309\n",
      "Epoch 2/100\n",
      " - 5s - loss: 0.0403 - mse: 0.0403 - val_loss: 0.0488 - val_mse: 0.0488\n",
      "Epoch 3/100\n",
      " - 5s - loss: 0.0358 - mse: 0.0358 - val_loss: 0.0369 - val_mse: 0.0369\n",
      "Epoch 4/100\n",
      " - 5s - loss: 0.0301 - mse: 0.0301 - val_loss: 0.0334 - val_mse: 0.0334\n",
      "Epoch 5/100\n",
      " - 5s - loss: 0.0302 - mse: 0.0302 - val_loss: 0.0368 - val_mse: 0.0368\n",
      "Epoch 6/100\n",
      " - 6s - loss: 0.0302 - mse: 0.0302 - val_loss: 0.0342 - val_mse: 0.0342\n",
      "Epoch 7/100\n",
      " - 6s - loss: 0.0302 - mse: 0.0302 - val_loss: 0.0381 - val_mse: 0.0381\n",
      "Epoch 8/100\n",
      " - 6s - loss: 0.0300 - mse: 0.0300 - val_loss: 0.0390 - val_mse: 0.0390\n",
      "Epoch 9/100\n",
      " - 6s - loss: 0.0303 - mse: 0.0303 - val_loss: 0.0376 - val_mse: 0.0376\n",
      "Epoch 10/100\n",
      " - 6s - loss: 0.0282 - mse: 0.0282 - val_loss: 0.0346 - val_mse: 0.0346\n",
      "Epoch 11/100\n",
      " - 5s - loss: 0.0272 - mse: 0.0272 - val_loss: 0.0368 - val_mse: 0.0368\n",
      "Epoch 12/100\n",
      " - 5s - loss: 0.0272 - mse: 0.0272 - val_loss: 0.0379 - val_mse: 0.0379\n",
      "Epoch 13/100\n",
      " - 6s - loss: 0.0277 - mse: 0.0277 - val_loss: 0.0381 - val_mse: 0.0381\n",
      "Epoch 14/100\n",
      " - 5s - loss: 0.0271 - mse: 0.0271 - val_loss: 0.0348 - val_mse: 0.0348\n",
      "Epoch 15/100\n",
      " - 5s - loss: 0.0276 - mse: 0.0276 - val_loss: 0.0357 - val_mse: 0.0357\n",
      "Epoch 16/100\n",
      " - 5s - loss: 0.0271 - mse: 0.0271 - val_loss: 0.0353 - val_mse: 0.0353\n",
      "Epoch 17/100\n",
      " - 5s - loss: 0.0265 - mse: 0.0265 - val_loss: 0.0366 - val_mse: 0.0366\n",
      "Epoch 18/100\n",
      " - 5s - loss: 0.0267 - mse: 0.0267 - val_loss: 0.0337 - val_mse: 0.0337\n",
      "Epoch 19/100\n",
      " - 5s - loss: 0.0258 - mse: 0.0258 - val_loss: 0.0348 - val_mse: 0.0348\n",
      "Epoch 20/100\n",
      " - 6s - loss: 0.0259 - mse: 0.0259 - val_loss: 0.0334 - val_mse: 0.0334\n",
      "Epoch 21/100\n",
      " - 5s - loss: 0.0251 - mse: 0.0251 - val_loss: 0.0334 - val_mse: 0.0334\n",
      "Epoch 22/100\n",
      " - 5s - loss: 0.0260 - mse: 0.0260 - val_loss: 0.0383 - val_mse: 0.0383\n",
      "Epoch 23/100\n",
      " - 5s - loss: 0.0257 - mse: 0.0257 - val_loss: 0.0322 - val_mse: 0.0322\n",
      "Epoch 24/100\n",
      " - 5s - loss: 0.0247 - mse: 0.0247 - val_loss: 0.0320 - val_mse: 0.0320\n",
      "Epoch 25/100\n",
      " - 6s - loss: 0.0246 - mse: 0.0246 - val_loss: 0.0330 - val_mse: 0.0330\n",
      "Epoch 26/100\n",
      " - 6s - loss: 0.0255 - mse: 0.0255 - val_loss: 0.0338 - val_mse: 0.0338\n",
      "Epoch 27/100\n",
      " - 6s - loss: 0.0246 - mse: 0.0246 - val_loss: 0.0335 - val_mse: 0.0335\n",
      "Epoch 28/100\n",
      " - 5s - loss: 0.0244 - mse: 0.0244 - val_loss: 0.0314 - val_mse: 0.0314\n",
      "Epoch 29/100\n",
      " - 6s - loss: 0.0239 - mse: 0.0239 - val_loss: 0.0326 - val_mse: 0.0326\n",
      "Epoch 30/100\n",
      " - 6s - loss: 0.0249 - mse: 0.0249 - val_loss: 0.0312 - val_mse: 0.0312\n",
      "Epoch 31/100\n",
      " - 5s - loss: 0.0240 - mse: 0.0240 - val_loss: 0.0323 - val_mse: 0.0323\n",
      "Epoch 32/100\n",
      " - 6s - loss: 0.0245 - mse: 0.0245 - val_loss: 0.0308 - val_mse: 0.0308\n",
      "Epoch 33/100\n",
      " - 5s - loss: 0.0237 - mse: 0.0237 - val_loss: 0.0316 - val_mse: 0.0316\n",
      "Epoch 34/100\n",
      " - 7s - loss: 0.0238 - mse: 0.0238 - val_loss: 0.0292 - val_mse: 0.0292\n",
      "Epoch 35/100\n",
      " - 6s - loss: 0.0241 - mse: 0.0241 - val_loss: 0.0289 - val_mse: 0.0289\n",
      "Epoch 36/100\n",
      " - 6s - loss: 0.0236 - mse: 0.0236 - val_loss: 0.0299 - val_mse: 0.0299\n",
      "Epoch 37/100\n",
      " - 5s - loss: 0.0233 - mse: 0.0233 - val_loss: 0.0287 - val_mse: 0.0287\n",
      "Epoch 38/100\n",
      " - 6s - loss: 0.0230 - mse: 0.0230 - val_loss: 0.0303 - val_mse: 0.0303\n",
      "Epoch 39/100\n",
      " - 5s - loss: 0.0234 - mse: 0.0234 - val_loss: 0.0285 - val_mse: 0.0285\n",
      "Epoch 40/100\n",
      " - 5s - loss: 0.0230 - mse: 0.0230 - val_loss: 0.0287 - val_mse: 0.0287\n",
      "Epoch 41/100\n",
      " - 5s - loss: 0.0235 - mse: 0.0235 - val_loss: 0.0283 - val_mse: 0.0283\n",
      "Epoch 42/100\n",
      " - 5s - loss: 0.0230 - mse: 0.0230 - val_loss: 0.0267 - val_mse: 0.0267\n",
      "Epoch 43/100\n",
      " - 5s - loss: 0.0227 - mse: 0.0227 - val_loss: 0.0284 - val_mse: 0.0284\n",
      "Epoch 44/100\n",
      " - 6s - loss: 0.0227 - mse: 0.0227 - val_loss: 0.0274 - val_mse: 0.0274\n",
      "Epoch 45/100\n",
      " - 13s - loss: 0.0223 - mse: 0.0223 - val_loss: 0.0273 - val_mse: 0.0273\n",
      "Epoch 46/100\n",
      " - 6s - loss: 0.0228 - mse: 0.0228 - val_loss: 0.0268 - val_mse: 0.0268\n",
      "Epoch 47/100\n",
      " - 5s - loss: 0.0222 - mse: 0.0222 - val_loss: 0.0277 - val_mse: 0.0277\n",
      "Epoch 48/100\n",
      " - 5s - loss: 0.0231 - mse: 0.0231 - val_loss: 0.0269 - val_mse: 0.0269\n",
      "Epoch 49/100\n",
      " - 5s - loss: 0.0221 - mse: 0.0221 - val_loss: 0.0271 - val_mse: 0.0271\n",
      "Epoch 50/100\n",
      " - 6s - loss: 0.0228 - mse: 0.0228 - val_loss: 0.0285 - val_mse: 0.0285\n",
      "Epoch 51/100\n",
      " - 5s - loss: 0.0233 - mse: 0.0233 - val_loss: 0.0272 - val_mse: 0.0272\n",
      "Epoch 52/100\n",
      " - 5s - loss: 0.0226 - mse: 0.0226 - val_loss: 0.0264 - val_mse: 0.0264\n",
      "Epoch 53/100\n",
      " - 5s - loss: 0.0229 - mse: 0.0229 - val_loss: 0.0263 - val_mse: 0.0263\n",
      "Epoch 54/100\n",
      " - 5s - loss: 0.0227 - mse: 0.0227 - val_loss: 0.0271 - val_mse: 0.0271\n",
      "Epoch 55/100\n",
      " - 5s - loss: 0.0226 - mse: 0.0226 - val_loss: 0.0268 - val_mse: 0.0268\n",
      "Epoch 56/100\n",
      " - 5s - loss: 0.0224 - mse: 0.0224 - val_loss: 0.0260 - val_mse: 0.0260\n",
      "Epoch 57/100\n",
      " - 5s - loss: 0.0227 - mse: 0.0227 - val_loss: 0.0271 - val_mse: 0.0271\n",
      "Epoch 58/100\n",
      " - 5s - loss: 0.0216 - mse: 0.0216 - val_loss: 0.0255 - val_mse: 0.0255\n",
      "Epoch 59/100\n",
      " - 5s - loss: 0.0217 - mse: 0.0217 - val_loss: 0.0269 - val_mse: 0.0269\n",
      "Epoch 60/100\n",
      " - 5s - loss: 0.0221 - mse: 0.0221 - val_loss: 0.0252 - val_mse: 0.0252\n",
      "Epoch 61/100\n",
      " - 5s - loss: 0.0221 - mse: 0.0221 - val_loss: 0.0266 - val_mse: 0.0266\n",
      "Epoch 62/100\n",
      " - 5s - loss: 0.0222 - mse: 0.0222 - val_loss: 0.0259 - val_mse: 0.0259\n",
      "Epoch 63/100\n",
      " - 5s - loss: 0.0215 - mse: 0.0215 - val_loss: 0.0262 - val_mse: 0.0262\n",
      "Epoch 64/100\n",
      " - 6s - loss: 0.0213 - mse: 0.0213 - val_loss: 0.0251 - val_mse: 0.0251\n",
      "Epoch 65/100\n",
      " - 5s - loss: 0.0218 - mse: 0.0218 - val_loss: 0.0260 - val_mse: 0.0260\n",
      "Epoch 66/100\n",
      " - 5s - loss: 0.0221 - mse: 0.0221 - val_loss: 0.0256 - val_mse: 0.0256\n",
      "Epoch 67/100\n",
      " - 5s - loss: 0.0217 - mse: 0.0217 - val_loss: 0.0253 - val_mse: 0.0253\n",
      "Epoch 68/100\n",
      " - 5s - loss: 0.0217 - mse: 0.0217 - val_loss: 0.0253 - val_mse: 0.0253\n",
      "Epoch 69/100\n",
      " - 5s - loss: 0.0215 - mse: 0.0215 - val_loss: 0.0255 - val_mse: 0.0255\n",
      "Epoch 70/100\n",
      " - 5s - loss: 0.0219 - mse: 0.0219 - val_loss: 0.0250 - val_mse: 0.0250\n",
      "Epoch 71/100\n",
      " - 5s - loss: 0.0215 - mse: 0.0215 - val_loss: 0.0248 - val_mse: 0.0248\n",
      "Epoch 72/100\n",
      " - 5s - loss: 0.0215 - mse: 0.0215 - val_loss: 0.0255 - val_mse: 0.0255\n",
      "Epoch 73/100\n",
      " - 5s - loss: 0.0217 - mse: 0.0217 - val_loss: 0.0253 - val_mse: 0.0253\n",
      "Epoch 74/100\n",
      " - 5s - loss: 0.0216 - mse: 0.0216 - val_loss: 0.0248 - val_mse: 0.0248\n",
      "real [[   35.6092823 -4455.04     ]]\n",
      "Test RMSE: 2677.751\n",
      "Diff [[  -13.44861683 -3786.88746633]]\n",
      "% Diff [[-37.76716619  85.00232246]] %\n",
      "Predictions [[  49.05789913 -668.15253367]]\n"
     ]
    },
    {
     "data": {
      "image/png": "[encoded data removed]",
      "text/plain": [
       "<Figure size 432x288 with 1 Axes>"
      ]
     },
     "metadata": {
      "needs_background": "light"
     },
     "output_type": "display_data"
    },
    {
     "name": "stdout",
     "output_type": "stream",
     "text": [
      "Loading... LNK\n",
      "Extracting columns columns for LNK\n",
      "Proccessing and arranging columns for LSTM model\n",
      "Input shape: (1041, 20, 2) (1041, 2)\n",
      "Model: \"sequential_9\"\n",
      "_________________________________________________________________\n",
      "Layer (type)                 Output Shape              Param #   \n",
      "=================================================================\n",
      "lstm_41 (LSTM)               (None, 20, 25)            2800      \n",
      "_________________________________________________________________\n",
      "lstm_42 (LSTM)               (None, 20, 25)            5100      \n",
      "_________________________________________________________________\n",
      "dropout_33 (Dropout)         (None, 20, 25)            0         \n",
      "_________________________________________________________________\n",
      "lstm_43 (LSTM)               (None, 20, 25)            5100      \n",
      "_________________________________________________________________\n",
      "dropout_34 (Dropout)         (None, 20, 25)            0         \n",
      "_________________________________________________________________\n",
      "lstm_44 (LSTM)               (None, 20, 25)            5100      \n",
      "_________________________________________________________________\n",
      "dropout_35 (Dropout)         (None, 20, 25)            0         \n",
      "_________________________________________________________________\n",
      "lstm_45 (LSTM)               (None, 25)                5100      \n",
      "_________________________________________________________________\n",
      "dropout_36 (Dropout)         (None, 25)                0         \n",
      "_________________________________________________________________\n",
      "dense_9 (Dense)              (None, 2)                 52        \n",
      "=================================================================\n",
      "Total params: 23,252\n",
      "Trainable params: 23,252\n",
      "Non-trainable params: 0\n",
      "_________________________________________________________________\n",
      "None\n",
      "Y shape (1041, 2)\n",
      "Train on 1041 samples, validate on 53 samples\n",
      "Epoch 1/100\n",
      " - 13s - loss: 0.1698 - mse: 0.1698 - val_loss: 0.0645 - val_mse: 0.0645\n",
      "Epoch 2/100\n",
      " - 4s - loss: 0.0465 - mse: 0.0465 - val_loss: 0.0407 - val_mse: 0.0407\n",
      "Epoch 3/100\n",
      " - 4s - loss: 0.0383 - mse: 0.0383 - val_loss: 0.0416 - val_mse: 0.0416\n",
      "Epoch 4/100\n",
      " - 4s - loss: 0.0369 - mse: 0.0369 - val_loss: 0.0398 - val_mse: 0.0398\n",
      "Epoch 5/100\n",
      " - 4s - loss: 0.0355 - mse: 0.0355 - val_loss: 0.0407 - val_mse: 0.0407\n",
      "Epoch 6/100\n",
      " - 4s - loss: 0.0321 - mse: 0.0321 - val_loss: 0.0373 - val_mse: 0.0373\n",
      "Epoch 7/100\n",
      " - 4s - loss: 0.0333 - mse: 0.0333 - val_loss: 0.0365 - val_mse: 0.0365\n",
      "Epoch 8/100\n",
      " - 4s - loss: 0.0322 - mse: 0.0322 - val_loss: 0.0347 - val_mse: 0.0347\n",
      "Epoch 9/100\n",
      " - 5s - loss: 0.0321 - mse: 0.0321 - val_loss: 0.0365 - val_mse: 0.0365\n",
      "Epoch 10/100\n",
      " - 4s - loss: 0.0317 - mse: 0.0317 - val_loss: 0.0370 - val_mse: 0.0370\n",
      "Epoch 11/100\n",
      " - 4s - loss: 0.0307 - mse: 0.0307 - val_loss: 0.0347 - val_mse: 0.0347\n",
      "Epoch 12/100\n",
      " - 4s - loss: 0.0306 - mse: 0.0306 - val_loss: 0.0351 - val_mse: 0.0351\n",
      "Epoch 13/100\n",
      " - 4s - loss: 0.0298 - mse: 0.0298 - val_loss: 0.0346 - val_mse: 0.0346\n",
      "Epoch 14/100\n",
      " - 4s - loss: 0.0302 - mse: 0.0302 - val_loss: 0.0330 - val_mse: 0.0330\n",
      "Epoch 15/100\n",
      " - 4s - loss: 0.0299 - mse: 0.0299 - val_loss: 0.0327 - val_mse: 0.0327\n",
      "Epoch 16/100\n",
      " - 4s - loss: 0.0308 - mse: 0.0308 - val_loss: 0.0308 - val_mse: 0.0308\n",
      "Epoch 17/100\n",
      " - 4s - loss: 0.0301 - mse: 0.0301 - val_loss: 0.0337 - val_mse: 0.0337\n",
      "Epoch 18/100\n",
      " - 4s - loss: 0.0287 - mse: 0.0287 - val_loss: 0.0336 - val_mse: 0.0336\n",
      "Epoch 19/100\n",
      " - 4s - loss: 0.0296 - mse: 0.0296 - val_loss: 0.0327 - val_mse: 0.0327\n",
      "Epoch 20/100\n",
      " - 4s - loss: 0.0299 - mse: 0.0299 - val_loss: 0.0313 - val_mse: 0.0313\n",
      "Epoch 21/100\n",
      " - 4s - loss: 0.0284 - mse: 0.0284 - val_loss: 0.0333 - val_mse: 0.0333\n",
      "Epoch 22/100\n",
      " - 4s - loss: 0.0300 - mse: 0.0300 - val_loss: 0.0325 - val_mse: 0.0325\n",
      "Epoch 23/100\n",
      " - 4s - loss: 0.0280 - mse: 0.0280 - val_loss: 0.0343 - val_mse: 0.0343\n",
      "Epoch 24/100\n",
      " - 4s - loss: 0.0294 - mse: 0.0294 - val_loss: 0.0331 - val_mse: 0.0331\n",
      "Epoch 25/100\n",
      " - 4s - loss: 0.0282 - mse: 0.0282 - val_loss: 0.0324 - val_mse: 0.0324\n",
      "Epoch 26/100\n",
      " - 4s - loss: 0.0292 - mse: 0.0292 - val_loss: 0.0323 - val_mse: 0.0323\n",
      "Epoch 27/100\n",
      " - 4s - loss: 0.0290 - mse: 0.0290 - val_loss: 0.0313 - val_mse: 0.0313\n",
      "Epoch 28/100\n",
      " - 4s - loss: 0.0291 - mse: 0.0291 - val_loss: 0.0316 - val_mse: 0.0316\n",
      "Epoch 29/100\n",
      " - 4s - loss: 0.0280 - mse: 0.0280 - val_loss: 0.0317 - val_mse: 0.0317\n",
      "Epoch 30/100\n",
      " - 4s - loss: 0.0283 - mse: 0.0283 - val_loss: 0.0327 - val_mse: 0.0327\n",
      "Epoch 31/100\n",
      " - 4s - loss: 0.0288 - mse: 0.0288 - val_loss: 0.0322 - val_mse: 0.0322\n",
      "Epoch 32/100\n",
      " - 4s - loss: 0.0283 - mse: 0.0283 - val_loss: 0.0333 - val_mse: 0.0333\n",
      "Epoch 33/100\n",
      " - 4s - loss: 0.0283 - mse: 0.0283 - val_loss: 0.0325 - val_mse: 0.0325\n",
      "real [[40.87368707  1.96      ]]\n",
      "Test RMSE: 8.568\n",
      "Diff [[-11.80203356   2.74599694]]\n",
      "% Diff [[-28.87440408 140.10188463]] %\n",
      "Predictions [[52.67572063 -0.78599694]]\n"
     ]
    },
    {
     "data": {
      "image/png": "[encoded data removed]",
      "text/plain": [
       "<Figure size 432x288 with 1 Axes>"
      ]
     },
     "metadata": {
      "needs_background": "light"
     },
     "output_type": "display_data"
    },
    {
     "name": "stdout",
     "output_type": "stream",
     "text": [
      "Loading... LTC\n",
      "Extracting columns columns for LTC\n",
      "Proccessing and arranging columns for LSTM model\n",
      "Input shape: (1435, 20, 2) (1435, 2)\n",
      "Model: \"sequential_10\"\n",
      "_________________________________________________________________\n",
      "Layer (type)                 Output Shape              Param #   \n",
      "=================================================================\n",
      "lstm_46 (LSTM)               (None, 20, 25)            2800      \n",
      "_________________________________________________________________\n",
      "lstm_47 (LSTM)               (None, 20, 25)            5100      \n",
      "_________________________________________________________________\n",
      "dropout_37 (Dropout)         (None, 20, 25)            0         \n",
      "_________________________________________________________________\n",
      "lstm_48 (LSTM)               (None, 20, 25)            5100      \n",
      "_________________________________________________________________\n",
      "dropout_38 (Dropout)         (None, 20, 25)            0         \n",
      "_________________________________________________________________\n",
      "lstm_49 (LSTM)               (None, 20, 25)            5100      \n",
      "_________________________________________________________________\n",
      "dropout_39 (Dropout)         (None, 20, 25)            0         \n",
      "_________________________________________________________________\n",
      "lstm_50 (LSTM)               (None, 25)                5100      \n",
      "_________________________________________________________________\n",
      "dropout_40 (Dropout)         (None, 25)                0         \n",
      "_________________________________________________________________\n",
      "dense_10 (Dense)             (None, 2)                 52        \n",
      "=================================================================\n",
      "Total params: 23,252\n",
      "Trainable params: 23,252\n",
      "Non-trainable params: 0\n",
      "_________________________________________________________________\n",
      "None\n",
      "Y shape (1435, 2)\n",
      "Train on 1435 samples, validate on 72 samples\n",
      "Epoch 1/100\n",
      " - 15s - loss: 0.1083 - mse: 0.1083 - val_loss: 0.0242 - val_mse: 0.0242\n",
      "Epoch 2/100\n",
      " - 5s - loss: 0.0362 - mse: 0.0362 - val_loss: 0.0260 - val_mse: 0.0260\n",
      "Epoch 3/100\n",
      " - 5s - loss: 0.0318 - mse: 0.0318 - val_loss: 0.0297 - val_mse: 0.0297\n",
      "Epoch 4/100\n",
      " - 5s - loss: 0.0327 - mse: 0.0327 - val_loss: 0.0310 - val_mse: 0.0310\n",
      "Epoch 5/100\n",
      " - 5s - loss: 0.0319 - mse: 0.0319 - val_loss: 0.0329 - val_mse: 0.0329\n",
      "Epoch 6/100\n",
      " - 5s - loss: 0.0315 - mse: 0.0315 - val_loss: 0.0351 - val_mse: 0.0351\n",
      "Epoch 7/100\n",
      " - 5s - loss: 0.0322 - mse: 0.0322 - val_loss: 0.0358 - val_mse: 0.0358\n",
      "Epoch 8/100\n",
      " - 5s - loss: 0.0318 - mse: 0.0318 - val_loss: 0.0345 - val_mse: 0.0345\n",
      "Epoch 9/100\n",
      " - 5s - loss: 0.0311 - mse: 0.0311 - val_loss: 0.0316 - val_mse: 0.0316\n",
      "Epoch 10/100\n",
      " - 5s - loss: 0.0304 - mse: 0.0304 - val_loss: 0.0317 - val_mse: 0.0317\n",
      "Epoch 11/100\n",
      " - 5s - loss: 0.0294 - mse: 0.0294 - val_loss: 0.0321 - val_mse: 0.0321\n",
      "Epoch 12/100\n",
      " - 5s - loss: 0.0292 - mse: 0.0292 - val_loss: 0.0301 - val_mse: 0.0301\n",
      "Epoch 13/100\n",
      " - 5s - loss: 0.0288 - mse: 0.0288 - val_loss: 0.0316 - val_mse: 0.0316\n",
      "Epoch 14/100\n",
      " - 5s - loss: 0.0290 - mse: 0.0290 - val_loss: 0.0306 - val_mse: 0.0306\n",
      "Epoch 15/100\n",
      " - 6s - loss: 0.0286 - mse: 0.0286 - val_loss: 0.0299 - val_mse: 0.0299\n",
      "Epoch 16/100\n",
      " - 5s - loss: 0.0280 - mse: 0.0280 - val_loss: 0.0293 - val_mse: 0.0293\n",
      "Epoch 17/100\n",
      " - 5s - loss: 0.0271 - mse: 0.0271 - val_loss: 0.0289 - val_mse: 0.0289\n",
      "Epoch 18/100\n",
      " - 5s - loss: 0.0275 - mse: 0.0275 - val_loss: 0.0296 - val_mse: 0.0296\n",
      "Epoch 19/100\n",
      " - 5s - loss: 0.0270 - mse: 0.0270 - val_loss: 0.0282 - val_mse: 0.0282\n",
      "Epoch 20/100\n",
      " - 5s - loss: 0.0270 - mse: 0.0270 - val_loss: 0.0288 - val_mse: 0.0288\n",
      "Epoch 21/100\n",
      " - 5s - loss: 0.0266 - mse: 0.0266 - val_loss: 0.0293 - val_mse: 0.0293\n",
      "Epoch 22/100\n",
      " - 5s - loss: 0.0261 - mse: 0.0261 - val_loss: 0.0288 - val_mse: 0.0288\n",
      "Epoch 23/100\n",
      " - 5s - loss: 0.0274 - mse: 0.0274 - val_loss: 0.0292 - val_mse: 0.0292\n",
      "Epoch 24/100\n",
      " - 5s - loss: 0.0263 - mse: 0.0263 - val_loss: 0.0279 - val_mse: 0.0279\n",
      "Epoch 25/100\n",
      " - 5s - loss: 0.0268 - mse: 0.0268 - val_loss: 0.0288 - val_mse: 0.0288\n",
      "Epoch 26/100\n",
      " - 6s - loss: 0.0267 - mse: 0.0267 - val_loss: 0.0282 - val_mse: 0.0282\n",
      "Epoch 27/100\n",
      " - 5s - loss: 0.0263 - mse: 0.0263 - val_loss: 0.0274 - val_mse: 0.0274\n",
      "Epoch 28/100\n",
      " - 5s - loss: 0.0258 - mse: 0.0258 - val_loss: 0.0284 - val_mse: 0.0284\n",
      "Epoch 29/100\n",
      " - 5s - loss: 0.0257 - mse: 0.0257 - val_loss: 0.0278 - val_mse: 0.0278\n",
      "Epoch 30/100\n",
      " - 5s - loss: 0.0260 - mse: 0.0260 - val_loss: 0.0282 - val_mse: 0.0282\n",
      "Epoch 31/100\n",
      " - 5s - loss: 0.0254 - mse: 0.0254 - val_loss: 0.0277 - val_mse: 0.0277\n",
      "Epoch 32/100\n",
      " - 5s - loss: 0.0256 - mse: 0.0256 - val_loss: 0.0274 - val_mse: 0.0274\n",
      "Epoch 33/100\n",
      " - 5s - loss: 0.0252 - mse: 0.0252 - val_loss: 0.0276 - val_mse: 0.0276\n",
      "Epoch 34/100\n",
      " - 5s - loss: 0.0253 - mse: 0.0253 - val_loss: 0.0280 - val_mse: 0.0280\n",
      "Epoch 35/100\n",
      " - 5s - loss: 0.0241 - mse: 0.0241 - val_loss: 0.0276 - val_mse: 0.0276\n",
      "Epoch 36/100\n",
      " - 5s - loss: 0.0255 - mse: 0.0255 - val_loss: 0.0279 - val_mse: 0.0279\n",
      "Epoch 37/100\n",
      " - 5s - loss: 0.0246 - mse: 0.0246 - val_loss: 0.0279 - val_mse: 0.0279\n",
      "Epoch 38/100\n",
      " - 5s - loss: 0.0242 - mse: 0.0242 - val_loss: 0.0274 - val_mse: 0.0274\n",
      "Epoch 39/100\n",
      " - 5s - loss: 0.0244 - mse: 0.0244 - val_loss: 0.0280 - val_mse: 0.0280\n",
      "Epoch 40/100\n",
      " - 5s - loss: 0.0246 - mse: 0.0246 - val_loss: 0.0268 - val_mse: 0.0268\n",
      "Epoch 41/100\n",
      " - 5s - loss: 0.0241 - mse: 0.0241 - val_loss: 0.0281 - val_mse: 0.0281\n",
      "Epoch 42/100\n",
      " - 5s - loss: 0.0245 - mse: 0.0245 - val_loss: 0.0266 - val_mse: 0.0266\n",
      "Epoch 43/100\n",
      " - 5s - loss: 0.0240 - mse: 0.0240 - val_loss: 0.0277 - val_mse: 0.0277\n",
      "Epoch 44/100\n",
      " - 5s - loss: 0.0243 - mse: 0.0243 - val_loss: 0.0273 - val_mse: 0.0273\n",
      "Epoch 45/100\n",
      " - 5s - loss: 0.0244 - mse: 0.0244 - val_loss: 0.0275 - val_mse: 0.0275\n",
      "Epoch 46/100\n",
      " - 5s - loss: 0.0231 - mse: 0.0231 - val_loss: 0.0262 - val_mse: 0.0262\n",
      "Epoch 47/100\n",
      " - 5s - loss: 0.0241 - mse: 0.0241 - val_loss: 0.0276 - val_mse: 0.0276\n",
      "Epoch 48/100\n",
      " - 5s - loss: 0.0239 - mse: 0.0239 - val_loss: 0.0276 - val_mse: 0.0276\n",
      "Epoch 49/100\n",
      " - 5s - loss: 0.0236 - mse: 0.0236 - val_loss: 0.0263 - val_mse: 0.0263\n",
      "Epoch 50/100\n",
      " - 5s - loss: 0.0238 - mse: 0.0238 - val_loss: 0.0269 - val_mse: 0.0269\n",
      "Epoch 51/100\n",
      " - 5s - loss: 0.0236 - mse: 0.0236 - val_loss: 0.0267 - val_mse: 0.0267\n",
      "Epoch 52/100\n",
      " - 5s - loss: 0.0238 - mse: 0.0238 - val_loss: 0.0277 - val_mse: 0.0277\n",
      "Epoch 53/100\n",
      " - 5s - loss: 0.0231 - mse: 0.0231 - val_loss: 0.0268 - val_mse: 0.0268\n",
      "Epoch 54/100\n",
      " - 5s - loss: 0.0234 - mse: 0.0234 - val_loss: 0.0268 - val_mse: 0.0268\n",
      "Epoch 55/100\n",
      " - 5s - loss: 0.0235 - mse: 0.0235 - val_loss: 0.0267 - val_mse: 0.0267\n",
      "Epoch 56/100\n",
      " - 5s - loss: 0.0236 - mse: 0.0236 - val_loss: 0.0271 - val_mse: 0.0271\n",
      "Epoch 57/100\n",
      " - 5s - loss: 0.0235 - mse: 0.0235 - val_loss: 0.0265 - val_mse: 0.0265\n",
      "Epoch 58/100\n",
      " - 5s - loss: 0.0239 - mse: 0.0239 - val_loss: 0.0270 - val_mse: 0.0270\n",
      "Epoch 59/100\n",
      " - 5s - loss: 0.0233 - mse: 0.0233 - val_loss: 0.0271 - val_mse: 0.0271\n",
      "Epoch 60/100\n",
      " - 5s - loss: 0.0226 - mse: 0.0226 - val_loss: 0.0272 - val_mse: 0.0272\n",
      "Epoch 61/100\n",
      " - 5s - loss: 0.0228 - mse: 0.0228 - val_loss: 0.0273 - val_mse: 0.0273\n",
      "Epoch 62/100\n",
      " - 5s - loss: 0.0226 - mse: 0.0226 - val_loss: 0.0275 - val_mse: 0.0275\n",
      "Epoch 63/100\n",
      " - 5s - loss: 0.0228 - mse: 0.0228 - val_loss: 0.0271 - val_mse: 0.0271\n",
      "Epoch 64/100\n",
      " - 5s - loss: 0.0228 - mse: 0.0228 - val_loss: 0.0270 - val_mse: 0.0270\n",
      "Epoch 65/100\n",
      " - 6s - loss: 0.0223 - mse: 0.0223 - val_loss: 0.0267 - val_mse: 0.0267\n",
      "Epoch 66/100\n",
      " - 6s - loss: 0.0230 - mse: 0.0230 - val_loss: 0.0269 - val_mse: 0.0269\n",
      "Epoch 67/100\n",
      " - 5s - loss: 0.0225 - mse: 0.0225 - val_loss: 0.0271 - val_mse: 0.0271\n",
      "Epoch 68/100\n",
      " - 5s - loss: 0.0226 - mse: 0.0226 - val_loss: 0.0264 - val_mse: 0.0264\n",
      "Epoch 69/100\n",
      " - 5s - loss: 0.0227 - mse: 0.0227 - val_loss: 0.0267 - val_mse: 0.0267\n",
      "Epoch 70/100\n",
      " - 5s - loss: 0.0225 - mse: 0.0225 - val_loss: 0.0273 - val_mse: 0.0273\n",
      "Epoch 71/100\n",
      " - 5s - loss: 0.0227 - mse: 0.0227 - val_loss: 0.0263 - val_mse: 0.0263\n",
      "Epoch 72/100\n",
      " - 5s - loss: 0.0223 - mse: 0.0223 - val_loss: 0.0270 - val_mse: 0.0270\n",
      "Epoch 73/100\n",
      " - 5s - loss: 0.0222 - mse: 0.0222 - val_loss: 0.0266 - val_mse: 0.0266\n",
      "Epoch 74/100\n",
      " - 6s - loss: 0.0220 - mse: 0.0220 - val_loss: 0.0266 - val_mse: 0.0266\n",
      "Epoch 75/100\n",
      " - 5s - loss: 0.0217 - mse: 0.0217 - val_loss: 0.0264 - val_mse: 0.0264\n",
      "Epoch 76/100\n",
      " - 5s - loss: 0.0221 - mse: 0.0221 - val_loss: 0.0262 - val_mse: 0.0262\n",
      "Epoch 77/100\n",
      " - 5s - loss: 0.0221 - mse: 0.0221 - val_loss: 0.0266 - val_mse: 0.0266\n",
      "Epoch 78/100\n",
      " - 5s - loss: 0.0218 - mse: 0.0218 - val_loss: 0.0262 - val_mse: 0.0262\n",
      "Epoch 79/100\n",
      " - 5s - loss: 0.0219 - mse: 0.0219 - val_loss: 0.0268 - val_mse: 0.0268\n",
      "Epoch 80/100\n",
      " - 5s - loss: 0.0219 - mse: 0.0219 - val_loss: 0.0267 - val_mse: 0.0267\n",
      "Epoch 81/100\n",
      " - 5s - loss: 0.0217 - mse: 0.0217 - val_loss: 0.0267 - val_mse: 0.0267\n",
      "Epoch 82/100\n",
      " - 5s - loss: 0.0222 - mse: 0.0222 - val_loss: 0.0262 - val_mse: 0.0262\n",
      "Epoch 83/100\n",
      " - 5s - loss: 0.0217 - mse: 0.0217 - val_loss: 0.0260 - val_mse: 0.0260\n",
      "Epoch 84/100\n",
      " - 5s - loss: 0.0217 - mse: 0.0217 - val_loss: 0.0262 - val_mse: 0.0262\n",
      "Epoch 85/100\n",
      " - 5s - loss: 0.0224 - mse: 0.0224 - val_loss: 0.0260 - val_mse: 0.0260\n",
      "Epoch 86/100\n",
      " - 5s - loss: 0.0212 - mse: 0.0212 - val_loss: 0.0261 - val_mse: 0.0261\n",
      "Epoch 87/100\n",
      " - 5s - loss: 0.0219 - mse: 0.0219 - val_loss: 0.0261 - val_mse: 0.0261\n",
      "Epoch 88/100\n",
      " - 5s - loss: 0.0221 - mse: 0.0221 - val_loss: 0.0261 - val_mse: 0.0261\n",
      "Epoch 89/100\n",
      " - 5s - loss: 0.0211 - mse: 0.0211 - val_loss: 0.0261 - val_mse: 0.0261\n",
      "Epoch 90/100\n",
      " - 6s - loss: 0.0217 - mse: 0.0217 - val_loss: 0.0256 - val_mse: 0.0256\n",
      "Epoch 91/100\n",
      " - 5s - loss: 0.0220 - mse: 0.0220 - val_loss: 0.0259 - val_mse: 0.0259\n",
      "Epoch 92/100\n",
      " - 5s - loss: 0.0215 - mse: 0.0215 - val_loss: 0.0257 - val_mse: 0.0257\n",
      "Epoch 93/100\n",
      " - 5s - loss: 0.0217 - mse: 0.0217 - val_loss: 0.0259 - val_mse: 0.0259\n",
      "Epoch 94/100\n",
      " - 5s - loss: 0.0214 - mse: 0.0214 - val_loss: 0.0257 - val_mse: 0.0257\n",
      "Epoch 95/100\n",
      " - 5s - loss: 0.0214 - mse: 0.0214 - val_loss: 0.0262 - val_mse: 0.0262\n",
      "Epoch 96/100\n",
      " - 5s - loss: 0.0213 - mse: 0.0213 - val_loss: 0.0255 - val_mse: 0.0255\n",
      "Epoch 97/100\n",
      " - 5s - loss: 0.0217 - mse: 0.0217 - val_loss: 0.0254 - val_mse: 0.0254\n",
      "Epoch 98/100\n",
      " - 5s - loss: 0.0211 - mse: 0.0211 - val_loss: 0.0254 - val_mse: 0.0254\n",
      "Epoch 99/100\n",
      " - 5s - loss: 0.0213 - mse: 0.0213 - val_loss: 0.0261 - val_mse: 0.0261\n",
      "real [[43.70006347 -9.2       ]]\n",
      "Test RMSE: 2.314\n",
      "Diff [[2.67097163 1.89135794]]\n",
      "% Diff [[  6.11205435 -20.55823848]] %\n",
      "Predictions [[ 41.02909184 -11.09135794]]\n"
     ]
    },
    {
     "data": {
      "image/png": "[encoded data removed]",
      "text/plain": [
       "<Figure size 432x288 with 1 Axes>"
      ]
     },
     "metadata": {
      "needs_background": "light"
     },
     "output_type": "display_data"
    }
   ],
   "source": [
    "columns = columns_9\n",
    "num_features = len(columns)\n",
    "\n",
    "for crypto in cryptos:\n",
    "    crypto = crypto\n",
    "    execute_test()"
   ]
  },
  {
   "cell_type": "markdown",
   "metadata": {},
   "source": [
    "Este metodo ofrece resultados aceptables en comparación con el calculo del precio como valor y por tanto usaremos este en vez del precio final como prediccion dado que si calculamos el preico final luego debemos calcular cuanto mas sube o baja con respecto al dia actual. Este método ya nos da directamente ese valor\n",
    "\n",
    "Como podemos ver la precision de prediccion no es demasiado acertada para las metricas y por tanto evitaremos su uso en nuestro modelo final\n",
    "\n",
    "La precision de este metodo mejorará al usar menos dias de predicción. De todas formas trataremos de mejorar la red con 20 dias en adelante antes de bajar a 10 o 5 dias"
   ]
  },
  {
   "cell_type": "markdown",
   "metadata": {},
   "source": [
    "----------------------"
   ]
  },
  {
   "cell_type": "markdown",
   "metadata": {},
   "source": [
    "Para calcular la operacion mas adecuada debemos cambiar la red para aceptar una activación softmax\n",
    "\n",
    "Vamos a buscar ejemplos donde se realiza una venta o compra en la fila de test para poner mas aprueba al modelo (debido a que la mayoria son hold).\n",
    "\n"
   ]
  },
  {
   "cell_type": "code",
   "execution_count": null,
   "metadata": {},
   "outputs": [],
   "source": [
    "columns = columns_11\n",
    "\n",
    "activation = 'softmax'\n",
    "loss = 'categorical_crossentropy'\n",
    "metrics = ['accuracy']\n",
    "\n",
    "crypto = 'ETH'\n",
    "\n",
    "sim = DLSimulator(crypto, prev_periods, pred_periods, columns, target,\n",
    "    norm_strat, model_sel, layers, neurons, batch_size, epochs, \n",
    "    activation, loss, metrics, optimizer, initial_learning_rate, callbacks)\n",
    "\n",
    "df = sim.get_df()\n",
    "df.tail(50)"
   ]
  },
  {
   "cell_type": "markdown",
   "metadata": {},
   "source": [
    "The index [-7, -9, -15, -19] provide examples with buy and sell"
   ]
  },
  {
   "cell_type": "code",
   "execution_count": null,
   "metadata": {},
   "outputs": [],
   "source": [
    "split_indexes = [-7, -9, -15, -19]\n",
    "\n",
    "for split_index in split_indexes:\n",
    "    execute_test(split_index)"
   ]
  },
  {
   "cell_type": "markdown",
   "metadata": {},
   "source": [
    "En los cuatro casos el modelo ha acertado. Consideraremos esta opción para nuestro modelo final"
   ]
  },
  {
   "cell_type": "markdown",
   "metadata": {},
   "source": [
    "----------"
   ]
  },
  {
   "cell_type": "markdown",
   "metadata": {},
   "source": [
    "El siguiente análisis se centrará en los hiperparametros y modelado de la red (layers, epochs, batch size, dropout). Antes de comenzar inicializaremos los parametros que dejaremos fijos durante esta etapa de analisis "
   ]
  },
  {
   "cell_type": "code",
   "execution_count": null,
   "metadata": {},
   "outputs": [],
   "source": [
    "#### PERIODS ####\n",
    "prev_periods = 20\n",
    "pred_periods = 20\n",
    "\n",
    "#LSTM\n",
    "model_sel = 0 \n",
    "\n",
    "# Cryptos\n",
    "cryptos = ['ETH', 'ADA', 'BTC', 'LNK', 'LTC']\n",
    "\n",
    "#### NORM AND FEATURES CONFIGURATION ####\n",
    "target = None\n",
    "norm_strat = 2\n",
    "\n",
    "#### COLUMNS ####\n",
    "columns_11 = ['op_buy', 'op_sell', 'op_hold'] # Usar softmax\n",
    "columns_12 = ['close_diff_20']\n",
    "\n",
    "\n",
    "#### Hyper params ####\n",
    "\n",
    "#activations = ['relu', 'sigmoid', 'softmax']\n",
    "#losses = ['mse', 'binary_crossentropy', 'categorical_crossentropy']\n",
    "#metrics_opt = ['mse', 'accuracy']\n",
    "activation = 'relu'\n",
    "loss = 'mse'\n",
    "metrics = ['mse']\n",
    "optimizer = 'adam'\n",
    "initial_learning_rate = 0.01\n",
    "callbacks = ['mc', 'es']\n",
    "batch_size = 64\n",
    "epochs = 100"
   ]
  },
  {
   "cell_type": "markdown",
   "metadata": {},
   "source": [
    "Modelado:\n",
    "\n",
    "Modelaremos la red en las capas LSTM"
   ]
  },
  {
   "cell_type": "markdown",
   "metadata": {},
   "source": [
    "Modifcamos el numero de capas:\n",
    "\n",
    "- 2 Capas\n",
    "- 4 Capas\n",
    "- 10 Capas\n",
    "\n",
    "Y neuronas\n",
    "\n",
    "- 10 Nueronas\n",
    "- 50 Neuronas\n",
    "- 100 Neuronas\n",
    "- Gradual invertido"
   ]
  },
  {
   "cell_type": "markdown",
   "metadata": {},
   "source": [
    "Trabajaremos sobre diferencia de precio de 20 dias"
   ]
  },
  {
   "cell_type": "code",
   "execution_count": null,
   "metadata": {},
   "outputs": [],
   "source": [
    "#### HYPERPARAMETERS AND MODEL ####\n",
    "layers = 4\n",
    "neurons = [25, 25, 25, 25, 25]"
   ]
  },
  {
   "cell_type": "code",
   "execution_count": null,
   "metadata": {},
   "outputs": [],
   "source": [
    "columns = columns_12\n",
    "num_features = len(columns)\n",
    "\n",
    "for crypto in cryptos:\n",
    "    crypto = crypto\n",
    "    execute_test()"
   ]
  },
  {
   "cell_type": "markdown",
   "metadata": {},
   "source": [
    "Aplicamos el mismo numero de capas y neuronas a nuestro modelo softmax con los split ya conocidos"
   ]
  },
  {
   "cell_type": "code",
   "execution_count": null,
   "metadata": {},
   "outputs": [],
   "source": [
    "columns = columns_11\n",
    "\n",
    "split_indexes = [-7, -9, -15, -19]\n",
    "\n",
    "activation = 'softmax'\n",
    "loss = 'categorical_crossentropy'\n",
    "metrics = ['accuracy']\n",
    "\n",
    "crypto = 'ETH'\n",
    "\n",
    "for split_index in split_indexes:\n",
    "    execute_test(split_index)"
   ]
  },
  {
   "cell_type": "markdown",
   "metadata": {},
   "source": [
    "Hemos obtenido una buena configuración con:\n",
    "\n"
   ]
  },
  {
   "cell_type": "markdown",
   "metadata": {},
   "source": [
    "\n",
    "Añadimos/quitamos ad hoc en el modelo capas de dropout y su activación\n",
    "\n",
    "- Sin dropout\n",
    "- Drop out alto\n",
    "- Drop out medio\n",
    "- Drop out bajo\n",
    "\n",
    "No tiene sentido usar Batch norm layers en RNNs"
   ]
  },
  {
   "cell_type": "markdown",
   "metadata": {},
   "source": [
    "Sin dropout"
   ]
  },
  {
   "cell_type": "code",
   "execution_count": null,
   "metadata": {},
   "outputs": [],
   "source": []
  },
  {
   "cell_type": "markdown",
   "metadata": {},
   "source": [
    "Dropout 0.1"
   ]
  },
  {
   "cell_type": "code",
   "execution_count": null,
   "metadata": {},
   "outputs": [],
   "source": []
  },
  {
   "cell_type": "markdown",
   "metadata": {},
   "source": [
    "Dropout 0.4"
   ]
  },
  {
   "cell_type": "code",
   "execution_count": null,
   "metadata": {},
   "outputs": [],
   "source": []
  },
  {
   "cell_type": "markdown",
   "metadata": {},
   "source": [
    "Dropout 0.9"
   ]
  },
  {
   "cell_type": "code",
   "execution_count": null,
   "metadata": {},
   "outputs": [],
   "source": []
  },
  {
   "cell_type": "markdown",
   "metadata": {},
   "source": [
    "Ahora modificaremos el batch size y epocas"
   ]
  },
  {
   "cell_type": "code",
   "execution_count": null,
   "metadata": {},
   "outputs": [],
   "source": []
  },
  {
   "cell_type": "markdown",
   "metadata": {},
   "source": [
    "Probaremos otras activaciones y funcion de perdidas"
   ]
  },
  {
   "cell_type": "code",
   "execution_count": null,
   "metadata": {},
   "outputs": [],
   "source": []
  },
  {
   "cell_type": "markdown",
   "metadata": {},
   "source": [
    "Haremos backtesting para probar a añadir varias caracteristicas y sacar como target la diferencia de precio. Obtendremos mejor resultado una vez aplicado el modelado de red y los hiperparametros mas eficiantes segun hemos analizado?"
   ]
  },
  {
   "cell_type": "code",
   "execution_count": null,
   "metadata": {},
   "outputs": [],
   "source": [
    "target = ''"
   ]
  },
  {
   "cell_type": "markdown",
   "metadata": {},
   "source": [
    "#### GRU\n",
    "\n",
    "Probaremos el mejor modelado e hiperparametros ya vistos pero con GRU"
   ]
  },
  {
   "cell_type": "code",
   "execution_count": null,
   "metadata": {},
   "outputs": [],
   "source": [
    "model_sel = 1"
   ]
  },
  {
   "cell_type": "markdown",
   "metadata": {},
   "source": [
    "#### Final models to use\n",
    "\n",
    "- \n",
    "- "
   ]
  },
  {
   "cell_type": "code",
   "execution_count": null,
   "metadata": {},
   "outputs": [],
   "source": [
    "# DICT with parameters for best models\n",
    "\n"
   ]
  },
  {
   "cell_type": "markdown",
   "metadata": {},
   "source": [
    "## Complete simulation\n",
    "\n",
    "Complete strategy definition. Let the machine work through all the dataset"
   ]
  }
 ],
 "metadata": {
  "interpreter": {
   "hash": "5a26509f1ebfbe58e5b9c0be862da0478dce684822429b8f32e207fdb3de41b0"
  },
  "kernelspec": {
   "display_name": "Python 3.7.9 64-bit ('tf': conda)",
   "language": "python",
   "name": "python3"
  },
  "language_info": {
   "codemirror_mode": {
    "name": "ipython",
    "version": 3
   },
   "file_extension": ".py",
   "mimetype": "text/x-python",
   "name": "python",
   "nbconvert_exporter": "python",
   "pygments_lexer": "ipython3",
   "version": "3.7.9"
  },
  "orig_nbformat": 4
 },
 "nbformat": 4,
 "nbformat_minor": 2
}
