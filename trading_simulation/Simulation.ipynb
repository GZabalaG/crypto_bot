{
 "cells": [
  {
   "cell_type": "markdown",
   "metadata": {},
   "source": [
    "# Simulator"
   ]
  },
  {
   "cell_type": "code",
   "execution_count": 1,
   "metadata": {},
   "outputs": [],
   "source": [
    "import sys\n",
    "sys.path.insert(0, \"..\")\n",
    "import pandas as pd\n",
    "import matplotlib.pyplot as plt\n",
    "from trading_simulator import TradingSimulator\n",
    "from data_processor.data_processing import DataProcessor\n"
   ]
  },
  {
   "cell_type": "code",
   "execution_count": 2,
   "metadata": {},
   "outputs": [
    {
     "name": "stdout",
     "output_type": "stream",
     "text": [
      "Loading... ETH\n",
      "Reversing order\n",
      "Dropping columns\n",
      "Dropping Nan\n",
      "Changing date format\n"
     ]
    }
   ],
   "source": [
    "processor = DataProcessor(['ETH'])\n",
    "sim = TradingSimulator(processor, 'ETH')"
   ]
  },
  {
   "cell_type": "code",
   "execution_count": 3,
   "metadata": {},
   "outputs": [
    {
     "name": "stdout",
     "output_type": "stream",
     "text": [
      "Buy on 2018-01-01 00:00:00 ||| Strat 3  Close: 754.99 | Stop-loss: 679.491 | Take-profit: 99999999999999 |||\n",
      "Sell order 0 on 2018-01-11 00:00:00  ||| Close: 1138.93 | Entry 754.99 | Profit: 1.5085365369077737 | Balance: 10048.853653690778 |||\n",
      "Buy on 2018-11-14 00:00:00 ||| Strat 2  Close: 187.43 | Stop-loss: 168.687 | Take-profit: 99999999999999 |||\n",
      "Sell order 0 on 2018-11-19 00:00:00  ||| Close: 150.81 | Entry 187.43 | Profit: 0.8046203916128688 | Balance: 10027.315692852064 |||\n",
      "Buy on 2019-02-08 00:00:00 ||| Strat 3  Close: 119.25 | Stop-loss: 107.325 | Take-profit: 99999999999999 |||\n",
      "Sell order 0 on 2019-02-24 00:00:00  ||| Close: 132.1 | Entry 119.25 | Profit: 1.1077568134171907 | Balance: 10036.091374193784 |||\n",
      "Buy on 2019-03-19 00:00:00 ||| Strat 3  Close: 138.55 | Stop-loss: 124.69500000000001 | Take-profit: 99999999999999 |||\n",
      "Buy on 2019-03-29 00:00:00 ||| Strat 3  Close: 143.25 | Stop-loss: 128.925 | Take-profit: 99999999999999 |||\n",
      "Sell order 0 on 2019-04-15 00:00:00  ||| Close: 159.95 | Entry 138.55 | Profit: 1.1544568747744495 | Balance: 9947.537061671228 |||\n",
      "Sell order 1 on 2019-04-15 00:00:00  ||| Close: 159.95 | Entry 143.25 | Profit: 1.1165794066317625 | Balance: 10059.195002334403 |||\n",
      "Buy on 2019-04-20 00:00:00 ||| Strat 1  Close: 172.88 | Stop-loss: 155.59199999999998 | Take-profit: 99999999999999 |||\n",
      "Sell order 0 on 2019-04-25 00:00:00  ||| Close: 154.72 | Entry 172.88 | Profit: 0.8949560388708931 | Balance: 10046.690606221493 |||\n",
      "Buy on 2019-05-06 00:00:00 ||| Strat 3  Close: 173.0 | Stop-loss: 155.7 | Take-profit: 99999999999999 |||\n",
      "Sell order 0 on 2019-05-18 00:00:00  ||| Close: 233.6 | Entry 173.0 | Profit: 1.3502890173410405 | Balance: 10079.719507955597 |||\n",
      "Buy on 2019-06-17 00:00:00 ||| Strat 3  Close: 273.16 | Stop-loss: 245.84400000000002 | Take-profit: 99999999999999 |||\n",
      "Sell order 0 on 2019-06-27 00:00:00  ||| Close: 298.35 | Entry 273.16 | Profit: 1.0922170156684727 | Balance: 10086.941209522443 |||\n",
      "Buy on 2019-10-23 00:00:00 ||| Strat 2  Close: 162.35 | Stop-loss: 146.115 | Take-profit: 99999999999999 |||\n",
      "Buy on 2019-10-26 00:00:00 ||| Strat 3  Close: 179.49 | Stop-loss: 161.541 | Take-profit: 99999999999999 |||\n",
      "Sell order 0 on 2019-11-21 00:00:00  ||| Close: 161.01 | Entry 162.35 | Profit: 0.9917462272867262 | Balance: 9982.115832251116 |||\n",
      "Sell order 1 on 2019-11-21 00:00:00  ||| Close: 161.01 | Entry 179.49 | Profit: 0.8970416179174326 | Balance: 10071.81999404286 |||\n",
      "Buy on 2020-01-28 00:00:00 ||| Strat 3  Close: 175.64 | Stop-loss: 158.076 | Take-profit: 99999999999999 |||\n",
      "Buy on 2020-02-16 00:00:00 ||| Strat 1  Close: 258.85 | Stop-loss: 232.96500000000003 | Take-profit: 99999999999999 |||\n",
      "Sell order 0 on 2020-02-25 00:00:00  ||| Close: 246.67 | Entry 175.64 | Profit: 1.4044067410612617 | Balance: 10008.260668148987 |||\n",
      "Sell order 1 on 2020-02-25 00:00:00  ||| Close: 246.67 | Entry 258.85 | Profit: 0.9529457214603051 | Balance: 10103.555240295018 |||\n",
      "Buy on 2020-05-14 00:00:00 ||| Strat 1  Close: 203.29 | Stop-loss: 182.96099999999998 | Take-profit: 99999999999999 |||\n",
      "Buy on 2020-05-19 00:00:00 ||| Strat 3  Close: 214.58 | Stop-loss: 193.122 | Take-profit: 99999999999999 |||\n",
      "Buy on 2020-05-28 00:00:00 ||| Strat 3  Close: 220.21 | Stop-loss: 198.18900000000002 | Take-profit: 99999999999999 |||\n",
      "Sell order 0 on 2020-06-27 00:00:00  ||| Close: 220.94 | Entry 203.29 | Profit: 1.08682178169118 | Balance: 9906.237418464136 |||\n",
      "Sell order 1 on 2020-06-27 00:00:00  ||| Close: 220.94 | Entry 214.58 | Profit: 1.029639295367695 | Balance: 10009.201348000905 |||\n",
      "Sell order 2 on 2020-06-27 00:00:00  ||| Close: 220.94 | Entry 220.21 | Profit: 1.0033150174833114 | Balance: 10109.532849749236 |||\n",
      "Buy on 2020-07-06 00:00:00 ||| Strat 3  Close: 241.6 | Stop-loss: 217.44 | Take-profit: 99999999999999 |||\n",
      "Buy on 2020-07-21 00:00:00 ||| Strat 3  Close: 245.59 | Stop-loss: 221.031 | Take-profit: 99999999999999 |||\n",
      "Buy on 2020-08-14 00:00:00 ||| Strat 3  Close: 438.11 | Stop-loss: 394.299 | Take-profit: 99999999999999 |||\n",
      "Sell order 0 on 2020-08-21 00:00:00  ||| Close: 387.97 | Entry 241.6 | Profit: 1.605836092715232 | Balance: 9964.116459020759 |||\n",
      "Sell order 1 on 2020-08-21 00:00:00  ||| Close: 387.97 | Entry 245.59 | Profit: 1.5797467323588095 | Balance: 10122.09113225664 |||\n",
      "Sell order 2 on 2020-08-21 00:00:00  ||| Close: 387.97 | Entry 438.11 | Profit: 0.8855538563374495 | Balance: 10210.646517890385 |||\n",
      "Buy on 2020-09-01 00:00:00 ||| Strat 3  Close: 475.4 | Stop-loss: 427.85999999999996 | Take-profit: 99999999999999 |||\n",
      "Sell order 0 on 2020-09-03 00:00:00  ||| Close: 381.4 | Entry 475.4 | Profit: 0.8022717711400925 | Balance: 10188.873695004395 |||\n",
      "Buy on 2020-09-17 00:00:00 ||| Strat 3  Close: 389.36 | Stop-loss: 350.424 | Take-profit: 99999999999999 |||\n",
      "Sell order 0 on 2020-09-21 00:00:00  ||| Close: 340.36 | Entry 389.36 | Profit: 0.87415245531128 | Balance: 10174.288940535524 |||\n",
      "Buy on 2020-11-05 00:00:00 ||| Strat 3  Close: 416.69 | Stop-loss: 375.021 | Take-profit: 99999999999999 |||\n",
      "Sell order 0 on 2020-11-26 00:00:00  ||| Close: 519.83 | Entry 416.69 | Profit: 1.2475221387602295 | Balance: 10197.041154411547 |||\n",
      "Buy on 2020-11-29 00:00:00 ||| Strat 3  Close: 576.3 | Stop-loss: 518.67 | Take-profit: 99999999999999 |||\n",
      "Sell order 0 on 2020-12-08 00:00:00  ||| Close: 554.94 | Entry 576.3 | Profit: 0.9629359708485166 | Balance: 10191.334751496399 |||\n",
      "Buy on 2020-12-17 00:00:00 ||| Strat 3  Close: 642.7 | Stop-loss: 578.4300000000001 | Take-profit: 99999999999999 |||\n",
      "Sell order 0 on 2020-12-23 00:00:00  ||| Close: 585.56 | Entry 642.7 | Profit: 0.9110938229344949 | Balance: 10180.444133789848 |||\n",
      "Buy on 2020-12-27 00:00:00 ||| Strat 3  Close: 685.11 | Stop-loss: 616.599 | Take-profit: 99999999999999 |||\n",
      "Sell order 0 on 2021-01-11 00:00:00  ||| Close: 1087.01 | Entry 685.11 | Profit: 1.586621126534425 | Balance: 10237.10624644329 |||\n",
      "Buy on 2021-01-19 00:00:00 ||| Strat 3  Close: 1365.36 | Stop-loss: 1228.8239999999998 | Take-profit: 99999999999999 |||\n",
      "Sell order 0 on 2021-01-21 00:00:00  ||| Close: 1110.96 | Entry 1365.36 | Profit: 0.8136755141501143 | Balance: 10216.473797858302 |||\n",
      "Buy on 2021-02-03 00:00:00 ||| Strat 3  Close: 1664.49 | Stop-loss: 1498.041 | Take-profit: 99999999999999 |||\n",
      "Buy on 2021-02-19 00:00:00 ||| Strat 3  Close: 1955.0 | Stop-loss: 1759.5 | Take-profit: 99999999999999 |||\n",
      "Sell order 0 on 2021-02-23 00:00:00  ||| Close: 1577.89 | Entry 1664.49 | Profit: 0.9479720514992581 | Balance: 10107.271003008227 |||\n",
      "Sell order 1 on 2021-02-23 00:00:00  ||| Close: 1577.89 | Entry 1955.0 | Profit: 0.8071048593350384 | Balance: 10187.98148894173 |||\n",
      "Buy on 2021-02-23 00:00:00 ||| Strat 2  Close: 1577.89 | Stop-loss: 1420.101 | Take-profit: 99999999999999 |||\n",
      "Sell order 0 on 2021-02-26 00:00:00  ||| Close: 1444.59 | Entry 1577.89 | Profit: 0.9155200932891392 | Balance: 10177.533498270644 |||\n",
      "Buy on 2021-03-08 00:00:00 ||| Strat 3  Close: 1833.18 | Stop-loss: 1649.862 | Take-profit: 99999999999999 |||\n",
      "Sell order 0 on 2021-03-22 00:00:00  ||| Close: 1680.97 | Entry 1833.18 | Profit: 0.91696941926052 | Balance: 10167.230440196696 |||\n",
      "Buy on 2021-03-30 00:00:00 ||| Strat 3  Close: 1840.46 | Stop-loss: 1656.414 | Take-profit: 99999999999999 |||\n",
      "Sell order 0 on 2021-04-18 00:00:00  ||| Close: 2235.64 | Entry 1840.46 | Profit: 1.2147180596155307 | Balance: 10186.70224615825 |||\n",
      "Buy on 2021-04-27 00:00:00 ||| Strat 3  Close: 2666.13 | Stop-loss: 2399.5170000000003 | Take-profit: 99999999999999 |||\n",
      "Sell order 0 on 2021-05-13 00:00:00  ||| Close: 3717.91 | Entry 2666.13 | Profit: 1.3944968924996155 | Balance: 10224.15193540821 |||\n",
      "Buy on 2021-05-19 00:00:00 ||| Strat 2  Close: 2438.92 | Stop-loss: 2195.0280000000002 | Take-profit: 99999999999999 |||\n",
      "Sell order 0 on 2021-05-21 00:00:00  ||| Close: 2430.98 | Entry 2438.92 | Profit: 0.9967444606629163 | Balance: 10221.826381474502 |||\n",
      "Buy on 2021-06-03 00:00:00 ||| Strat 3  Close: 2857.25 | Stop-loss: 2571.525 | Take-profit: 99999999999999 |||\n",
      "Sell order 0 on 2021-06-08 00:00:00  ||| Close: 2507.23 | Entry 2857.25 | Profit: 0.877497593840231 | Balance: 10207.576140858526 |||\n",
      "Buy on 2021-08-08 00:00:00 ||| Strat 1  Close: 3011.85 | Stop-loss: 2710.665 | Take-profit: 99999999999999 |||\n",
      "Buy on 2021-09-01 00:00:00 ||| Strat 3  Close: 3826.82 | Stop-loss: 3444.138 | Take-profit: 99999999999999 |||\n",
      "Sell order 0 on 2021-09-07 00:00:00  ||| Close: 3434.57 | Entry 3011.85 | Profit: 1.1403522751797068 | Balance: 10117.611368376496 |||\n",
      "Sell order 1 on 2021-09-07 00:00:00  ||| Close: 3434.57 | Entry 3826.82 | Profit: 0.8974997517521075 | Balance: 10207.361343551707 |||\n",
      "Buy on 2021-10-01 00:00:00 ||| Strat 3  Close: 3309.91 | Stop-loss: 2978.919 | Take-profit: 99999999999999 |||\n",
      "Sell order 0 on 2021-11-16 00:00:00  ||| Close: 4209.76 | Entry 3309.91 | Profit: 1.27186539815282 | Balance: 10232.54788336699 |||\n",
      "Buy on 2021-11-30 00:00:00 ||| Strat 3  Close: 4630.26 | Stop-loss: 4167.234 | Take-profit: 99999999999999 |||\n",
      "Sell order 0 on 2021-12-04 00:00:00  ||| Close: 4117.25 | Entry 4630.26 | Profit: 0.8892049258572953 | Balance: 10219.46837595272 |||\n",
      "Buy on 2021-12-28 00:00:00 ||| Strat 2  Close: 3792.75 | Stop-loss: 3413.475 | Take-profit: 99999999999999 |||\n",
      "Total invested: 3800\n",
      "Orders won: 18\n",
      "Orders lost: 19\n"
     ]
    }
   ],
   "source": [
    "sim.simulate()"
   ]
  }
 ],
 "metadata": {
  "interpreter": {
   "hash": "5a26509f1ebfbe58e5b9c0be862da0478dce684822429b8f32e207fdb3de41b0"
  },
  "kernelspec": {
   "display_name": "Python 3.7.9 64-bit ('tf': conda)",
   "language": "python",
   "name": "python3"
  },
  "language_info": {
   "codemirror_mode": {
    "name": "ipython",
    "version": 3
   },
   "file_extension": ".py",
   "mimetype": "text/x-python",
   "name": "python",
   "nbconvert_exporter": "python",
   "pygments_lexer": "ipython3",
   "version": "3.7.9"
  },
  "orig_nbformat": 4
 },
 "nbformat": 4,
 "nbformat_minor": 2
}
