{
 "cells": [
  {
   "cell_type": "markdown",
   "metadata": {},
   "source": [
    "# Simulator"
   ]
  },
  {
   "cell_type": "code",
   "execution_count": 1,
   "metadata": {},
   "outputs": [],
   "source": [
    "import sys\n",
    "sys.path.insert(0, \"..\")\n",
    "import pandas as pd\n",
    "import matplotlib.pyplot as plt\n",
    "from trading_simulator import TradingSimulator\n",
    "from data_processor.data_processing import DataProcessor\n"
   ]
  },
  {
   "cell_type": "code",
   "execution_count": 2,
   "metadata": {},
   "outputs": [
    {
     "name": "stdout",
     "output_type": "stream",
     "text": [
      "Loading... ETH\n",
      "Reversing order\n",
      "Dropping columns\n",
      "Dropping Nan\n",
      "Changing date format\n"
     ]
    }
   ],
   "source": [
    "processor = DataProcessor(['ETH'])\n",
    "sim = TradingSimulator(processor, 'ETH')"
   ]
  },
  {
   "cell_type": "code",
   "execution_count": 3,
   "metadata": {},
   "outputs": [
    {
     "name": "stdout",
     "output_type": "stream",
     "text": [
      "Buy on 2018-11-14 00:00:00  ||| Close: 187.43 | Stop-loss: 178.4792857142857 | Take-profit: 214.28214285714287  | ATR: 8.950714285714286 |||\n",
      "Sell order 0 on 2018-11-16 00:00:00  ||| Close: 176.89 | Entry 187.43 | Profit: 0.9437656725177398 | Balance: 9992.376567251775 |||\n",
      "Buy on 2019-04-20 00:00:00  ||| Close: 172.88 | Stop-loss: 163.2 | Take-profit: 201.92  | ATR: 9.679999999999998 |||\n",
      "Sell order 0 on 2019-04-25 00:00:00  ||| Close: 154.72 | Entry 172.88 | Profit: 0.8949560388708931 | Balance: 9979.872171138864 |||\n",
      "Buy on 2019-10-23 00:00:00  ||| Close: 162.35 | Stop-loss: 153.44857142857143 | Take-profit: 189.0542857142857  | ATR: 8.901428571428566 |||\n",
      "Sell order 0 on 2019-10-29 00:00:00  ||| Close: 190.46 | Entry 162.35 | Profit: 1.1731444410224823 | Balance: 9995.186615241113 |||\n",
      "Buy on 2020-02-16 00:00:00  ||| Close: 258.85 | Stop-loss: 239.65928571428574 | Take-profit: 316.4221428571429  | ATR: 19.19071428571429 |||\n",
      "Sell order 0 on 2020-02-26 00:00:00  ||| Close: 223.93 | Entry 258.85 | Profit: 0.8650956152211705 | Balance: 9979.69617676323 |||\n",
      "Buy on 2020-05-14 00:00:00  ||| Close: 203.29 | Stop-loss: 190.17857142857142 | Take-profit: 242.62428571428572  | ATR: 13.111428571428576 |||\n",
      "Sell order 0 on 2020-05-30 00:00:00  ||| Close: 243.66 | Entry 203.29 | Profit: 1.1985833046386936 | Balance: 9997.554507227098 |||\n",
      "Buy on 2021-02-23 00:00:00  ||| Close: 1577.89 | Stop-loss: 1413.307142857143 | Take-profit: 2071.6385714285716  | ATR: 164.58285714285714 |||\n",
      "Sell order 0 on 2021-04-02 00:00:00  ||| Close: 2133.69 | Entry 1577.89 | Profit: 1.3522425517621632 | Balance: 10030.778762403314 |||\n",
      "Buy on 2021-05-19 00:00:00  ||| Close: 2438.92 | Stop-loss: 1918.4742857142858 | Take-profit: 4000.2571428571428  | ATR: 520.4457142857143 |||\n",
      "Sell order 0 on 2021-06-21 00:00:00  ||| Close: 1885.49 | Entry 2438.92 | Profit: 0.7730839879946861 | Balance: 10006.087161202782 |||\n",
      "Buy on 2021-08-08 00:00:00  ||| Close: 3011.85 | Stop-loss: 2805.187857142857 | Take-profit: 3631.8364285714288  | ATR: 206.6621428571429 |||\n",
      "Sell order 0 on 2021-09-01 00:00:00  ||| Close: 3826.82 | Entry 3011.85 | Profit: 1.2705878446801802 | Balance: 10031.1459456708 |||\n",
      "Buy on 2021-12-28 00:00:00  ||| Close: 3792.75 | Stop-loss: 3593.682142857143 | Take-profit: 4389.953571428571  | ATR: 199.06785714285706 |||\n"
     ]
    }
   ],
   "source": [
    "sim.simulate()"
   ]
  }
 ],
 "metadata": {
  "interpreter": {
   "hash": "5a26509f1ebfbe58e5b9c0be862da0478dce684822429b8f32e207fdb3de41b0"
  },
  "kernelspec": {
   "display_name": "Python 3.7.9 64-bit ('tf': conda)",
   "language": "python",
   "name": "python3"
  },
  "language_info": {
   "codemirror_mode": {
    "name": "ipython",
    "version": 3
   },
   "file_extension": ".py",
   "mimetype": "text/x-python",
   "name": "python",
   "nbconvert_exporter": "python",
   "pygments_lexer": "ipython3",
   "version": "3.7.9"
  },
  "orig_nbformat": 4
 },
 "nbformat": 4,
 "nbformat_minor": 2
}
