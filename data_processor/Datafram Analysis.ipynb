{
  "cells": [
    {
      "cell_type": "markdown",
      "metadata": {
        "id": "NISzHtx8N6Ir"
      },
      "source": [
        "# Dataframe analysis for cleaning"
      ]
    },
    {
      "cell_type": "code",
      "execution_count": 2,
      "metadata": {},
      "outputs": [],
      "source": [
        "import sys\n",
        "sys.path.insert(0, \"..\")"
      ]
    },
    {
      "cell_type": "code",
      "execution_count": 3,
      "metadata": {
        "id": "ZLxjB8kVNxwS"
      },
      "outputs": [],
      "source": [
        "import pandas as pd\n",
        "from matplotlib import pyplot"
      ]
    },
    {
      "cell_type": "markdown",
      "metadata": {
        "id": "h-dZdQ8EN_hr"
      },
      "source": [
        "First row as header"
      ]
    },
    {
      "cell_type": "code",
      "execution_count": 4,
      "metadata": {
        "id": "fccqG6ceNp5s"
      },
      "outputs": [],
      "source": [
        "df = pd.read_csv('../Datasets/ETH.csv', header=[1])"
      ]
    },
    {
      "cell_type": "markdown",
      "metadata": {
        "id": "LiQZuRJMOCE6"
      },
      "source": [
        "Drop unnecessary columns"
      ]
    },
    {
      "cell_type": "code",
      "execution_count": 5,
      "metadata": {
        "id": "rddHbfnPNean"
      },
      "outputs": [],
      "source": [
        "df.drop(columns=['symbol', 'unix', 'Volume USDT'], inplace = True)"
      ]
    },
    {
      "cell_type": "markdown",
      "metadata": {
        "id": "GMjeloirPJ6o"
      },
      "source": [
        "Reindex for better plotting"
      ]
    },
    {
      "cell_type": "code",
      "execution_count": 6,
      "metadata": {
        "id": "lKrlhHSlOvbn"
      },
      "outputs": [],
      "source": [
        "df = df.reindex(index=df.index[::-1])"
      ]
    },
    {
      "cell_type": "markdown",
      "metadata": {
        "id": "6q_IqtYgPQRP"
      },
      "source": [
        "Nan count"
      ]
    },
    {
      "cell_type": "code",
      "execution_count": 7,
      "metadata": {
        "colab": {
          "base_uri": "https://localhost:8080/"
        },
        "id": "oNHVsmEpO8WR",
        "outputId": "678d6f42-87fd-4212-9fa1-2c3c11e25eb2"
      },
      "outputs": [
        {
          "data": {
            "text/plain": [
              "date            0\n",
              "open            0\n",
              "high            0\n",
              "low             0\n",
              "close           0\n",
              "Volume ETH      0\n",
              "tradecount    124\n",
              "dtype: int64"
            ]
          },
          "execution_count": 7,
          "metadata": {},
          "output_type": "execute_result"
        }
      ],
      "source": [
        "df.isna().sum()"
      ]
    },
    {
      "cell_type": "code",
      "execution_count": 8,
      "metadata": {
        "id": "bjvUQSkYPTnL"
      },
      "outputs": [],
      "source": [
        "df = df.dropna()"
      ]
    },
    {
      "cell_type": "markdown",
      "metadata": {
        "id": "SVmgBF7XTlGo"
      },
      "source": [
        "Date format"
      ]
    },
    {
      "cell_type": "code",
      "execution_count": 9,
      "metadata": {
        "colab": {
          "base_uri": "https://localhost:8080/",
          "height": 424
        },
        "id": "JZrn45xdQAYb",
        "outputId": "78a0f7e2-b7b5-44a6-a93b-efc445580c37"
      },
      "outputs": [
        {
          "data": {
            "text/html": [
              "<div>\n",
              "<style scoped>\n",
              "    .dataframe tbody tr th:only-of-type {\n",
              "        vertical-align: middle;\n",
              "    }\n",
              "\n",
              "    .dataframe tbody tr th {\n",
              "        vertical-align: top;\n",
              "    }\n",
              "\n",
              "    .dataframe thead th {\n",
              "        text-align: right;\n",
              "    }\n",
              "</style>\n",
              "<table border=\"1\" class=\"dataframe\">\n",
              "  <thead>\n",
              "    <tr style=\"text-align: right;\">\n",
              "      <th></th>\n",
              "      <th>date</th>\n",
              "      <th>open</th>\n",
              "      <th>high</th>\n",
              "      <th>low</th>\n",
              "      <th>close</th>\n",
              "      <th>Volume ETH</th>\n",
              "      <th>tradecount</th>\n",
              "    </tr>\n",
              "  </thead>\n",
              "  <tbody>\n",
              "    <tr>\n",
              "      <th>1474</th>\n",
              "      <td>2017-12-18</td>\n",
              "      <td>707.62</td>\n",
              "      <td>798.88</td>\n",
              "      <td>638.00</td>\n",
              "      <td>784.00</td>\n",
              "      <td>45673.70777</td>\n",
              "      <td>40460.0</td>\n",
              "    </tr>\n",
              "    <tr>\n",
              "      <th>1473</th>\n",
              "      <td>2017-12-19</td>\n",
              "      <td>784.00</td>\n",
              "      <td>864.90</td>\n",
              "      <td>729.01</td>\n",
              "      <td>798.00</td>\n",
              "      <td>69423.62125</td>\n",
              "      <td>57020.0</td>\n",
              "    </tr>\n",
              "    <tr>\n",
              "      <th>1472</th>\n",
              "      <td>2017-12-20</td>\n",
              "      <td>798.00</td>\n",
              "      <td>828.00</td>\n",
              "      <td>661.00</td>\n",
              "      <td>790.21</td>\n",
              "      <td>72526.28416</td>\n",
              "      <td>58344.0</td>\n",
              "    </tr>\n",
              "    <tr>\n",
              "      <th>1471</th>\n",
              "      <td>2017-12-21</td>\n",
              "      <td>794.62</td>\n",
              "      <td>845.99</td>\n",
              "      <td>705.98</td>\n",
              "      <td>782.41</td>\n",
              "      <td>78222.53998</td>\n",
              "      <td>57627.0</td>\n",
              "    </tr>\n",
              "    <tr>\n",
              "      <th>1470</th>\n",
              "      <td>2017-12-22</td>\n",
              "      <td>784.00</td>\n",
              "      <td>796.00</td>\n",
              "      <td>504.99</td>\n",
              "      <td>635.97</td>\n",
              "      <td>154630.49482</td>\n",
              "      <td>113138.0</td>\n",
              "    </tr>\n",
              "    <tr>\n",
              "      <th>...</th>\n",
              "      <td>...</td>\n",
              "      <td>...</td>\n",
              "      <td>...</td>\n",
              "      <td>...</td>\n",
              "      <td>...</td>\n",
              "      <td>...</td>\n",
              "      <td>...</td>\n",
              "    </tr>\n",
              "    <tr>\n",
              "      <th>4</th>\n",
              "      <td>2021-12-27</td>\n",
              "      <td>4063.57</td>\n",
              "      <td>4127.46</td>\n",
              "      <td>4031.00</td>\n",
              "      <td>4037.23</td>\n",
              "      <td>222202.13830</td>\n",
              "      <td>557284.0</td>\n",
              "    </tr>\n",
              "    <tr>\n",
              "      <th>3</th>\n",
              "      <td>2021-12-28</td>\n",
              "      <td>4037.22</td>\n",
              "      <td>4037.23</td>\n",
              "      <td>3759.36</td>\n",
              "      <td>3792.75</td>\n",
              "      <td>358064.71630</td>\n",
              "      <td>846780.0</td>\n",
              "    </tr>\n",
              "    <tr>\n",
              "      <th>2</th>\n",
              "      <td>2021-12-29</td>\n",
              "      <td>3792.75</td>\n",
              "      <td>3827.78</td>\n",
              "      <td>3604.20</td>\n",
              "      <td>3630.19</td>\n",
              "      <td>302753.63750</td>\n",
              "      <td>719559.0</td>\n",
              "    </tr>\n",
              "    <tr>\n",
              "      <th>1</th>\n",
              "      <td>2021-12-30</td>\n",
              "      <td>3630.18</td>\n",
              "      <td>3769.10</td>\n",
              "      <td>3585.00</td>\n",
              "      <td>3709.27</td>\n",
              "      <td>249263.73050</td>\n",
              "      <td>583361.0</td>\n",
              "    </tr>\n",
              "    <tr>\n",
              "      <th>0</th>\n",
              "      <td>2021-12-31</td>\n",
              "      <td>3709.27</td>\n",
              "      <td>3734.00</td>\n",
              "      <td>3704.40</td>\n",
              "      <td>3725.46</td>\n",
              "      <td>3249.99850</td>\n",
              "      <td>7872.0</td>\n",
              "    </tr>\n",
              "  </tbody>\n",
              "</table>\n",
              "<p>1475 rows × 7 columns</p>\n",
              "</div>"
            ],
            "text/plain": [
              "           date     open     high      low    close    Volume ETH  tradecount\n",
              "1474 2017-12-18   707.62   798.88   638.00   784.00   45673.70777     40460.0\n",
              "1473 2017-12-19   784.00   864.90   729.01   798.00   69423.62125     57020.0\n",
              "1472 2017-12-20   798.00   828.00   661.00   790.21   72526.28416     58344.0\n",
              "1471 2017-12-21   794.62   845.99   705.98   782.41   78222.53998     57627.0\n",
              "1470 2017-12-22   784.00   796.00   504.99   635.97  154630.49482    113138.0\n",
              "...         ...      ...      ...      ...      ...           ...         ...\n",
              "4    2021-12-27  4063.57  4127.46  4031.00  4037.23  222202.13830    557284.0\n",
              "3    2021-12-28  4037.22  4037.23  3759.36  3792.75  358064.71630    846780.0\n",
              "2    2021-12-29  3792.75  3827.78  3604.20  3630.19  302753.63750    719559.0\n",
              "1    2021-12-30  3630.18  3769.10  3585.00  3709.27  249263.73050    583361.0\n",
              "0    2021-12-31  3709.27  3734.00  3704.40  3725.46    3249.99850      7872.0\n",
              "\n",
              "[1475 rows x 7 columns]"
            ]
          },
          "execution_count": 9,
          "metadata": {},
          "output_type": "execute_result"
        }
      ],
      "source": [
        "df['date'] = pd.to_datetime(df['date'], format='%Y-%m-%d %H:%M:%S')\n",
        "\n",
        "df"
      ]
    },
    {
      "cell_type": "markdown",
      "metadata": {
        "id": "ZD6EwPYWToUB"
      },
      "source": [
        "Charts analysis"
      ]
    },
    {
      "cell_type": "code",
      "execution_count": 10,
      "metadata": {
        "colab": {
          "base_uri": "https://localhost:8080/",
          "height": 281
        },
        "id": "VmEtdEWUN3jU",
        "outputId": "d3365d0a-c77f-4d75-cd5e-c93ab6c4fb97"
      },
      "outputs": [
        {
          "data": {
            "image/png": "[encoded data removed]",
            "text/plain": [
              "<Figure size 432x288 with 1 Axes>"
            ]
          },
          "metadata": {
            "needs_background": "light"
          },
          "output_type": "display_data"
        }
      ],
      "source": [
        "df.plot(x=\"date\", y=\"close\");"
      ]
    },
    {
      "cell_type": "markdown",
      "metadata": {
        "id": "hsu2hQNAWf87"
      },
      "source": [
        "# Features analysis"
      ]
    },
    {
      "cell_type": "code",
      "execution_count": 1,
      "metadata": {},
      "outputs": [],
      "source": [
        "import sys\n",
        "sys.path.insert(0, \"..\")"
      ]
    },
    {
      "cell_type": "code",
      "execution_count": 2,
      "metadata": {
        "colab": {
          "base_uri": "https://localhost:8080/",
          "height": 461
        },
        "id": "zvA_C2MNWfWX",
        "outputId": "9dbeba15-be36-45fa-bbd9-3e13a21be0f8"
      },
      "outputs": [],
      "source": [
        "from data_processing import DataProcessor\n",
        "import pandas as pd\n",
        "import matplotlib.pyplot"
      ]
    },
    {
      "cell_type": "markdown",
      "metadata": {
        "id": "gmsRMKiIrZxG"
      },
      "source": [
        "Load, clean and extract features for analysis"
      ]
    },
    {
      "cell_type": "code",
      "execution_count": 3,
      "metadata": {
        "colab": {
          "base_uri": "https://localhost:8080/",
          "height": 451
        },
        "id": "ZzVIMEc3rRP2",
        "outputId": "32e4e3a3-c2ae-419e-ad19-aaa5bbda5f4e"
      },
      "outputs": [
        {
          "name": "stdout",
          "output_type": "stream",
          "text": [
            "Loading... ETH\n",
            "Reverse order\n",
            "Drop columns\n",
            "Drop Nan\n",
            "Change date format\n"
          ]
        },
        {
          "data": {
            "text/html": [
              "<div>\n",
              "<style scoped>\n",
              "    .dataframe tbody tr th:only-of-type {\n",
              "        vertical-align: middle;\n",
              "    }\n",
              "\n",
              "    .dataframe tbody tr th {\n",
              "        vertical-align: top;\n",
              "    }\n",
              "\n",
              "    .dataframe thead th {\n",
              "        text-align: right;\n",
              "    }\n",
              "</style>\n",
              "<table border=\"1\" class=\"dataframe\">\n",
              "  <thead>\n",
              "    <tr style=\"text-align: right;\">\n",
              "      <th></th>\n",
              "      <th>date</th>\n",
              "      <th>open</th>\n",
              "      <th>high</th>\n",
              "      <th>low</th>\n",
              "      <th>close</th>\n",
              "      <th>Volume USDT</th>\n",
              "      <th>tradecount</th>\n",
              "      <th>High Low Difference</th>\n",
              "      <th>Open Close Difference</th>\n",
              "      <th>Result</th>\n",
              "      <th>...</th>\n",
              "      <th>MACD_signal</th>\n",
              "      <th>MACD_histo</th>\n",
              "      <th>EMA_8</th>\n",
              "      <th>EMA_20</th>\n",
              "      <th>OBV</th>\n",
              "      <th>I_tenkan_sen</th>\n",
              "      <th>I_kijun_sen</th>\n",
              "      <th>I_senkou_span_a</th>\n",
              "      <th>I_senkou_span_b</th>\n",
              "      <th>I_chikou_span</th>\n",
              "    </tr>\n",
              "  </thead>\n",
              "  <tbody>\n",
              "    <tr>\n",
              "      <th>124</th>\n",
              "      <td>2017-12-18</td>\n",
              "      <td>707.62</td>\n",
              "      <td>798.88</td>\n",
              "      <td>638.00</td>\n",
              "      <td>784.00</td>\n",
              "      <td>3.279995e+07</td>\n",
              "      <td>40460.0</td>\n",
              "      <td>160.88</td>\n",
              "      <td>-76.38</td>\n",
              "      <td>0</td>\n",
              "      <td>...</td>\n",
              "      <td>0.000000</td>\n",
              "      <td>0.000000</td>\n",
              "      <td>784.000000</td>\n",
              "      <td>784.000000</td>\n",
              "      <td>NaN</td>\n",
              "      <td>NaN</td>\n",
              "      <td>NaN</td>\n",
              "      <td>NaN</td>\n",
              "      <td>NaN</td>\n",
              "      <td>1291.00</td>\n",
              "    </tr>\n",
              "    <tr>\n",
              "      <th>125</th>\n",
              "      <td>2017-12-19</td>\n",
              "      <td>784.00</td>\n",
              "      <td>864.90</td>\n",
              "      <td>729.01</td>\n",
              "      <td>798.00</td>\n",
              "      <td>5.512397e+07</td>\n",
              "      <td>57020.0</td>\n",
              "      <td>135.89</td>\n",
              "      <td>-14.00</td>\n",
              "      <td>0</td>\n",
              "      <td>...</td>\n",
              "      <td>0.223362</td>\n",
              "      <td>0.893447</td>\n",
              "      <td>787.111111</td>\n",
              "      <td>785.333333</td>\n",
              "      <td>8.792392e+07</td>\n",
              "      <td>NaN</td>\n",
              "      <td>NaN</td>\n",
              "      <td>NaN</td>\n",
              "      <td>NaN</td>\n",
              "      <td>1247.00</td>\n",
              "    </tr>\n",
              "    <tr>\n",
              "      <th>126</th>\n",
              "      <td>2017-12-20</td>\n",
              "      <td>798.00</td>\n",
              "      <td>828.00</td>\n",
              "      <td>661.00</td>\n",
              "      <td>790.21</td>\n",
              "      <td>5.560451e+07</td>\n",
              "      <td>58344.0</td>\n",
              "      <td>167.00</td>\n",
              "      <td>7.79</td>\n",
              "      <td>1</td>\n",
              "      <td>...</td>\n",
              "      <td>0.450220</td>\n",
              "      <td>0.907431</td>\n",
              "      <td>787.799753</td>\n",
              "      <td>785.797778</td>\n",
              "      <td>-1.435284e+08</td>\n",
              "      <td>NaN</td>\n",
              "      <td>NaN</td>\n",
              "      <td>NaN</td>\n",
              "      <td>NaN</td>\n",
              "      <td>1138.93</td>\n",
              "    </tr>\n",
              "    <tr>\n",
              "      <th>127</th>\n",
              "      <td>2017-12-21</td>\n",
              "      <td>794.62</td>\n",
              "      <td>845.99</td>\n",
              "      <td>705.98</td>\n",
              "      <td>782.41</td>\n",
              "      <td>6.205252e+07</td>\n",
              "      <td>57627.0</td>\n",
              "      <td>140.01</td>\n",
              "      <td>12.21</td>\n",
              "      <td>1</td>\n",
              "      <td>...</td>\n",
              "      <td>0.541906</td>\n",
              "      <td>0.366744</td>\n",
              "      <td>786.602030</td>\n",
              "      <td>785.475132</td>\n",
              "      <td>-2.055810e+08</td>\n",
              "      <td>NaN</td>\n",
              "      <td>NaN</td>\n",
              "      <td>NaN</td>\n",
              "      <td>NaN</td>\n",
              "      <td>1253.87</td>\n",
              "    </tr>\n",
              "    <tr>\n",
              "      <th>128</th>\n",
              "      <td>2017-12-22</td>\n",
              "      <td>784.00</td>\n",
              "      <td>796.00</td>\n",
              "      <td>504.99</td>\n",
              "      <td>635.97</td>\n",
              "      <td>9.866181e+07</td>\n",
              "      <td>113138.0</td>\n",
              "      <td>291.01</td>\n",
              "      <td>148.03</td>\n",
              "      <td>1</td>\n",
              "      <td>...</td>\n",
              "      <td>-1.793538</td>\n",
              "      <td>-9.341772</td>\n",
              "      <td>753.128246</td>\n",
              "      <td>771.236548</td>\n",
              "      <td>-3.042428e+08</td>\n",
              "      <td>NaN</td>\n",
              "      <td>NaN</td>\n",
              "      <td>NaN</td>\n",
              "      <td>NaN</td>\n",
              "      <td>1388.02</td>\n",
              "    </tr>\n",
              "    <tr>\n",
              "      <th>...</th>\n",
              "      <td>...</td>\n",
              "      <td>...</td>\n",
              "      <td>...</td>\n",
              "      <td>...</td>\n",
              "      <td>...</td>\n",
              "      <td>...</td>\n",
              "      <td>...</td>\n",
              "      <td>...</td>\n",
              "      <td>...</td>\n",
              "      <td>...</td>\n",
              "      <td>...</td>\n",
              "      <td>...</td>\n",
              "      <td>...</td>\n",
              "      <td>...</td>\n",
              "      <td>...</td>\n",
              "      <td>...</td>\n",
              "      <td>...</td>\n",
              "      <td>...</td>\n",
              "      <td>...</td>\n",
              "      <td>...</td>\n",
              "      <td>...</td>\n",
              "    </tr>\n",
              "    <tr>\n",
              "      <th>1594</th>\n",
              "      <td>2021-12-27</td>\n",
              "      <td>4063.57</td>\n",
              "      <td>4127.46</td>\n",
              "      <td>4031.00</td>\n",
              "      <td>4037.23</td>\n",
              "      <td>9.055884e+08</td>\n",
              "      <td>557284.0</td>\n",
              "      <td>96.46</td>\n",
              "      <td>26.34</td>\n",
              "      <td>1</td>\n",
              "      <td>...</td>\n",
              "      <td>-67.892331</td>\n",
              "      <td>21.948105</td>\n",
              "      <td>4038.567709</td>\n",
              "      <td>4060.171814</td>\n",
              "      <td>-9.271212e+11</td>\n",
              "      <td>3951.5</td>\n",
              "      <td>4079.28</td>\n",
              "      <td>4368.1875</td>\n",
              "      <td>4790.945</td>\n",
              "      <td>NaN</td>\n",
              "    </tr>\n",
              "    <tr>\n",
              "      <th>1595</th>\n",
              "      <td>2021-12-28</td>\n",
              "      <td>4037.22</td>\n",
              "      <td>4037.23</td>\n",
              "      <td>3759.36</td>\n",
              "      <td>3792.75</td>\n",
              "      <td>1.393962e+09</td>\n",
              "      <td>846780.0</td>\n",
              "      <td>277.87</td>\n",
              "      <td>244.47</td>\n",
              "      <td>1</td>\n",
              "      <td>...</td>\n",
              "      <td>-66.711373</td>\n",
              "      <td>4.723832</td>\n",
              "      <td>3983.941552</td>\n",
              "      <td>4034.703069</td>\n",
              "      <td>-9.285152e+11</td>\n",
              "      <td>3951.5</td>\n",
              "      <td>4079.28</td>\n",
              "      <td>4368.1875</td>\n",
              "      <td>4790.945</td>\n",
              "      <td>NaN</td>\n",
              "    </tr>\n",
              "    <tr>\n",
              "      <th>1596</th>\n",
              "      <td>2021-12-29</td>\n",
              "      <td>3792.75</td>\n",
              "      <td>3827.78</td>\n",
              "      <td>3604.20</td>\n",
              "      <td>3630.19</td>\n",
              "      <td>1.136202e+09</td>\n",
              "      <td>719559.0</td>\n",
              "      <td>223.58</td>\n",
              "      <td>162.56</td>\n",
              "      <td>1</td>\n",
              "      <td>...</td>\n",
              "      <td>-70.732784</td>\n",
              "      <td>-16.085645</td>\n",
              "      <td>3905.330096</td>\n",
              "      <td>3996.178015</td>\n",
              "      <td>-9.296514e+11</td>\n",
              "      <td>3877.1</td>\n",
              "      <td>3995.84</td>\n",
              "      <td>4368.1875</td>\n",
              "      <td>4790.945</td>\n",
              "      <td>NaN</td>\n",
              "    </tr>\n",
              "    <tr>\n",
              "      <th>1597</th>\n",
              "      <td>2021-12-30</td>\n",
              "      <td>3630.18</td>\n",
              "      <td>3769.10</td>\n",
              "      <td>3585.00</td>\n",
              "      <td>3709.27</td>\n",
              "      <td>9.215378e+08</td>\n",
              "      <td>583361.0</td>\n",
              "      <td>184.10</td>\n",
              "      <td>-79.09</td>\n",
              "      <td>0</td>\n",
              "      <td>...</td>\n",
              "      <td>-76.381241</td>\n",
              "      <td>-22.593827</td>\n",
              "      <td>3861.761186</td>\n",
              "      <td>3968.853442</td>\n",
              "      <td>9.305729e+11</td>\n",
              "      <td>3867.5</td>\n",
              "      <td>4036.50</td>\n",
              "      <td>4163.5275</td>\n",
              "      <td>4790.945</td>\n",
              "      <td>NaN</td>\n",
              "    </tr>\n",
              "    <tr>\n",
              "      <th>1598</th>\n",
              "      <td>2021-12-31</td>\n",
              "      <td>3709.27</td>\n",
              "      <td>3734.00</td>\n",
              "      <td>3704.40</td>\n",
              "      <td>3725.46</td>\n",
              "      <td>1.209689e+07</td>\n",
              "      <td>7872.0</td>\n",
              "      <td>29.60</td>\n",
              "      <td>-16.19</td>\n",
              "      <td>0</td>\n",
              "      <td>...</td>\n",
              "      <td>-82.321007</td>\n",
              "      <td>-23.759063</td>\n",
              "      <td>3831.472033</td>\n",
              "      <td>3945.673114</td>\n",
              "      <td>9.305850e+11</td>\n",
              "      <td>3867.5</td>\n",
              "      <td>4036.50</td>\n",
              "      <td>4163.5275</td>\n",
              "      <td>4790.945</td>\n",
              "      <td>NaN</td>\n",
              "    </tr>\n",
              "  </tbody>\n",
              "</table>\n",
              "<p>1475 rows × 39 columns</p>\n",
              "</div>"
            ],
            "text/plain": [
              "           date     open     high      low    close   Volume USDT  tradecount  \\\n",
              "124  2017-12-18   707.62   798.88   638.00   784.00  3.279995e+07     40460.0   \n",
              "125  2017-12-19   784.00   864.90   729.01   798.00  5.512397e+07     57020.0   \n",
              "126  2017-12-20   798.00   828.00   661.00   790.21  5.560451e+07     58344.0   \n",
              "127  2017-12-21   794.62   845.99   705.98   782.41  6.205252e+07     57627.0   \n",
              "128  2017-12-22   784.00   796.00   504.99   635.97  9.866181e+07    113138.0   \n",
              "...         ...      ...      ...      ...      ...           ...         ...   \n",
              "1594 2021-12-27  4063.57  4127.46  4031.00  4037.23  9.055884e+08    557284.0   \n",
              "1595 2021-12-28  4037.22  4037.23  3759.36  3792.75  1.393962e+09    846780.0   \n",
              "1596 2021-12-29  3792.75  3827.78  3604.20  3630.19  1.136202e+09    719559.0   \n",
              "1597 2021-12-30  3630.18  3769.10  3585.00  3709.27  9.215378e+08    583361.0   \n",
              "1598 2021-12-31  3709.27  3734.00  3704.40  3725.46  1.209689e+07      7872.0   \n",
              "\n",
              "      High Low Difference  Open Close Difference  Result  ...  MACD_signal  \\\n",
              "124                160.88                 -76.38       0  ...     0.000000   \n",
              "125                135.89                 -14.00       0  ...     0.223362   \n",
              "126                167.00                   7.79       1  ...     0.450220   \n",
              "127                140.01                  12.21       1  ...     0.541906   \n",
              "128                291.01                 148.03       1  ...    -1.793538   \n",
              "...                   ...                    ...     ...  ...          ...   \n",
              "1594                96.46                  26.34       1  ...   -67.892331   \n",
              "1595               277.87                 244.47       1  ...   -66.711373   \n",
              "1596               223.58                 162.56       1  ...   -70.732784   \n",
              "1597               184.10                 -79.09       0  ...   -76.381241   \n",
              "1598                29.60                 -16.19       0  ...   -82.321007   \n",
              "\n",
              "      MACD_histo        EMA_8       EMA_20           OBV  I_tenkan_sen  \\\n",
              "124     0.000000   784.000000   784.000000           NaN           NaN   \n",
              "125     0.893447   787.111111   785.333333  8.792392e+07           NaN   \n",
              "126     0.907431   787.799753   785.797778 -1.435284e+08           NaN   \n",
              "127     0.366744   786.602030   785.475132 -2.055810e+08           NaN   \n",
              "128    -9.341772   753.128246   771.236548 -3.042428e+08           NaN   \n",
              "...          ...          ...          ...           ...           ...   \n",
              "1594   21.948105  4038.567709  4060.171814 -9.271212e+11        3951.5   \n",
              "1595    4.723832  3983.941552  4034.703069 -9.285152e+11        3951.5   \n",
              "1596  -16.085645  3905.330096  3996.178015 -9.296514e+11        3877.1   \n",
              "1597  -22.593827  3861.761186  3968.853442  9.305729e+11        3867.5   \n",
              "1598  -23.759063  3831.472033  3945.673114  9.305850e+11        3867.5   \n",
              "\n",
              "      I_kijun_sen  I_senkou_span_a  I_senkou_span_b  I_chikou_span  \n",
              "124           NaN              NaN              NaN        1291.00  \n",
              "125           NaN              NaN              NaN        1247.00  \n",
              "126           NaN              NaN              NaN        1138.93  \n",
              "127           NaN              NaN              NaN        1253.87  \n",
              "128           NaN              NaN              NaN        1388.02  \n",
              "...           ...              ...              ...            ...  \n",
              "1594      4079.28        4368.1875         4790.945            NaN  \n",
              "1595      4079.28        4368.1875         4790.945            NaN  \n",
              "1596      3995.84        4368.1875         4790.945            NaN  \n",
              "1597      4036.50        4163.5275         4790.945            NaN  \n",
              "1598      4036.50        4163.5275         4790.945            NaN  \n",
              "\n",
              "[1475 rows x 39 columns]"
            ]
          },
          "execution_count": 3,
          "metadata": {},
          "output_type": "execute_result"
        }
      ],
      "source": [
        "processor = DataProcessor(['ETH'])\n",
        "processor.load_data()\n",
        "processor.clean_data('ETH')\n",
        "processor.feature_extraction('ETH')\n",
        "df = processor.get_data('ETH')\n",
        "df\n"
      ]
    },
    {
      "cell_type": "code",
      "execution_count": 5,
      "metadata": {},
      "outputs": [
        {
          "data": {
            "text/plain": [
              "<AxesSubplot:xlabel='date'>"
            ]
          },
          "execution_count": 5,
          "metadata": {},
          "output_type": "execute_result"
        },
        {
          "data": {
            "image/png": "[encoded data removed]",
            "text/plain": [
              "<Figure size 432x288 with 1 Axes>"
            ]
          },
          "metadata": {
            "needs_background": "light"
          },
          "output_type": "display_data"
        },
        {
          "data": {
            "image/png": "[encoded data removed]",
            "text/plain": [
              "<Figure size 432x288 with 1 Axes>"
            ]
          },
          "metadata": {
            "needs_background": "light"
          },
          "output_type": "display_data"
        },
        {
          "data": {
            "image/png": "[encoded data removed]",
            "text/plain": [
              "<Figure size 432x288 with 1 Axes>"
            ]
          },
          "metadata": {
            "needs_background": "light"
          },
          "output_type": "display_data"
        },
        {
          "data": {
            "image/png": "[encoded data removed]",
            "text/plain": [
              "<Figure size 432x288 with 1 Axes>"
            ]
          },
          "metadata": {
            "needs_background": "light"
          },
          "output_type": "display_data"
        },
        {
          "data": {
            "image/png": "[encoded data removed]",
            "text/plain": [
              "<Figure size 432x288 with 1 Axes>"
            ]
          },
          "metadata": {
            "needs_background": "light"
          },
          "output_type": "display_data"
        }
      ],
      "source": [
        "df.plot(x = 'date', y = 'high')\n",
        "df.plot(x = 'date', y = 'Volume USDT')\n",
        "df.plot(x = 'date', y = 'tradecount')\n",
        "df.plot(x = 'date', y = 'High Low Difference')\n",
        "df.plot(x = 'date', y = 'Open Close Difference')"
      ]
    }
  ],
  "metadata": {
    "colab": {
      "name": "dataframe_analysis.ipynb",
      "provenance": []
    },
    "kernelspec": {
      "display_name": "Python 3",
      "name": "python3"
    },
    "language_info": {
      "codemirror_mode": {
        "name": "ipython",
        "version": 3
      },
      "file_extension": ".py",
      "mimetype": "text/x-python",
      "name": "python",
      "nbconvert_exporter": "python",
      "pygments_lexer": "ipython3",
      "version": "3.7.9"
    }
  },
  "nbformat": 4,
  "nbformat_minor": 0
}
